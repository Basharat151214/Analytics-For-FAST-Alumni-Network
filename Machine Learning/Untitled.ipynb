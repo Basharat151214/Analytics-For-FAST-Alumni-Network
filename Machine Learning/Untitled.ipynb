{
 "cells": [
  {
   "cell_type": "code",
   "execution_count": 2,
   "id": "887900f4",
   "metadata": {},
   "outputs": [],
   "source": [
    "import pandas as pd\n",
    "import numpy as np\n",
    "import seaborn as sns\n",
    "import matplotlib.pyplot as plt"
   ]
  },
  {
   "cell_type": "code",
   "execution_count": 8,
   "id": "4a37ed89",
   "metadata": {},
   "outputs": [],
   "source": [
    "df = pd.read_csv(\"./final_Nov.csv\")\n",
    "df = df.iloc[: , 1:]\n"
   ]
  },
  {
   "cell_type": "code",
   "execution_count": 13,
   "id": "ccb8e412",
   "metadata": {},
   "outputs": [
    {
     "data": {
      "text/plain": [
       "207"
      ]
     },
     "execution_count": 13,
     "metadata": {},
     "output_type": "execute_result"
    }
   ],
   "source": [
    "degree_name=df['Last_degree'].unique()\n",
    "degree_name.sort()\n",
    "len(degree_name)\n",
    "#degree_name"
   ]
  },
  {
   "cell_type": "code",
   "execution_count": 651,
   "id": "812cd3c7",
   "metadata": {},
   "outputs": [
    {
     "data": {
      "text/plain": [
       "181"
      ]
     },
     "execution_count": 651,
     "metadata": {},
     "output_type": "execute_result"
    }
   ],
   "source": [
    "df['Last_degree'] = df['Last_degree'].str.lower()\n",
    "df['Last_degree'] = df['Last_degree'].str.strip()\n",
    "df['skills'] = df['skills'].apply(lambda x: x.replace(\"||\", \",\"))\n",
    "df['Last_University'] = df['Last_University'].apply(lambda x: x.replace(\"national university of computer and emerging sciences\", \"fast nuces\"))\n",
    "df['Current_Company'] = df['Current_Company'].apply(lambda x: x.replace(\"national university of computer and emerging sciences\", \"fast nuces\"))\n",
    "\n",
    "\n",
    "df['Last_degree'] = df['Last_degree'].apply(lambda x: x.replace(\"bs\", \"bachelor\"))\n",
    "df['Last_degree'] = df['Last_degree'].apply(lambda x: x.replace(\"ms\", \"master\"))\n",
    "df['Last_degree'] = df['Last_degree'].apply(lambda x: x.replace(\"mphil\", \"master\"))\n",
    "df['Last_degree'] = df['Last_degree'].apply(lambda x: x.replace(\"cs\", \"computer science\"))\n",
    "df['Last_degree'] = df['Last_degree'].apply(lambda x: x.replace(\"conputer\", \"computer\"))\n",
    "df['Last_degree'] = df['Last_degree'].apply(lambda x: x.replace(\"(ee)\", \"electrical engineering\"))\n",
    "df['Last_degree'] = df['Last_degree'].apply(lambda x: x.replace(\"(te)\", \"electrical engineering\"))\n",
    "df['Last_degree'] = df['Last_degree'].apply(lambda x: x.replace(\"bachelor's\", \"bachelor\"))\n",
    "df['Last_degree'] = df['Last_degree'].apply(lambda x: x.replace(\"bachelor’s\", \"bachelor\"))\n",
    "df['Last_degree'] = df['Last_degree'].apply(lambda x: x.replace(\"bachelors\", \"bachelor\"))\n",
    "df['Last_degree'] = df['Last_degree'].apply(lambda x: x.replace(\"b.s\", \"bachelor\"))\n",
    "df['Last_degree'] = df['Last_degree'].apply(lambda x: x.replace(\"bba\", \"bachelor of business adminintration\"))\n",
    "df['Last_degree'] = df['Last_degree'].apply(lambda x: x.replace(\"mastera's\", \"master\"))\n",
    "df['Last_degree'] = df['Last_degree'].apply(lambda x: x.replace(\"master's\", \"master\"))\n",
    "df['Last_degree'] = df['Last_degree'].apply(lambda x: x.replace(\"masters\", \"master\"))\n",
    "df['Last_degree'] = df['Last_degree'].apply(lambda x: x.replace(\"phd\", \"doctor of philosophy\"))\n",
    "df['Last_degree'] = df['Last_degree'].apply(lambda x: x.replace(\"mba\", \"master of business adminintration\"))\n",
    "df['Last_degree'] = df['Last_degree'].apply(lambda x: x.replace(\"accounting and finance\", \"business adminintration\"))\n",
    "df['Last_degree'] = df['Last_degree'].apply(lambda x: x.replace(\"spm\", \"software project management\"))\n",
    "\n",
    "df.Last_degree = df.Last_degree.apply(lambda x: 'bachelor of computer science' if 'bachelor' in x and 'computer' in x else x)\n",
    "df.Last_degree = df.Last_degree.apply(lambda x: 'bachelor electrical engineering' if 'bachelor' in x and 'electrical' in x else x)\n",
    "df.Last_degree = df.Last_degree.apply(lambda x: 'bachelor electrical engineering' if 'bachelor' in x and 'telecommunication' in x else x) \n",
    "\n",
    "df.Last_degree = df.Last_degree.apply(lambda x: 'bachelor of business administration' if 'bachelor' in x and 'administration' in x else x)\n",
    "df.Last_degree = df.Last_degree.apply(lambda x: 'bachelor of business administration' if 'bachelor' in x and 'finance' in x else x)\n",
    "df.Last_degree = df.Last_degree.apply(lambda x: 'master of computer science' if 'master' in x and 'computer' in x else x)\n",
    "df.Last_degree = df.Last_degree.apply(lambda x: 'master of computer science' if 'master' in x and 'technology' in x else x)\n",
    "\n",
    "df.Last_degree = df.Last_degree.apply(lambda x: 'master of business administration' if 'master' in x and 'administration' in x else x)\n",
    "df.Last_degree = df.Last_degree.apply(lambda x: 'master of software project management' if 'master' in x and 'project' in x else x)\n",
    "df.Last_degree = df.Last_degree.apply(lambda x: 'doctor of philosophy' if 'postgradua' in x else x)\n",
    "df.Last_degree = df.Last_degree.apply(lambda x: 'doctor of philosophy' if 'doctor' in x else x)\n",
    "\n",
    "degree_name=df['Last_degree'].unique()\n",
    "degree_name.sort()\n",
    "len(degree_name)\n",
    "#degree_name\n"
   ]
  },
  {
   "cell_type": "code",
   "execution_count": null,
   "id": "24aedaf1",
   "metadata": {},
   "outputs": [],
   "source": []
  },
  {
   "cell_type": "code",
   "execution_count": 652,
   "id": "11b8e335",
   "metadata": {},
   "outputs": [
    {
     "name": "stderr",
     "output_type": "stream",
     "text": [
      "<ipython-input-652-b14e07ecae2c>:1: FutureWarning: The default value of regex will change from True to False in a future version.\n",
      "  df['Last_degree'] = df.Last_degree.str.replace(r'(^.*bachelor.*$)'and '(^.*computer.*$)', 'bachelor of computer science')\n",
      "<ipython-input-652-b14e07ecae2c>:2: FutureWarning: The default value of regex will change from True to False in a future version.\n",
      "  df['Last_degree'] = df.Last_degree.str.replace(r'(^.*bachelor.*$)'and '(^.*electrical.*$)','bachelor electrical engineering')\n",
      "<ipython-input-652-b14e07ecae2c>:4: FutureWarning: The default value of regex will change from True to False in a future version.\n",
      "  df['Last_degree'] = df.Last_degree.str.replace(r'(^.*bachelor.*$)'and '(^.*administration.*$)','bachelor of business administration')\n",
      "<ipython-input-652-b14e07ecae2c>:5: FutureWarning: The default value of regex will change from True to False in a future version.\n",
      "  df['Last_degree'] = df.Last_degree.str.replace(r'(^.*bachelor.*$)'and '(^.*finance.*$)','bachelor of business administration')\n",
      "<ipython-input-652-b14e07ecae2c>:7: FutureWarning: The default value of regex will change from True to False in a future version.\n",
      "  df['Last_degree'] = df.Last_degree.str.replace(r'(^.*master.*$)'and '(^.*administration.*$)', 'master of business administration')\n",
      "<ipython-input-652-b14e07ecae2c>:8: FutureWarning: The default value of regex will change from True to False in a future version.\n",
      "  df['Last_degree'] = df.Last_degree.str.replace(r'(^.*master.*$)'and'(^.*computer.*$)', 'master of computer science')\n",
      "<ipython-input-652-b14e07ecae2c>:9: FutureWarning: The default value of regex will change from True to False in a future version.\n",
      "  df['Last_degree'] = df.Last_degree.str.replace(r'(^.*master.*$)'and'(^.*technology.*$)', 'master of computer science')\n",
      "<ipython-input-652-b14e07ecae2c>:10: FutureWarning: The default value of regex will change from True to False in a future version.\n",
      "  df['Last_degree'] = df.Last_degree.str.replace(r'(^.*master.*$)'and'(^.*project.*$)', 'master of software project management')\n",
      "<ipython-input-652-b14e07ecae2c>:12: FutureWarning: The default value of regex will change from True to False in a future version.\n",
      "  df['Last_degree'] = df.Last_degree.str.replace(r'(^.*postgradua.*$)'or'(^.*philoso.*$)', 'doctor of philosophy')\n",
      "<ipython-input-652-b14e07ecae2c>:13: FutureWarning: The default value of regex will change from True to False in a future version.\n",
      "  df['Last_degree'] = df.Last_degree.str.replace(r'(^.*doctor.*$)', 'doctor of philosophy')\n",
      "<ipython-input-652-b14e07ecae2c>:15: FutureWarning: The default value of regex will change from True to False in a future version.\n",
      "  df['Last_degree'] = df.Last_degree.str.replace(r'(^.*bachelor.*$)'and '(^.*computer.*$)', 'bachelor of computer science')\n",
      "<ipython-input-652-b14e07ecae2c>:16: FutureWarning: The default value of regex will change from True to False in a future version.\n",
      "  df['Last_degree'] = df.Last_degree.str.replace(r'(^.*bachelor.*$)'and '(^.*engineering.*$)', 'bachelor of electrical engineering')\n",
      "<ipython-input-652-b14e07ecae2c>:17: FutureWarning: The default value of regex will change from True to False in a future version.\n",
      "  df['Last_degree'] = df.Last_degree.str.replace(r'(^.*bachelor of science.*$)'or \"(^.*bachelora's degree.*$)\", 'bachelor degree')\n",
      "<ipython-input-652-b14e07ecae2c>:19: FutureWarning: The default value of regex will change from True to False in a future version.\n",
      "  df['Last_degree'] = df.Last_degree.str.replace(r'(^.*master.*$)'and '(^.*administration.*$)', 'master of business administration')\n",
      "<ipython-input-652-b14e07ecae2c>:20: FutureWarning: The default value of regex will change from True to False in a future version.\n",
      "  df['Last_degree'] = df.Last_degree.str.replace(r'(^.*master.*$)'and '(^.*business.*$)'or '(^.*finance.*$)', 'master of business administration')\n",
      "<ipython-input-652-b14e07ecae2c>:21: FutureWarning: The default value of regex will change from True to False in a future version.\n",
      "  df['Last_degree'] = df.Last_degree.str.replace(r'(^.*master.*$)'and '(^.*information.*$)'or '(^.*technology.*$)'or '(^.*comput.*$)', 'master of computer science')\n",
      "<ipython-input-652-b14e07ecae2c>:22: FutureWarning: The default value of regex will change from True to False in a future version.\n",
      "  df['Last_degree'] = df.Last_degree.str.replace(r'(^.*masters of science.*$)'or '(^.*master in science.*$)', 'master degree')\n",
      "<ipython-input-652-b14e07ecae2c>:23: FutureWarning: The default value of regex will change from True to False in a future version.\n",
      "  df['Last_degree'] = df.Last_degree.str.replace(r'(^.*master.*$)'and '(^.*project .*$)', 'master of project managment')\n",
      "<ipython-input-652-b14e07ecae2c>:26: FutureWarning: The default value of regex will change from True to False in a future version.\n",
      "  df['Last_degree'] = df.Last_degree.str.replace(r'(^.*bachelor.*$)'and '(^.*computer.*$)', 'bachelor of computer science')\n",
      "<ipython-input-652-b14e07ecae2c>:27: FutureWarning: The default value of regex will change from True to False in a future version.\n",
      "  df['Last_degree'] = df.Last_degree.str.replace(r'(^.*bachelor.*$)'and '(^.*engineering.*$)', 'bachelor of electrical engineering')\n",
      "<ipython-input-652-b14e07ecae2c>:28: FutureWarning: The default value of regex will change from True to False in a future version.\n",
      "  df['Last_degree'] = df.Last_degree.str.replace(r'(^.*bachelor of science.*$)'or \"(^.*bachelora's degree.*$)\", 'bachelor degree')\n",
      "<ipython-input-652-b14e07ecae2c>:30: FutureWarning: The default value of regex will change from True to False in a future version.\n",
      "  df['Last_degree'] = df.Last_degree.str.replace(r'(^.*master.*$)'and '(^.*administration.*$)', 'master of business administration')\n",
      "<ipython-input-652-b14e07ecae2c>:31: FutureWarning: The default value of regex will change from True to False in a future version.\n",
      "  df['Last_degree'] = df.Last_degree.str.replace(r'(^.*master.*$)'and '(^.*business.*$)'or '(^.*finance.*$)', 'master of business administration')\n",
      "<ipython-input-652-b14e07ecae2c>:32: FutureWarning: The default value of regex will change from True to False in a future version.\n",
      "  df['Last_degree'] = df.Last_degree.str.replace(r'(^.*master.*$)'and '(^.*information.*$)'or '(^.*technology.*$)'or '(^.*comput.*$)', 'master of computer science')\n",
      "<ipython-input-652-b14e07ecae2c>:33: FutureWarning: The default value of regex will change from True to False in a future version.\n",
      "  df['Last_degree'] = df.Last_degree.str.replace(r'(^.*masters of science.*$)'or '(^.*master in science.*$)', 'master degree')\n",
      "<ipython-input-652-b14e07ecae2c>:34: FutureWarning: The default value of regex will change from True to False in a future version.\n",
      "  df['Last_degree'] = df.Last_degree.str.replace(r'(^.*master.*$)'and '(^.*project .*$)', 'master of project managment')\n",
      "<ipython-input-652-b14e07ecae2c>:36: FutureWarning: The default value of regex will change from True to False in a future version.\n",
      "  df['Last_degree'] = df.Last_degree.str.replace(r'(^.*master of science.*$)', 'master degree')\n"
     ]
    }
   ],
   "source": [
    "\n",
    "df['Last_degree'] = df.Last_degree.str.replace(r'(^.*bachelor.*$)'and '(^.*computer.*$)', 'bachelor of computer science')\n",
    "df['Last_degree'] = df.Last_degree.str.replace(r'(^.*bachelor.*$)'and '(^.*electrical.*$)','bachelor electrical engineering')\n",
    "\n",
    "df['Last_degree'] = df.Last_degree.str.replace(r'(^.*bachelor.*$)'and '(^.*administration.*$)','bachelor of business administration')\n",
    "df['Last_degree'] = df.Last_degree.str.replace(r'(^.*bachelor.*$)'and '(^.*finance.*$)','bachelor of business administration')\n",
    "\n",
    "df['Last_degree'] = df.Last_degree.str.replace(r'(^.*master.*$)'and '(^.*administration.*$)', 'master of business administration')\n",
    "df['Last_degree'] = df.Last_degree.str.replace(r'(^.*master.*$)'and'(^.*computer.*$)', 'master of computer science')\n",
    "df['Last_degree'] = df.Last_degree.str.replace(r'(^.*master.*$)'and'(^.*technology.*$)', 'master of computer science')\n",
    "df['Last_degree'] = df.Last_degree.str.replace(r'(^.*master.*$)'and'(^.*project.*$)', 'master of software project management')\n",
    "\n",
    "df['Last_degree'] = df.Last_degree.str.replace(r'(^.*postgradua.*$)'or'(^.*philoso.*$)', 'doctor of philosophy')\n",
    "df['Last_degree'] = df.Last_degree.str.replace(r'(^.*doctor.*$)', 'doctor of philosophy')\n",
    "\n",
    "df['Last_degree'] = df.Last_degree.str.replace(r'(^.*bachelor.*$)'and '(^.*computer.*$)', 'bachelor of computer science')\n",
    "df['Last_degree'] = df.Last_degree.str.replace(r'(^.*bachelor.*$)'and '(^.*engineering.*$)', 'bachelor of electrical engineering')\n",
    "df['Last_degree'] = df.Last_degree.str.replace(r'(^.*bachelor of science.*$)'or \"(^.*bachelora's degree.*$)\", 'bachelor degree')\n",
    "\n",
    "df['Last_degree'] = df.Last_degree.str.replace(r'(^.*master.*$)'and '(^.*administration.*$)', 'master of business administration')\n",
    "df['Last_degree'] = df.Last_degree.str.replace(r'(^.*master.*$)'and '(^.*business.*$)'or '(^.*finance.*$)', 'master of business administration')\n",
    "df['Last_degree'] = df.Last_degree.str.replace(r'(^.*master.*$)'and '(^.*information.*$)'or '(^.*technology.*$)'or '(^.*comput.*$)', 'master of computer science')\n",
    "df['Last_degree'] = df.Last_degree.str.replace(r'(^.*masters of science.*$)'or '(^.*master in science.*$)', 'master degree')\n",
    "df['Last_degree'] = df.Last_degree.str.replace(r'(^.*master.*$)'and '(^.*project .*$)', 'master of project managment')\n",
    "\n",
    "\n",
    "df['Last_degree'] = df.Last_degree.str.replace(r'(^.*bachelor.*$)'and '(^.*computer.*$)', 'bachelor of computer science')\n",
    "df['Last_degree'] = df.Last_degree.str.replace(r'(^.*bachelor.*$)'and '(^.*engineering.*$)', 'bachelor of electrical engineering')\n",
    "df['Last_degree'] = df.Last_degree.str.replace(r'(^.*bachelor of science.*$)'or \"(^.*bachelora's degree.*$)\", 'bachelor degree')\n",
    "\n",
    "df['Last_degree'] = df.Last_degree.str.replace(r'(^.*master.*$)'and '(^.*administration.*$)', 'master of business administration')\n",
    "df['Last_degree'] = df.Last_degree.str.replace(r'(^.*master.*$)'and '(^.*business.*$)'or '(^.*finance.*$)', 'master of business administration')\n",
    "df['Last_degree'] = df.Last_degree.str.replace(r'(^.*master.*$)'and '(^.*information.*$)'or '(^.*technology.*$)'or '(^.*comput.*$)', 'master of computer science')\n",
    "df['Last_degree'] = df.Last_degree.str.replace(r'(^.*masters of science.*$)'or '(^.*master in science.*$)', 'master degree')\n",
    "df['Last_degree'] = df.Last_degree.str.replace(r'(^.*master.*$)'and '(^.*project .*$)', 'master of project managment')\n",
    "\n",
    "df['Last_degree'] = df.Last_degree.str.replace(r'(^.*master of science.*$)', 'master degree')\n"
   ]
  },
  {
   "cell_type": "code",
   "execution_count": 653,
   "id": "5c380b0e",
   "metadata": {},
   "outputs": [
    {
     "data": {
      "text/plain": [
       "116"
      ]
     },
     "execution_count": 653,
     "metadata": {},
     "output_type": "execute_result"
    }
   ],
   "source": [
    "degree_name=df['Last_degree'].unique()\n",
    "degree_name.sort()\n",
    "len(degree_name)\n",
    "#degree_name"
   ]
  },
  {
   "cell_type": "code",
   "execution_count": 654,
   "id": "d657b823",
   "metadata": {},
   "outputs": [
    {
     "data": {
      "text/plain": [
       "array(['40th specalized training program (stp)', 'a levels', 'acca',\n",
       "       'acca affiliate',\n",
       "       'applied data science with python specialization',\n",
       "       \"associate's degree\", 'bachelor', 'bachelor degree',\n",
       "       'bachelor of applied science (b.a.sc.)',\n",
       "       'bachelor of computer science', 'bachelor of education - bed',\n",
       "       'bachelor of electrical engineering', \"bachelor's degree\",\n",
       "       'bachelor(ce)', 'bachelor-af',\n",
       "       \"bachelora's artificial intelligence\", \"bachelora's degree\",\n",
       "       'bachelorc', 'bachelorc.', 'bachelorte', 'bacherlors', 'be',\n",
       "       \"bechelor's\", 'bechlors',\n",
       "       'building leaders of tomorrow - coaching, leadership and strategy',\n",
       "       'career prep fellow', 'certificate', 'certification',\n",
       "       'certified professional development course',\n",
       "       'certified supply chain professional', 'cfa', 'cfa candidate',\n",
       "       'chartered financial analyst', 'cima strategic level',\n",
       "       'complete machine learning and data science: zero to mastery your progress',\n",
       "       'cosi', 'data science', 'data science and decision making',\n",
       "       'data scientist nanodegree', 'database',\n",
       "       'deep learning nanodegree', 'digital marketing nano degree',\n",
       "       'diploma', 'doctor of philosophy', \"engineera's degree\",\n",
       "       'engineer’s degree', 'entrepreneurship',\n",
       "       'entrepreneurship/entrepreneurial studies',\n",
       "       'executive diploma in human resource management', 'fcca',\n",
       "       'financial analysis', 'fsc', 'full stack web development',\n",
       "       'fundamental of sciences', 'google ux design', 'grad',\n",
       "       'high school',\n",
       "       'i will be graduated from fast by 2017 inshallah ðÿ˜‡',\n",
       "       'intermediate', 'international certificate in entrepreneurship',\n",
       "       'jaibp', 'leadership course', 'm.c.s', 'm.sc',\n",
       "       'management development program', 'marketing', 'mas', 'master',\n",
       "       'master (a\\t&f)', 'master career counselling & education',\n",
       "       'master data science', 'master degree',\n",
       "       'master degree, data science, high distinction', 'master hrm',\n",
       "       'master in science', 'master of business administration',\n",
       "       'master of communication & cultural studies',\n",
       "       'master of computing', 'master of philosophy - master',\n",
       "       'master of project managment', 'master pm', 'master(a&f)',\n",
       "       'master(data science)', 'master(data sciene)', 'master(ds)',\n",
       "       'master(se)', 'master-cn', 'master-te', 'masterc',\n",
       "       'masterc computing', 'masterc financial management',\n",
       "       'masterc in innovation and entrepreneurship',\n",
       "       'masterc marketing and strategy', 'masterc.', 'masterds',\n",
       "       'master’s degree', 'matriculation', 'micromaster', 'none', 'other',\n",
       "       'product masterclass: how to build digital products',\n",
       "       'professional short course', 'react developer',\n",
       "       'react nano degree', 'react nanodegree',\n",
       "       'redc - executive learning', 'short course', 'specialization',\n",
       "       'specialization in full stack development with react',\n",
       "       'specialization mooc, software product management',\n",
       "       'taqadam accelerator program', 'taqadam accelerator programme',\n",
       "       'undergraduate bachelor', 'usa',\n",
       "       'web and mobile app design and development',\n",
       "       \"yc's startup school program\"], dtype=object)"
      ]
     },
     "execution_count": 654,
     "metadata": {},
     "output_type": "execute_result"
    }
   ],
   "source": [
    "degree_name=df['Last_degree'].unique()\n",
    "degree_name.sort()\n",
    "len(degree_name)\n",
    "degree_name"
   ]
  },
  {
   "cell_type": "code",
   "execution_count": null,
   "id": "45019351",
   "metadata": {},
   "outputs": [],
   "source": []
  },
  {
   "cell_type": "code",
   "execution_count": null,
   "id": "b2e65e6a",
   "metadata": {},
   "outputs": [],
   "source": []
  },
  {
   "cell_type": "code",
   "execution_count": null,
   "id": "949e491e",
   "metadata": {},
   "outputs": [],
   "source": []
  },
  {
   "cell_type": "code",
   "execution_count": null,
   "id": "8f5851d4",
   "metadata": {},
   "outputs": [],
   "source": []
  },
  {
   "cell_type": "code",
   "execution_count": null,
   "id": "f580ca01",
   "metadata": {},
   "outputs": [],
   "source": []
  },
  {
   "cell_type": "code",
   "execution_count": null,
   "id": "146bfc85",
   "metadata": {},
   "outputs": [],
   "source": []
  },
  {
   "cell_type": "code",
   "execution_count": null,
   "id": "c467df20",
   "metadata": {},
   "outputs": [],
   "source": []
  },
  {
   "cell_type": "code",
   "execution_count": 655,
   "id": "72eda67a",
   "metadata": {},
   "outputs": [
    {
     "data": {
      "text/plain": [
       "bachelor degree                                         40.834505\n",
       "master of business administration                       14.627286\n",
       "master degree                                           13.267698\n",
       "bachelor of computer science                            12.845757\n",
       "bachelor                                                 3.984998\n",
       "master                                                   2.390999\n",
       "bachelor of electrical engineering                       2.062822\n",
       "bachelora's degree                                       1.640881\n",
       "master of project managment                              0.984529\n",
       "doctor of philosophy                                     0.843882\n",
       "master’s degree                                          0.515706\n",
       "intermediate                                             0.328176\n",
       "matriculation                                            0.234412\n",
       "master data science                                      0.187529\n",
       "fsc                                                      0.140647\n",
       "master of philosophy - master                            0.140647\n",
       "masterc                                                  0.140647\n",
       "micromaster                                              0.093765\n",
       "cfa                                                      0.093765\n",
       "a levels                                                 0.093765\n",
       "short course                                             0.093765\n",
       "specialization                                           0.046882\n",
       "none                                                     0.046882\n",
       "i will be graduated from fast by 2017 inshallah ðÿ˜‡     0.046882\n",
       "be                                                       0.046882\n",
       "Name: Last_degree, dtype: float64"
      ]
     },
     "execution_count": 655,
     "metadata": {},
     "output_type": "execute_result"
    }
   ],
   "source": [
    "#Looking into the percentages of each last degree earned \n",
    "#df['Last_degree'].value_counts(normalize=True) * 100..head(5)\n",
    "df['Last_degree'].value_counts(normalize=True)[:25]* 100\n",
    "#eduF['deg'].unique()"
   ]
  },
  {
   "cell_type": "code",
   "execution_count": 656,
   "id": "d242be4d",
   "metadata": {},
   "outputs": [
    {
     "data": {
      "image/png": "[encoded data removed]",
      "text/plain": [
       "<Figure size 432x288 with 1 Axes>"
      ]
     },
     "metadata": {},
     "output_type": "display_data"
    }
   ],
   "source": [
    "pie = df['Last_degree'].value_counts()[:4].plot(kind=\"pie\", autopct='%1.1f%%', labels=None)\n"
   ]
  },
  {
   "cell_type": "code",
   "execution_count": null,
   "id": "335d4bec",
   "metadata": {},
   "outputs": [],
   "source": []
  },
  {
   "cell_type": "code",
   "execution_count": null,
   "id": "513a5601",
   "metadata": {},
   "outputs": [],
   "source": []
  },
  {
   "cell_type": "code",
   "execution_count": 657,
   "id": "d15ad0e6",
   "metadata": {},
   "outputs": [
    {
     "data": {
      "image/png": "[encoded data removed]",
      "text/plain": [
       "<Figure size 432x288 with 1 Axes>"
      ]
     },
     "metadata": {
      "needs_background": "light"
     },
     "output_type": "display_data"
    }
   ],
   "source": [
    "\n",
    "#!pip install wordcloud\n",
    "from wordcloud import WordCloud \n",
    "\n",
    "all_words = ' '.join( twts for twts in df['Current_Job'] )\n",
    "wordCloud = WordCloud(width = 500, height = 300, random_state = 21, max_font_size = 120).generate(all_words)\n",
    "plt.imshow(wordCloud, interpolation = \"bilinear\")\n",
    "plt.axis('off')\n",
    "plt.show()"
   ]
  },
  {
   "cell_type": "code",
   "execution_count": 658,
   "id": "d298a19b",
   "metadata": {},
   "outputs": [
    {
     "ename": "KeyError",
     "evalue": "'B'",
     "output_type": "error",
     "traceback": [
      "\u001b[1;31m---------------------------------------------------------------------------\u001b[0m",
      "\u001b[1;31mKeyError\u001b[0m                                  Traceback (most recent call last)",
      "\u001b[1;32mC:\\ProgramData\\Anaconda3\\lib\\site-packages\\pandas\\core\\indexes\\base.py\u001b[0m in \u001b[0;36mget_loc\u001b[1;34m(self, key, method, tolerance)\u001b[0m\n\u001b[0;32m   3079\u001b[0m             \u001b[1;32mtry\u001b[0m\u001b[1;33m:\u001b[0m\u001b[1;33m\u001b[0m\u001b[1;33m\u001b[0m\u001b[0m\n\u001b[1;32m-> 3080\u001b[1;33m                 \u001b[1;32mreturn\u001b[0m \u001b[0mself\u001b[0m\u001b[1;33m.\u001b[0m\u001b[0m_engine\u001b[0m\u001b[1;33m.\u001b[0m\u001b[0mget_loc\u001b[0m\u001b[1;33m(\u001b[0m\u001b[0mcasted_key\u001b[0m\u001b[1;33m)\u001b[0m\u001b[1;33m\u001b[0m\u001b[1;33m\u001b[0m\u001b[0m\n\u001b[0m\u001b[0;32m   3081\u001b[0m             \u001b[1;32mexcept\u001b[0m \u001b[0mKeyError\u001b[0m \u001b[1;32mas\u001b[0m \u001b[0merr\u001b[0m\u001b[1;33m:\u001b[0m\u001b[1;33m\u001b[0m\u001b[1;33m\u001b[0m\u001b[0m\n",
      "\u001b[1;32mpandas\\_libs\\index.pyx\u001b[0m in \u001b[0;36mpandas._libs.index.IndexEngine.get_loc\u001b[1;34m()\u001b[0m\n",
      "\u001b[1;32mpandas\\_libs\\index.pyx\u001b[0m in \u001b[0;36mpandas._libs.index.IndexEngine.get_loc\u001b[1;34m()\u001b[0m\n",
      "\u001b[1;32mpandas\\_libs\\hashtable_class_helper.pxi\u001b[0m in \u001b[0;36mpandas._libs.hashtable.PyObjectHashTable.get_item\u001b[1;34m()\u001b[0m\n",
      "\u001b[1;32mpandas\\_libs\\hashtable_class_helper.pxi\u001b[0m in \u001b[0;36mpandas._libs.hashtable.PyObjectHashTable.get_item\u001b[1;34m()\u001b[0m\n",
      "\u001b[1;31mKeyError\u001b[0m: 'B'",
      "\nThe above exception was the direct cause of the following exception:\n",
      "\u001b[1;31mKeyError\u001b[0m                                  Traceback (most recent call last)",
      "\u001b[1;32m<ipython-input-658-5d4aa3abbb6f>\u001b[0m in \u001b[0;36m<module>\u001b[1;34m\u001b[0m\n\u001b[0;32m      6\u001b[0m     \u001b[0mzoom_start\u001b[0m\u001b[1;33m=\u001b[0m\u001b[1;36m1\u001b[0m\u001b[1;33m,\u001b[0m\u001b[1;33m\u001b[0m\u001b[1;33m\u001b[0m\u001b[0m\n\u001b[0;32m      7\u001b[0m )\n\u001b[1;32m----> 8\u001b[1;33m \u001b[0mdf\u001b[0m\u001b[1;33m.\u001b[0m\u001b[0mapply\u001b[0m\u001b[1;33m(\u001b[0m\u001b[1;32mlambda\u001b[0m \u001b[0mrow\u001b[0m\u001b[1;33m:\u001b[0m\u001b[0mfolium\u001b[0m\u001b[1;33m.\u001b[0m\u001b[0mCircleMarker\u001b[0m\u001b[1;33m(\u001b[0m\u001b[0mlocation\u001b[0m\u001b[1;33m=\u001b[0m\u001b[1;33m[\u001b[0m\u001b[0mrow\u001b[0m\u001b[1;33m[\u001b[0m\u001b[1;34m\"B\"\u001b[0m\u001b[1;33m]\u001b[0m\u001b[1;33m,\u001b[0m \u001b[0mrow\u001b[0m\u001b[1;33m[\u001b[0m\u001b[1;34m\"A\"\u001b[0m\u001b[1;33m]\u001b[0m\u001b[1;33m]\u001b[0m\u001b[1;33m)\u001b[0m\u001b[1;33m.\u001b[0m\u001b[0madd_to\u001b[0m\u001b[1;33m(\u001b[0m\u001b[0mmap1\u001b[0m\u001b[1;33m)\u001b[0m\u001b[1;33m,\u001b[0m \u001b[0maxis\u001b[0m\u001b[1;33m=\u001b[0m\u001b[1;36m1\u001b[0m\u001b[1;33m)\u001b[0m\u001b[1;33m\u001b[0m\u001b[1;33m\u001b[0m\u001b[0m\n\u001b[0m\u001b[0;32m      9\u001b[0m \u001b[0mmap1\u001b[0m\u001b[1;33m\u001b[0m\u001b[1;33m\u001b[0m\u001b[0m\n",
      "\u001b[1;32mC:\\ProgramData\\Anaconda3\\lib\\site-packages\\pandas\\core\\frame.py\u001b[0m in \u001b[0;36mapply\u001b[1;34m(self, func, axis, raw, result_type, args, **kwds)\u001b[0m\n\u001b[0;32m   7766\u001b[0m             \u001b[0mkwds\u001b[0m\u001b[1;33m=\u001b[0m\u001b[0mkwds\u001b[0m\u001b[1;33m,\u001b[0m\u001b[1;33m\u001b[0m\u001b[1;33m\u001b[0m\u001b[0m\n\u001b[0;32m   7767\u001b[0m         )\n\u001b[1;32m-> 7768\u001b[1;33m         \u001b[1;32mreturn\u001b[0m \u001b[0mop\u001b[0m\u001b[1;33m.\u001b[0m\u001b[0mget_result\u001b[0m\u001b[1;33m(\u001b[0m\u001b[1;33m)\u001b[0m\u001b[1;33m\u001b[0m\u001b[1;33m\u001b[0m\u001b[0m\n\u001b[0m\u001b[0;32m   7769\u001b[0m \u001b[1;33m\u001b[0m\u001b[0m\n\u001b[0;32m   7770\u001b[0m     \u001b[1;32mdef\u001b[0m \u001b[0mapplymap\u001b[0m\u001b[1;33m(\u001b[0m\u001b[0mself\u001b[0m\u001b[1;33m,\u001b[0m \u001b[0mfunc\u001b[0m\u001b[1;33m,\u001b[0m \u001b[0mna_action\u001b[0m\u001b[1;33m:\u001b[0m \u001b[0mOptional\u001b[0m\u001b[1;33m[\u001b[0m\u001b[0mstr\u001b[0m\u001b[1;33m]\u001b[0m \u001b[1;33m=\u001b[0m \u001b[1;32mNone\u001b[0m\u001b[1;33m)\u001b[0m \u001b[1;33m->\u001b[0m \u001b[0mDataFrame\u001b[0m\u001b[1;33m:\u001b[0m\u001b[1;33m\u001b[0m\u001b[1;33m\u001b[0m\u001b[0m\n",
      "\u001b[1;32mC:\\ProgramData\\Anaconda3\\lib\\site-packages\\pandas\\core\\apply.py\u001b[0m in \u001b[0;36mget_result\u001b[1;34m(self)\u001b[0m\n\u001b[0;32m    183\u001b[0m             \u001b[1;32mreturn\u001b[0m \u001b[0mself\u001b[0m\u001b[1;33m.\u001b[0m\u001b[0mapply_raw\u001b[0m\u001b[1;33m(\u001b[0m\u001b[1;33m)\u001b[0m\u001b[1;33m\u001b[0m\u001b[1;33m\u001b[0m\u001b[0m\n\u001b[0;32m    184\u001b[0m \u001b[1;33m\u001b[0m\u001b[0m\n\u001b[1;32m--> 185\u001b[1;33m         \u001b[1;32mreturn\u001b[0m \u001b[0mself\u001b[0m\u001b[1;33m.\u001b[0m\u001b[0mapply_standard\u001b[0m\u001b[1;33m(\u001b[0m\u001b[1;33m)\u001b[0m\u001b[1;33m\u001b[0m\u001b[1;33m\u001b[0m\u001b[0m\n\u001b[0m\u001b[0;32m    186\u001b[0m \u001b[1;33m\u001b[0m\u001b[0m\n\u001b[0;32m    187\u001b[0m     \u001b[1;32mdef\u001b[0m \u001b[0mapply_empty_result\u001b[0m\u001b[1;33m(\u001b[0m\u001b[0mself\u001b[0m\u001b[1;33m)\u001b[0m\u001b[1;33m:\u001b[0m\u001b[1;33m\u001b[0m\u001b[1;33m\u001b[0m\u001b[0m\n",
      "\u001b[1;32mC:\\ProgramData\\Anaconda3\\lib\\site-packages\\pandas\\core\\apply.py\u001b[0m in \u001b[0;36mapply_standard\u001b[1;34m(self)\u001b[0m\n\u001b[0;32m    274\u001b[0m \u001b[1;33m\u001b[0m\u001b[0m\n\u001b[0;32m    275\u001b[0m     \u001b[1;32mdef\u001b[0m \u001b[0mapply_standard\u001b[0m\u001b[1;33m(\u001b[0m\u001b[0mself\u001b[0m\u001b[1;33m)\u001b[0m\u001b[1;33m:\u001b[0m\u001b[1;33m\u001b[0m\u001b[1;33m\u001b[0m\u001b[0m\n\u001b[1;32m--> 276\u001b[1;33m         \u001b[0mresults\u001b[0m\u001b[1;33m,\u001b[0m \u001b[0mres_index\u001b[0m \u001b[1;33m=\u001b[0m \u001b[0mself\u001b[0m\u001b[1;33m.\u001b[0m\u001b[0mapply_series_generator\u001b[0m\u001b[1;33m(\u001b[0m\u001b[1;33m)\u001b[0m\u001b[1;33m\u001b[0m\u001b[1;33m\u001b[0m\u001b[0m\n\u001b[0m\u001b[0;32m    277\u001b[0m \u001b[1;33m\u001b[0m\u001b[0m\n\u001b[0;32m    278\u001b[0m         \u001b[1;31m# wrap results\u001b[0m\u001b[1;33m\u001b[0m\u001b[1;33m\u001b[0m\u001b[1;33m\u001b[0m\u001b[0m\n",
      "\u001b[1;32mC:\\ProgramData\\Anaconda3\\lib\\site-packages\\pandas\\core\\apply.py\u001b[0m in \u001b[0;36mapply_series_generator\u001b[1;34m(self)\u001b[0m\n\u001b[0;32m    288\u001b[0m             \u001b[1;32mfor\u001b[0m \u001b[0mi\u001b[0m\u001b[1;33m,\u001b[0m \u001b[0mv\u001b[0m \u001b[1;32min\u001b[0m \u001b[0menumerate\u001b[0m\u001b[1;33m(\u001b[0m\u001b[0mseries_gen\u001b[0m\u001b[1;33m)\u001b[0m\u001b[1;33m:\u001b[0m\u001b[1;33m\u001b[0m\u001b[1;33m\u001b[0m\u001b[0m\n\u001b[0;32m    289\u001b[0m                 \u001b[1;31m# ignore SettingWithCopy here in case the user mutates\u001b[0m\u001b[1;33m\u001b[0m\u001b[1;33m\u001b[0m\u001b[1;33m\u001b[0m\u001b[0m\n\u001b[1;32m--> 290\u001b[1;33m                 \u001b[0mresults\u001b[0m\u001b[1;33m[\u001b[0m\u001b[0mi\u001b[0m\u001b[1;33m]\u001b[0m \u001b[1;33m=\u001b[0m \u001b[0mself\u001b[0m\u001b[1;33m.\u001b[0m\u001b[0mf\u001b[0m\u001b[1;33m(\u001b[0m\u001b[0mv\u001b[0m\u001b[1;33m)\u001b[0m\u001b[1;33m\u001b[0m\u001b[1;33m\u001b[0m\u001b[0m\n\u001b[0m\u001b[0;32m    291\u001b[0m                 \u001b[1;32mif\u001b[0m \u001b[0misinstance\u001b[0m\u001b[1;33m(\u001b[0m\u001b[0mresults\u001b[0m\u001b[1;33m[\u001b[0m\u001b[0mi\u001b[0m\u001b[1;33m]\u001b[0m\u001b[1;33m,\u001b[0m \u001b[0mABCSeries\u001b[0m\u001b[1;33m)\u001b[0m\u001b[1;33m:\u001b[0m\u001b[1;33m\u001b[0m\u001b[1;33m\u001b[0m\u001b[0m\n\u001b[0;32m    292\u001b[0m                     \u001b[1;31m# If we have a view on v, we need to make a copy because\u001b[0m\u001b[1;33m\u001b[0m\u001b[1;33m\u001b[0m\u001b[1;33m\u001b[0m\u001b[0m\n",
      "\u001b[1;32m<ipython-input-658-5d4aa3abbb6f>\u001b[0m in \u001b[0;36m<lambda>\u001b[1;34m(row)\u001b[0m\n\u001b[0;32m      6\u001b[0m     \u001b[0mzoom_start\u001b[0m\u001b[1;33m=\u001b[0m\u001b[1;36m1\u001b[0m\u001b[1;33m,\u001b[0m\u001b[1;33m\u001b[0m\u001b[1;33m\u001b[0m\u001b[0m\n\u001b[0;32m      7\u001b[0m )\n\u001b[1;32m----> 8\u001b[1;33m \u001b[0mdf\u001b[0m\u001b[1;33m.\u001b[0m\u001b[0mapply\u001b[0m\u001b[1;33m(\u001b[0m\u001b[1;32mlambda\u001b[0m \u001b[0mrow\u001b[0m\u001b[1;33m:\u001b[0m\u001b[0mfolium\u001b[0m\u001b[1;33m.\u001b[0m\u001b[0mCircleMarker\u001b[0m\u001b[1;33m(\u001b[0m\u001b[0mlocation\u001b[0m\u001b[1;33m=\u001b[0m\u001b[1;33m[\u001b[0m\u001b[0mrow\u001b[0m\u001b[1;33m[\u001b[0m\u001b[1;34m\"B\"\u001b[0m\u001b[1;33m]\u001b[0m\u001b[1;33m,\u001b[0m \u001b[0mrow\u001b[0m\u001b[1;33m[\u001b[0m\u001b[1;34m\"A\"\u001b[0m\u001b[1;33m]\u001b[0m\u001b[1;33m]\u001b[0m\u001b[1;33m)\u001b[0m\u001b[1;33m.\u001b[0m\u001b[0madd_to\u001b[0m\u001b[1;33m(\u001b[0m\u001b[0mmap1\u001b[0m\u001b[1;33m)\u001b[0m\u001b[1;33m,\u001b[0m \u001b[0maxis\u001b[0m\u001b[1;33m=\u001b[0m\u001b[1;36m1\u001b[0m\u001b[1;33m)\u001b[0m\u001b[1;33m\u001b[0m\u001b[1;33m\u001b[0m\u001b[0m\n\u001b[0m\u001b[0;32m      9\u001b[0m \u001b[0mmap1\u001b[0m\u001b[1;33m\u001b[0m\u001b[1;33m\u001b[0m\u001b[0m\n",
      "\u001b[1;32mC:\\ProgramData\\Anaconda3\\lib\\site-packages\\pandas\\core\\series.py\u001b[0m in \u001b[0;36m__getitem__\u001b[1;34m(self, key)\u001b[0m\n\u001b[0;32m    851\u001b[0m \u001b[1;33m\u001b[0m\u001b[0m\n\u001b[0;32m    852\u001b[0m         \u001b[1;32melif\u001b[0m \u001b[0mkey_is_scalar\u001b[0m\u001b[1;33m:\u001b[0m\u001b[1;33m\u001b[0m\u001b[1;33m\u001b[0m\u001b[0m\n\u001b[1;32m--> 853\u001b[1;33m             \u001b[1;32mreturn\u001b[0m \u001b[0mself\u001b[0m\u001b[1;33m.\u001b[0m\u001b[0m_get_value\u001b[0m\u001b[1;33m(\u001b[0m\u001b[0mkey\u001b[0m\u001b[1;33m)\u001b[0m\u001b[1;33m\u001b[0m\u001b[1;33m\u001b[0m\u001b[0m\n\u001b[0m\u001b[0;32m    854\u001b[0m \u001b[1;33m\u001b[0m\u001b[0m\n\u001b[0;32m    855\u001b[0m         \u001b[1;32mif\u001b[0m \u001b[0mis_hashable\u001b[0m\u001b[1;33m(\u001b[0m\u001b[0mkey\u001b[0m\u001b[1;33m)\u001b[0m\u001b[1;33m:\u001b[0m\u001b[1;33m\u001b[0m\u001b[1;33m\u001b[0m\u001b[0m\n",
      "\u001b[1;32mC:\\ProgramData\\Anaconda3\\lib\\site-packages\\pandas\\core\\series.py\u001b[0m in \u001b[0;36m_get_value\u001b[1;34m(self, label, takeable)\u001b[0m\n\u001b[0;32m    959\u001b[0m \u001b[1;33m\u001b[0m\u001b[0m\n\u001b[0;32m    960\u001b[0m         \u001b[1;31m# Similar to Index.get_value, but we do not fall back to positional\u001b[0m\u001b[1;33m\u001b[0m\u001b[1;33m\u001b[0m\u001b[1;33m\u001b[0m\u001b[0m\n\u001b[1;32m--> 961\u001b[1;33m         \u001b[0mloc\u001b[0m \u001b[1;33m=\u001b[0m \u001b[0mself\u001b[0m\u001b[1;33m.\u001b[0m\u001b[0mindex\u001b[0m\u001b[1;33m.\u001b[0m\u001b[0mget_loc\u001b[0m\u001b[1;33m(\u001b[0m\u001b[0mlabel\u001b[0m\u001b[1;33m)\u001b[0m\u001b[1;33m\u001b[0m\u001b[1;33m\u001b[0m\u001b[0m\n\u001b[0m\u001b[0;32m    962\u001b[0m         \u001b[1;32mreturn\u001b[0m \u001b[0mself\u001b[0m\u001b[1;33m.\u001b[0m\u001b[0mindex\u001b[0m\u001b[1;33m.\u001b[0m\u001b[0m_get_values_for_loc\u001b[0m\u001b[1;33m(\u001b[0m\u001b[0mself\u001b[0m\u001b[1;33m,\u001b[0m \u001b[0mloc\u001b[0m\u001b[1;33m,\u001b[0m \u001b[0mlabel\u001b[0m\u001b[1;33m)\u001b[0m\u001b[1;33m\u001b[0m\u001b[1;33m\u001b[0m\u001b[0m\n\u001b[0;32m    963\u001b[0m \u001b[1;33m\u001b[0m\u001b[0m\n",
      "\u001b[1;32mC:\\ProgramData\\Anaconda3\\lib\\site-packages\\pandas\\core\\indexes\\base.py\u001b[0m in \u001b[0;36mget_loc\u001b[1;34m(self, key, method, tolerance)\u001b[0m\n\u001b[0;32m   3080\u001b[0m                 \u001b[1;32mreturn\u001b[0m \u001b[0mself\u001b[0m\u001b[1;33m.\u001b[0m\u001b[0m_engine\u001b[0m\u001b[1;33m.\u001b[0m\u001b[0mget_loc\u001b[0m\u001b[1;33m(\u001b[0m\u001b[0mcasted_key\u001b[0m\u001b[1;33m)\u001b[0m\u001b[1;33m\u001b[0m\u001b[1;33m\u001b[0m\u001b[0m\n\u001b[0;32m   3081\u001b[0m             \u001b[1;32mexcept\u001b[0m \u001b[0mKeyError\u001b[0m \u001b[1;32mas\u001b[0m \u001b[0merr\u001b[0m\u001b[1;33m:\u001b[0m\u001b[1;33m\u001b[0m\u001b[1;33m\u001b[0m\u001b[0m\n\u001b[1;32m-> 3082\u001b[1;33m                 \u001b[1;32mraise\u001b[0m \u001b[0mKeyError\u001b[0m\u001b[1;33m(\u001b[0m\u001b[0mkey\u001b[0m\u001b[1;33m)\u001b[0m \u001b[1;32mfrom\u001b[0m \u001b[0merr\u001b[0m\u001b[1;33m\u001b[0m\u001b[1;33m\u001b[0m\u001b[0m\n\u001b[0m\u001b[0;32m   3083\u001b[0m \u001b[1;33m\u001b[0m\u001b[0m\n\u001b[0;32m   3084\u001b[0m         \u001b[1;32mif\u001b[0m \u001b[0mtolerance\u001b[0m \u001b[1;32mis\u001b[0m \u001b[1;32mnot\u001b[0m \u001b[1;32mNone\u001b[0m\u001b[1;33m:\u001b[0m\u001b[1;33m\u001b[0m\u001b[1;33m\u001b[0m\u001b[0m\n",
      "\u001b[1;31mKeyError\u001b[0m: 'B'"
     ]
    }
   ],
   "source": [
    "#!pip install folium\n",
    "import folium\n",
    "map1 = folium.Map(\n",
    "    location=[59.338315,18.089960],\n",
    "    tiles='cartodbpositron',\n",
    "    zoom_start=1,\n",
    ")\n",
    "df.apply(lambda row:folium.CircleMarker(location=[row[\"B\"], row[\"A\"]]).add_to(map1), axis=1)\n",
    "map1"
   ]
  },
  {
   "cell_type": "code",
   "execution_count": null,
   "id": "f37fdf11",
   "metadata": {},
   "outputs": [],
   "source": []
  },
  {
   "cell_type": "code",
   "execution_count": null,
   "id": "77b1cfe9",
   "metadata": {},
   "outputs": [],
   "source": []
  },
  {
   "cell_type": "code",
   "execution_count": null,
   "id": "fe878e92",
   "metadata": {},
   "outputs": [],
   "source": []
  },
  {
   "cell_type": "code",
   "execution_count": null,
   "id": "aebc7896",
   "metadata": {},
   "outputs": [],
   "source": []
  },
  {
   "cell_type": "code",
   "execution_count": 659,
   "id": "80a05d7d",
   "metadata": {},
   "outputs": [
    {
     "ename": "KeyError",
     "evalue": "'suppLast_degree'",
     "output_type": "error",
     "traceback": [
      "\u001b[1;31m---------------------------------------------------------------------------\u001b[0m",
      "\u001b[1;31mKeyError\u001b[0m                                  Traceback (most recent call last)",
      "\u001b[1;32mC:\\ProgramData\\Anaconda3\\lib\\site-packages\\pandas\\core\\indexes\\base.py\u001b[0m in \u001b[0;36mget_loc\u001b[1;34m(self, key, method, tolerance)\u001b[0m\n\u001b[0;32m   3079\u001b[0m             \u001b[1;32mtry\u001b[0m\u001b[1;33m:\u001b[0m\u001b[1;33m\u001b[0m\u001b[1;33m\u001b[0m\u001b[0m\n\u001b[1;32m-> 3080\u001b[1;33m                 \u001b[1;32mreturn\u001b[0m \u001b[0mself\u001b[0m\u001b[1;33m.\u001b[0m\u001b[0m_engine\u001b[0m\u001b[1;33m.\u001b[0m\u001b[0mget_loc\u001b[0m\u001b[1;33m(\u001b[0m\u001b[0mcasted_key\u001b[0m\u001b[1;33m)\u001b[0m\u001b[1;33m\u001b[0m\u001b[1;33m\u001b[0m\u001b[0m\n\u001b[0m\u001b[0;32m   3081\u001b[0m             \u001b[1;32mexcept\u001b[0m \u001b[0mKeyError\u001b[0m \u001b[1;32mas\u001b[0m \u001b[0merr\u001b[0m\u001b[1;33m:\u001b[0m\u001b[1;33m\u001b[0m\u001b[1;33m\u001b[0m\u001b[0m\n",
      "\u001b[1;32mpandas\\_libs\\index.pyx\u001b[0m in \u001b[0;36mpandas._libs.index.IndexEngine.get_loc\u001b[1;34m()\u001b[0m\n",
      "\u001b[1;32mpandas\\_libs\\index.pyx\u001b[0m in \u001b[0;36mpandas._libs.index.IndexEngine.get_loc\u001b[1;34m()\u001b[0m\n",
      "\u001b[1;32mpandas\\_libs\\hashtable_class_helper.pxi\u001b[0m in \u001b[0;36mpandas._libs.hashtable.PyObjectHashTable.get_item\u001b[1;34m()\u001b[0m\n",
      "\u001b[1;32mpandas\\_libs\\hashtable_class_helper.pxi\u001b[0m in \u001b[0;36mpandas._libs.hashtable.PyObjectHashTable.get_item\u001b[1;34m()\u001b[0m\n",
      "\u001b[1;31mKeyError\u001b[0m: 'suppLast_degree'",
      "\nThe above exception was the direct cause of the following exception:\n",
      "\u001b[1;31mKeyError\u001b[0m                                  Traceback (most recent call last)",
      "\u001b[1;32m<ipython-input-659-fe4d282ded0c>\u001b[0m in \u001b[0;36m<module>\u001b[1;34m\u001b[0m\n\u001b[1;32m----> 1\u001b[1;33m \u001b[0mdf\u001b[0m\u001b[1;33m[\u001b[0m\u001b[1;34m'suppLast_degree'\u001b[0m\u001b[1;33m]\u001b[0m\u001b[1;33m[\u001b[0m\u001b[0mdf\u001b[0m\u001b[1;33m.\u001b[0m\u001b[0mname\u001b[0m\u001b[1;33m.\u001b[0m\u001b[0mstr\u001b[0m\u001b[1;33m.\u001b[0m\u001b[0mcontains\u001b[0m\u001b[1;33m(\u001b[0m\u001b[1;34m'ba'\u001b[0m\u001b[1;33m+\u001b[0m\u001b[1;34m'cs'\u001b[0m\u001b[1;33m)\u001b[0m\u001b[1;33m]\u001b[0m \u001b[1;33m=\u001b[0m \u001b[1;34m'bachelor of computer science'\u001b[0m\u001b[1;33m\u001b[0m\u001b[1;33m\u001b[0m\u001b[0m\n\u001b[0m",
      "\u001b[1;32mC:\\ProgramData\\Anaconda3\\lib\\site-packages\\pandas\\core\\frame.py\u001b[0m in \u001b[0;36m__getitem__\u001b[1;34m(self, key)\u001b[0m\n\u001b[0;32m   3022\u001b[0m             \u001b[1;32mif\u001b[0m \u001b[0mself\u001b[0m\u001b[1;33m.\u001b[0m\u001b[0mcolumns\u001b[0m\u001b[1;33m.\u001b[0m\u001b[0mnlevels\u001b[0m \u001b[1;33m>\u001b[0m \u001b[1;36m1\u001b[0m\u001b[1;33m:\u001b[0m\u001b[1;33m\u001b[0m\u001b[1;33m\u001b[0m\u001b[0m\n\u001b[0;32m   3023\u001b[0m                 \u001b[1;32mreturn\u001b[0m \u001b[0mself\u001b[0m\u001b[1;33m.\u001b[0m\u001b[0m_getitem_multilevel\u001b[0m\u001b[1;33m(\u001b[0m\u001b[0mkey\u001b[0m\u001b[1;33m)\u001b[0m\u001b[1;33m\u001b[0m\u001b[1;33m\u001b[0m\u001b[0m\n\u001b[1;32m-> 3024\u001b[1;33m             \u001b[0mindexer\u001b[0m \u001b[1;33m=\u001b[0m \u001b[0mself\u001b[0m\u001b[1;33m.\u001b[0m\u001b[0mcolumns\u001b[0m\u001b[1;33m.\u001b[0m\u001b[0mget_loc\u001b[0m\u001b[1;33m(\u001b[0m\u001b[0mkey\u001b[0m\u001b[1;33m)\u001b[0m\u001b[1;33m\u001b[0m\u001b[1;33m\u001b[0m\u001b[0m\n\u001b[0m\u001b[0;32m   3025\u001b[0m             \u001b[1;32mif\u001b[0m \u001b[0mis_integer\u001b[0m\u001b[1;33m(\u001b[0m\u001b[0mindexer\u001b[0m\u001b[1;33m)\u001b[0m\u001b[1;33m:\u001b[0m\u001b[1;33m\u001b[0m\u001b[1;33m\u001b[0m\u001b[0m\n\u001b[0;32m   3026\u001b[0m                 \u001b[0mindexer\u001b[0m \u001b[1;33m=\u001b[0m \u001b[1;33m[\u001b[0m\u001b[0mindexer\u001b[0m\u001b[1;33m]\u001b[0m\u001b[1;33m\u001b[0m\u001b[1;33m\u001b[0m\u001b[0m\n",
      "\u001b[1;32mC:\\ProgramData\\Anaconda3\\lib\\site-packages\\pandas\\core\\indexes\\base.py\u001b[0m in \u001b[0;36mget_loc\u001b[1;34m(self, key, method, tolerance)\u001b[0m\n\u001b[0;32m   3080\u001b[0m                 \u001b[1;32mreturn\u001b[0m \u001b[0mself\u001b[0m\u001b[1;33m.\u001b[0m\u001b[0m_engine\u001b[0m\u001b[1;33m.\u001b[0m\u001b[0mget_loc\u001b[0m\u001b[1;33m(\u001b[0m\u001b[0mcasted_key\u001b[0m\u001b[1;33m)\u001b[0m\u001b[1;33m\u001b[0m\u001b[1;33m\u001b[0m\u001b[0m\n\u001b[0;32m   3081\u001b[0m             \u001b[1;32mexcept\u001b[0m \u001b[0mKeyError\u001b[0m \u001b[1;32mas\u001b[0m \u001b[0merr\u001b[0m\u001b[1;33m:\u001b[0m\u001b[1;33m\u001b[0m\u001b[1;33m\u001b[0m\u001b[0m\n\u001b[1;32m-> 3082\u001b[1;33m                 \u001b[1;32mraise\u001b[0m \u001b[0mKeyError\u001b[0m\u001b[1;33m(\u001b[0m\u001b[0mkey\u001b[0m\u001b[1;33m)\u001b[0m \u001b[1;32mfrom\u001b[0m \u001b[0merr\u001b[0m\u001b[1;33m\u001b[0m\u001b[1;33m\u001b[0m\u001b[0m\n\u001b[0m\u001b[0;32m   3083\u001b[0m \u001b[1;33m\u001b[0m\u001b[0m\n\u001b[0;32m   3084\u001b[0m         \u001b[1;32mif\u001b[0m \u001b[0mtolerance\u001b[0m \u001b[1;32mis\u001b[0m \u001b[1;32mnot\u001b[0m \u001b[1;32mNone\u001b[0m\u001b[1;33m:\u001b[0m\u001b[1;33m\u001b[0m\u001b[1;33m\u001b[0m\u001b[0m\n",
      "\u001b[1;31mKeyError\u001b[0m: 'suppLast_degree'"
     ]
    }
   ],
   "source": [
    " df['suppLast_degree'][df.name.str.contains('ba'+'cs')] = 'bachelor of computer science'\n"
   ]
  },
  {
   "cell_type": "code",
   "execution_count": 661,
   "id": "734ca6e5",
   "metadata": {},
   "outputs": [],
   "source": [
    "df.to_csv('data_after_preprocess.csv')\n"
   ]
  },
  {
   "cell_type": "code",
   "execution_count": null,
   "id": "4a12c594",
   "metadata": {},
   "outputs": [],
   "source": []
  },
  {
   "cell_type": "code",
   "execution_count": 668,
   "id": "c3c4dc22",
   "metadata": {},
   "outputs": [],
   "source": []
  },
  {
   "cell_type": "markdown",
   "id": "61d927ca",
   "metadata": {},
   "source": [
    "# Alumni-data-clustering-k-modes-clustering"
   ]
  },
  {
   "cell_type": "code",
   "execution_count": 672,
   "id": "7b3d3283",
   "metadata": {},
   "outputs": [],
   "source": [
    "df1 = pd.read_csv(\"./data_after_preprocess.csv\")\n"
   ]
  },
  {
   "cell_type": "markdown",
   "id": "4497d697",
   "metadata": {},
   "source": [
    "# Model Building"
   ]
  },
  {
   "cell_type": "code",
   "execution_count": 673,
   "id": "59cf8bb7",
   "metadata": {},
   "outputs": [],
   "source": [
    "# First we will keep a copy of data\n",
    "df1_copy = df1.copy()"
   ]
  },
  {
   "cell_type": "code",
   "execution_count": 14,
   "id": "73e1f824",
   "metadata": {},
   "outputs": [
    {
     "ename": "NameError",
     "evalue": "name 'df1' is not defined",
     "output_type": "error",
     "traceback": [
      "\u001b[1;31m---------------------------------------------------------------------------\u001b[0m",
      "\u001b[1;31mNameError\u001b[0m                                 Traceback (most recent call last)",
      "\u001b[1;32m<ipython-input-14-a1ccec7302d7>\u001b[0m in \u001b[0;36m<module>\u001b[1;34m\u001b[0m\n\u001b[0;32m      1\u001b[0m \u001b[1;32mfrom\u001b[0m \u001b[0msklearn\u001b[0m \u001b[1;32mimport\u001b[0m \u001b[0mpreprocessing\u001b[0m\u001b[1;33m\u001b[0m\u001b[1;33m\u001b[0m\u001b[0m\n\u001b[0;32m      2\u001b[0m \u001b[0mle\u001b[0m \u001b[1;33m=\u001b[0m \u001b[0mpreprocessing\u001b[0m\u001b[1;33m.\u001b[0m\u001b[0mLabelEncoder\u001b[0m\u001b[1;33m(\u001b[0m\u001b[1;33m)\u001b[0m\u001b[1;33m\u001b[0m\u001b[1;33m\u001b[0m\u001b[0m\n\u001b[1;32m----> 3\u001b[1;33m \u001b[0mdf1\u001b[0m \u001b[1;33m=\u001b[0m \u001b[0mdf1\u001b[0m\u001b[1;33m.\u001b[0m\u001b[0mapply\u001b[0m\u001b[1;33m(\u001b[0m\u001b[0mle\u001b[0m\u001b[1;33m.\u001b[0m\u001b[0mfit_transform\u001b[0m\u001b[1;33m)\u001b[0m\u001b[1;33m\u001b[0m\u001b[1;33m\u001b[0m\u001b[0m\n\u001b[0m\u001b[0;32m      4\u001b[0m \u001b[0mdf1\u001b[0m\u001b[1;33m\u001b[0m\u001b[1;33m\u001b[0m\u001b[0m\n",
      "\u001b[1;31mNameError\u001b[0m: name 'df1' is not defined"
     ]
    }
   ],
   "source": [
    "from sklearn import preprocessing\n",
    "le = preprocessing.LabelEncoder()\n",
    "df1 = df1.apply(le.fit_transform)\n",
    "df1"
   ]
  },
  {
   "cell_type": "code",
   "execution_count": 677,
   "id": "d6faf58f",
   "metadata": {},
   "outputs": [],
   "source": [
    "# Importing Libraries\n",
    "#!pip install kmodes\n",
    "from kmodes.kmodes import KModes"
   ]
  },
  {
   "cell_type": "markdown",
   "id": "7d57cab9",
   "metadata": {},
   "source": [
    "# #Using K-Mode with \"Cao\" initialization¶\n"
   ]
  },
  {
   "cell_type": "code",
   "execution_count": 679,
   "id": "5671ad64",
   "metadata": {},
   "outputs": [
    {
     "name": "stdout",
     "output_type": "stream",
     "text": [
      "Init: initializing centroids\n",
      "Init: initializing clusters\n",
      "Starting iterations...\n",
      "Run 1, iteration: 1/100, moves: 0, cost: 20242.0\n"
     ]
    }
   ],
   "source": [
    "km_cao = KModes(n_clusters=2, init = \"Cao\", n_init = 1, verbose=1)\n",
    "fitClusters_cao = km_cao.fit_predict(df1)"
   ]
  },
  {
   "cell_type": "code",
   "execution_count": 680,
   "id": "9ba54f5f",
   "metadata": {},
   "outputs": [
    {
     "data": {
      "text/plain": [
       "array([0, 0, 0, ..., 0, 0, 0], dtype=uint16)"
      ]
     },
     "execution_count": 680,
     "metadata": {},
     "output_type": "execute_result"
    }
   ],
   "source": [
    "# Predicted Clusters\n",
    "fitClusters_cao"
   ]
  },
  {
   "cell_type": "code",
   "execution_count": 682,
   "id": "9df6625a",
   "metadata": {},
   "outputs": [],
   "source": [
    "clusterCentroidsDf = pd.DataFrame(km_cao.cluster_centroids_)\n",
    "clusterCentroidsDf.columns = df1.columns"
   ]
  },
  {
   "cell_type": "code",
   "execution_count": 683,
   "id": "04edc4d0",
   "metadata": {},
   "outputs": [
    {
     "data": {
      "text/html": [
       "<div>\n",
       "<style scoped>\n",
       "    .dataframe tbody tr th:only-of-type {\n",
       "        vertical-align: middle;\n",
       "    }\n",
       "\n",
       "    .dataframe tbody tr th {\n",
       "        vertical-align: top;\n",
       "    }\n",
       "\n",
       "    .dataframe thead th {\n",
       "        text-align: right;\n",
       "    }\n",
       "</style>\n",
       "<table border=\"1\" class=\"dataframe\">\n",
       "  <thead>\n",
       "    <tr style=\"text-align: right;\">\n",
       "      <th></th>\n",
       "      <th>Unnamed: 0</th>\n",
       "      <th>Name</th>\n",
       "      <th>Current_Company</th>\n",
       "      <th>Current_Job</th>\n",
       "      <th>Total_year</th>\n",
       "      <th>job_location</th>\n",
       "      <th>Last_degree</th>\n",
       "      <th>Graduation_start_year</th>\n",
       "      <th>Graduation_end_year</th>\n",
       "      <th>Last_University</th>\n",
       "      <th>ProfileIDS</th>\n",
       "      <th>skills</th>\n",
       "    </tr>\n",
       "  </thead>\n",
       "  <tbody>\n",
       "    <tr>\n",
       "      <th>0</th>\n",
       "      <td>0</td>\n",
       "      <td>1188</td>\n",
       "      <td>369</td>\n",
       "      <td>705</td>\n",
       "      <td>209</td>\n",
       "      <td>106</td>\n",
       "      <td>7</td>\n",
       "      <td>23</td>\n",
       "      <td>25</td>\n",
       "      <td>39</td>\n",
       "      <td>0</td>\n",
       "      <td>0</td>\n",
       "    </tr>\n",
       "    <tr>\n",
       "      <th>1</th>\n",
       "      <td>3</td>\n",
       "      <td>606</td>\n",
       "      <td>34</td>\n",
       "      <td>705</td>\n",
       "      <td>413</td>\n",
       "      <td>98</td>\n",
       "      <td>7</td>\n",
       "      <td>24</td>\n",
       "      <td>26</td>\n",
       "      <td>39</td>\n",
       "      <td>7</td>\n",
       "      <td>1</td>\n",
       "    </tr>\n",
       "  </tbody>\n",
       "</table>\n",
       "</div>"
      ],
      "text/plain": [
       "   Unnamed: 0  Name  Current_Company  Current_Job  Total_year  job_location  \\\n",
       "0           0  1188              369          705         209           106   \n",
       "1           3   606               34          705         413            98   \n",
       "\n",
       "   Last_degree  Graduation_start_year  Graduation_end_year  Last_University  \\\n",
       "0            7                     23                   25               39   \n",
       "1            7                     24                   26               39   \n",
       "\n",
       "   ProfileIDS  skills  \n",
       "0           0       0  \n",
       "1           7       1  "
      ]
     },
     "execution_count": 683,
     "metadata": {},
     "output_type": "execute_result"
    }
   ],
   "source": [
    "# Mode of the clusters\n",
    "clusterCentroidsDf"
   ]
  },
  {
   "cell_type": "markdown",
   "id": "e6a29fe0",
   "metadata": {},
   "source": [
    "# Using K-Mode with \"Huang\" initialization¶\n"
   ]
  },
  {
   "cell_type": "code",
   "execution_count": 684,
   "id": "d7886999",
   "metadata": {},
   "outputs": [
    {
     "name": "stdout",
     "output_type": "stream",
     "text": [
      "Init: initializing centroids\n",
      "Init: initializing clusters\n",
      "Starting iterations...\n",
      "Run 1, iteration: 1/100, moves: 361, cost: 20172.0\n",
      "Run 1, iteration: 2/100, moves: 146, cost: 20172.0\n"
     ]
    }
   ],
   "source": [
    "km_huang = KModes(n_clusters=2, init = \"Huang\", n_init = 1, verbose=1)\n",
    "fitClusters_huang = km_huang.fit_predict(df1)"
   ]
  },
  {
   "cell_type": "code",
   "execution_count": 685,
   "id": "786319cd",
   "metadata": {},
   "outputs": [
    {
     "data": {
      "text/plain": [
       "array([0, 0, 0, ..., 0, 0, 0], dtype=uint16)"
      ]
     },
     "execution_count": 685,
     "metadata": {},
     "output_type": "execute_result"
    }
   ],
   "source": [
    "# Predicted clusters\n",
    "fitClusters_huang"
   ]
  },
  {
   "cell_type": "markdown",
   "id": "322e8a7d",
   "metadata": {},
   "source": [
    "# Choosing K by comparing Cost against each K\n"
   ]
  },
  {
   "cell_type": "code",
   "execution_count": 686,
   "id": "f0ee7208",
   "metadata": {},
   "outputs": [
    {
     "name": "stdout",
     "output_type": "stream",
     "text": [
      "Init: initializing centroids\n",
      "Init: initializing clusters\n",
      "Starting iterations...\n",
      "Run 1, iteration: 1/100, moves: 0, cost: 20845.0\n",
      "Init: initializing centroids\n",
      "Init: initializing clusters\n",
      "Starting iterations...\n",
      "Run 1, iteration: 1/100, moves: 0, cost: 20242.0\n",
      "Init: initializing centroids\n",
      "Init: initializing clusters\n",
      "Starting iterations...\n",
      "Run 1, iteration: 1/100, moves: 16, cost: 19710.0\n",
      "Init: initializing centroids\n",
      "Init: initializing clusters\n",
      "Starting iterations...\n",
      "Run 1, iteration: 1/100, moves: 31, cost: 19401.0\n"
     ]
    }
   ],
   "source": [
    "cost = []\n",
    "for num_clusters in list(range(1,5)):\n",
    "    kmode = KModes(n_clusters=num_clusters, init = \"Cao\", n_init = 1, verbose=1)\n",
    "    kmode.fit_predict(df1)\n",
    "    cost.append(kmode.cost_)"
   ]
  },
  {
   "cell_type": "code",
   "execution_count": 687,
   "id": "eb177ecf",
   "metadata": {},
   "outputs": [
    {
     "data": {
      "text/plain": [
       "[<matplotlib.lines.Line2D at 0x1684356dd90>]"
      ]
     },
     "execution_count": 687,
     "metadata": {},
     "output_type": "execute_result"
    },
    {
     "data": {
      "image/png": "[encoded data removed]",
      "text/plain": [
       "<Figure size 432x288 with 1 Axes>"
      ]
     },
     "metadata": {
      "needs_background": "light"
     },
     "output_type": "display_data"
    }
   ],
   "source": [
    "y = np.array([i for i in range(1,5,1)])\n",
    "plt.plot(y,cost)"
   ]
  },
  {
   "cell_type": "markdown",
   "id": "7e3db7b2",
   "metadata": {},
   "source": [
    "## Choosing K=2\n"
   ]
  },
  {
   "cell_type": "code",
   "execution_count": 688,
   "id": "b467de60",
   "metadata": {},
   "outputs": [
    {
     "name": "stdout",
     "output_type": "stream",
     "text": [
      "Init: initializing centroids\n",
      "Init: initializing clusters\n",
      "Starting iterations...\n",
      "Run 1, iteration: 1/100, moves: 0, cost: 20242.0\n"
     ]
    }
   ],
   "source": [
    "km_cao = KModes(n_clusters=2, init = \"Cao\", n_init = 1, verbose=1)\n",
    "fitClusters_cao = km_cao.fit_predict(df1)"
   ]
  },
  {
   "cell_type": "code",
   "execution_count": 689,
   "id": "f1ec2218",
   "metadata": {},
   "outputs": [
    {
     "data": {
      "text/plain": [
       "array([0, 0, 0, ..., 0, 0, 0], dtype=uint16)"
      ]
     },
     "execution_count": 689,
     "metadata": {},
     "output_type": "execute_result"
    }
   ],
   "source": [
    "fitClusters_cao"
   ]
  },
  {
   "cell_type": "code",
   "execution_count": 692,
   "id": "d86cae35",
   "metadata": {},
   "outputs": [],
   "source": [
    "#Combining the predicted clusters with the original DF.¶\n",
    "\n",
    "\n",
    "bank_cust = df1_copy.reset_index()"
   ]
  },
  {
   "cell_type": "code",
   "execution_count": 693,
   "id": "ebc0d811",
   "metadata": {},
   "outputs": [
    {
     "ename": "KeyError",
     "evalue": "\"['level_0'] not found in axis\"",
     "output_type": "error",
     "traceback": [
      "\u001b[1;31m---------------------------------------------------------------------------\u001b[0m",
      "\u001b[1;31mKeyError\u001b[0m                                  Traceback (most recent call last)",
      "\u001b[1;32m<ipython-input-693-a822724c080e>\u001b[0m in \u001b[0;36m<module>\u001b[1;34m\u001b[0m\n\u001b[0;32m      2\u001b[0m \u001b[0mclustersDf\u001b[0m\u001b[1;33m.\u001b[0m\u001b[0mcolumns\u001b[0m \u001b[1;33m=\u001b[0m \u001b[1;33m[\u001b[0m\u001b[1;34m'cluster_predicted'\u001b[0m\u001b[1;33m]\u001b[0m\u001b[1;33m\u001b[0m\u001b[1;33m\u001b[0m\u001b[0m\n\u001b[0;32m      3\u001b[0m \u001b[0mcombinedDf\u001b[0m \u001b[1;33m=\u001b[0m \u001b[0mpd\u001b[0m\u001b[1;33m.\u001b[0m\u001b[0mconcat\u001b[0m\u001b[1;33m(\u001b[0m\u001b[1;33m[\u001b[0m\u001b[0mdf1\u001b[0m\u001b[1;33m,\u001b[0m \u001b[0mclustersDf\u001b[0m\u001b[1;33m]\u001b[0m\u001b[1;33m,\u001b[0m \u001b[0maxis\u001b[0m \u001b[1;33m=\u001b[0m \u001b[1;36m1\u001b[0m\u001b[1;33m)\u001b[0m\u001b[1;33m.\u001b[0m\u001b[0mreset_index\u001b[0m\u001b[1;33m(\u001b[0m\u001b[1;33m)\u001b[0m\u001b[1;33m\u001b[0m\u001b[1;33m\u001b[0m\u001b[0m\n\u001b[1;32m----> 4\u001b[1;33m \u001b[0mcombinedDf\u001b[0m \u001b[1;33m=\u001b[0m \u001b[0mcombinedDf\u001b[0m\u001b[1;33m.\u001b[0m\u001b[0mdrop\u001b[0m\u001b[1;33m(\u001b[0m\u001b[1;33m[\u001b[0m\u001b[1;34m'index'\u001b[0m\u001b[1;33m,\u001b[0m \u001b[1;34m'level_0'\u001b[0m\u001b[1;33m]\u001b[0m\u001b[1;33m,\u001b[0m \u001b[0maxis\u001b[0m \u001b[1;33m=\u001b[0m \u001b[1;36m1\u001b[0m\u001b[1;33m)\u001b[0m\u001b[1;33m\u001b[0m\u001b[1;33m\u001b[0m\u001b[0m\n\u001b[0m",
      "\u001b[1;32mC:\\ProgramData\\Anaconda3\\lib\\site-packages\\pandas\\core\\frame.py\u001b[0m in \u001b[0;36mdrop\u001b[1;34m(self, labels, axis, index, columns, level, inplace, errors)\u001b[0m\n\u001b[0;32m   4306\u001b[0m                 \u001b[0mweight\u001b[0m  \u001b[1;36m1.0\u001b[0m     \u001b[1;36m0.8\u001b[0m\u001b[1;33m\u001b[0m\u001b[1;33m\u001b[0m\u001b[0m\n\u001b[0;32m   4307\u001b[0m         \"\"\"\n\u001b[1;32m-> 4308\u001b[1;33m         return super().drop(\n\u001b[0m\u001b[0;32m   4309\u001b[0m             \u001b[0mlabels\u001b[0m\u001b[1;33m=\u001b[0m\u001b[0mlabels\u001b[0m\u001b[1;33m,\u001b[0m\u001b[1;33m\u001b[0m\u001b[1;33m\u001b[0m\u001b[0m\n\u001b[0;32m   4310\u001b[0m             \u001b[0maxis\u001b[0m\u001b[1;33m=\u001b[0m\u001b[0maxis\u001b[0m\u001b[1;33m,\u001b[0m\u001b[1;33m\u001b[0m\u001b[1;33m\u001b[0m\u001b[0m\n",
      "\u001b[1;32mC:\\ProgramData\\Anaconda3\\lib\\site-packages\\pandas\\core\\generic.py\u001b[0m in \u001b[0;36mdrop\u001b[1;34m(self, labels, axis, index, columns, level, inplace, errors)\u001b[0m\n\u001b[0;32m   4151\u001b[0m         \u001b[1;32mfor\u001b[0m \u001b[0maxis\u001b[0m\u001b[1;33m,\u001b[0m \u001b[0mlabels\u001b[0m \u001b[1;32min\u001b[0m \u001b[0maxes\u001b[0m\u001b[1;33m.\u001b[0m\u001b[0mitems\u001b[0m\u001b[1;33m(\u001b[0m\u001b[1;33m)\u001b[0m\u001b[1;33m:\u001b[0m\u001b[1;33m\u001b[0m\u001b[1;33m\u001b[0m\u001b[0m\n\u001b[0;32m   4152\u001b[0m             \u001b[1;32mif\u001b[0m \u001b[0mlabels\u001b[0m \u001b[1;32mis\u001b[0m \u001b[1;32mnot\u001b[0m \u001b[1;32mNone\u001b[0m\u001b[1;33m:\u001b[0m\u001b[1;33m\u001b[0m\u001b[1;33m\u001b[0m\u001b[0m\n\u001b[1;32m-> 4153\u001b[1;33m                 \u001b[0mobj\u001b[0m \u001b[1;33m=\u001b[0m \u001b[0mobj\u001b[0m\u001b[1;33m.\u001b[0m\u001b[0m_drop_axis\u001b[0m\u001b[1;33m(\u001b[0m\u001b[0mlabels\u001b[0m\u001b[1;33m,\u001b[0m \u001b[0maxis\u001b[0m\u001b[1;33m,\u001b[0m \u001b[0mlevel\u001b[0m\u001b[1;33m=\u001b[0m\u001b[0mlevel\u001b[0m\u001b[1;33m,\u001b[0m \u001b[0merrors\u001b[0m\u001b[1;33m=\u001b[0m\u001b[0merrors\u001b[0m\u001b[1;33m)\u001b[0m\u001b[1;33m\u001b[0m\u001b[1;33m\u001b[0m\u001b[0m\n\u001b[0m\u001b[0;32m   4154\u001b[0m \u001b[1;33m\u001b[0m\u001b[0m\n\u001b[0;32m   4155\u001b[0m         \u001b[1;32mif\u001b[0m \u001b[0minplace\u001b[0m\u001b[1;33m:\u001b[0m\u001b[1;33m\u001b[0m\u001b[1;33m\u001b[0m\u001b[0m\n",
      "\u001b[1;32mC:\\ProgramData\\Anaconda3\\lib\\site-packages\\pandas\\core\\generic.py\u001b[0m in \u001b[0;36m_drop_axis\u001b[1;34m(self, labels, axis, level, errors)\u001b[0m\n\u001b[0;32m   4186\u001b[0m                 \u001b[0mnew_axis\u001b[0m \u001b[1;33m=\u001b[0m \u001b[0maxis\u001b[0m\u001b[1;33m.\u001b[0m\u001b[0mdrop\u001b[0m\u001b[1;33m(\u001b[0m\u001b[0mlabels\u001b[0m\u001b[1;33m,\u001b[0m \u001b[0mlevel\u001b[0m\u001b[1;33m=\u001b[0m\u001b[0mlevel\u001b[0m\u001b[1;33m,\u001b[0m \u001b[0merrors\u001b[0m\u001b[1;33m=\u001b[0m\u001b[0merrors\u001b[0m\u001b[1;33m)\u001b[0m\u001b[1;33m\u001b[0m\u001b[1;33m\u001b[0m\u001b[0m\n\u001b[0;32m   4187\u001b[0m             \u001b[1;32melse\u001b[0m\u001b[1;33m:\u001b[0m\u001b[1;33m\u001b[0m\u001b[1;33m\u001b[0m\u001b[0m\n\u001b[1;32m-> 4188\u001b[1;33m                 \u001b[0mnew_axis\u001b[0m \u001b[1;33m=\u001b[0m \u001b[0maxis\u001b[0m\u001b[1;33m.\u001b[0m\u001b[0mdrop\u001b[0m\u001b[1;33m(\u001b[0m\u001b[0mlabels\u001b[0m\u001b[1;33m,\u001b[0m \u001b[0merrors\u001b[0m\u001b[1;33m=\u001b[0m\u001b[0merrors\u001b[0m\u001b[1;33m)\u001b[0m\u001b[1;33m\u001b[0m\u001b[1;33m\u001b[0m\u001b[0m\n\u001b[0m\u001b[0;32m   4189\u001b[0m             \u001b[0mresult\u001b[0m \u001b[1;33m=\u001b[0m \u001b[0mself\u001b[0m\u001b[1;33m.\u001b[0m\u001b[0mreindex\u001b[0m\u001b[1;33m(\u001b[0m\u001b[1;33m**\u001b[0m\u001b[1;33m{\u001b[0m\u001b[0maxis_name\u001b[0m\u001b[1;33m:\u001b[0m \u001b[0mnew_axis\u001b[0m\u001b[1;33m}\u001b[0m\u001b[1;33m)\u001b[0m\u001b[1;33m\u001b[0m\u001b[1;33m\u001b[0m\u001b[0m\n\u001b[0;32m   4190\u001b[0m \u001b[1;33m\u001b[0m\u001b[0m\n",
      "\u001b[1;32mC:\\ProgramData\\Anaconda3\\lib\\site-packages\\pandas\\core\\indexes\\base.py\u001b[0m in \u001b[0;36mdrop\u001b[1;34m(self, labels, errors)\u001b[0m\n\u001b[0;32m   5589\u001b[0m         \u001b[1;32mif\u001b[0m \u001b[0mmask\u001b[0m\u001b[1;33m.\u001b[0m\u001b[0many\u001b[0m\u001b[1;33m(\u001b[0m\u001b[1;33m)\u001b[0m\u001b[1;33m:\u001b[0m\u001b[1;33m\u001b[0m\u001b[1;33m\u001b[0m\u001b[0m\n\u001b[0;32m   5590\u001b[0m             \u001b[1;32mif\u001b[0m \u001b[0merrors\u001b[0m \u001b[1;33m!=\u001b[0m \u001b[1;34m\"ignore\"\u001b[0m\u001b[1;33m:\u001b[0m\u001b[1;33m\u001b[0m\u001b[1;33m\u001b[0m\u001b[0m\n\u001b[1;32m-> 5591\u001b[1;33m                 \u001b[1;32mraise\u001b[0m \u001b[0mKeyError\u001b[0m\u001b[1;33m(\u001b[0m\u001b[1;34mf\"{labels[mask]} not found in axis\"\u001b[0m\u001b[1;33m)\u001b[0m\u001b[1;33m\u001b[0m\u001b[1;33m\u001b[0m\u001b[0m\n\u001b[0m\u001b[0;32m   5592\u001b[0m             \u001b[0mindexer\u001b[0m \u001b[1;33m=\u001b[0m \u001b[0mindexer\u001b[0m\u001b[1;33m[\u001b[0m\u001b[1;33m~\u001b[0m\u001b[0mmask\u001b[0m\u001b[1;33m]\u001b[0m\u001b[1;33m\u001b[0m\u001b[1;33m\u001b[0m\u001b[0m\n\u001b[0;32m   5593\u001b[0m         \u001b[1;32mreturn\u001b[0m \u001b[0mself\u001b[0m\u001b[1;33m.\u001b[0m\u001b[0mdelete\u001b[0m\u001b[1;33m(\u001b[0m\u001b[0mindexer\u001b[0m\u001b[1;33m)\u001b[0m\u001b[1;33m\u001b[0m\u001b[1;33m\u001b[0m\u001b[0m\n",
      "\u001b[1;31mKeyError\u001b[0m: \"['level_0'] not found in axis\""
     ]
    }
   ],
   "source": [
    "clustersDf = pd.DataFrame(fitClusters_cao)\n",
    "clustersDf.columns = ['cluster_predicted']\n",
    "combinedDf = pd.concat([df1, clustersDf], axis = 1).reset_index()\n",
    "combinedDf = combinedDf.drop(['index', 'level_0'], axis = 1)"
   ]
  },
  {
   "cell_type": "code",
   "execution_count": 694,
   "id": "3776c5cb",
   "metadata": {},
   "outputs": [
    {
     "data": {
      "text/html": [
       "<div>\n",
       "<style scoped>\n",
       "    .dataframe tbody tr th:only-of-type {\n",
       "        vertical-align: middle;\n",
       "    }\n",
       "\n",
       "    .dataframe tbody tr th {\n",
       "        vertical-align: top;\n",
       "    }\n",
       "\n",
       "    .dataframe thead th {\n",
       "        text-align: right;\n",
       "    }\n",
       "</style>\n",
       "<table border=\"1\" class=\"dataframe\">\n",
       "  <thead>\n",
       "    <tr style=\"text-align: right;\">\n",
       "      <th></th>\n",
       "      <th>index</th>\n",
       "      <th>Unnamed: 0</th>\n",
       "      <th>Name</th>\n",
       "      <th>Current_Company</th>\n",
       "      <th>Current_Job</th>\n",
       "      <th>Total_year</th>\n",
       "      <th>job_location</th>\n",
       "      <th>Last_degree</th>\n",
       "      <th>Graduation_start_year</th>\n",
       "      <th>Graduation_end_year</th>\n",
       "      <th>Last_University</th>\n",
       "      <th>ProfileIDS</th>\n",
       "      <th>skills</th>\n",
       "      <th>cluster_predicted</th>\n",
       "    </tr>\n",
       "  </thead>\n",
       "  <tbody>\n",
       "    <tr>\n",
       "      <th>0</th>\n",
       "      <td>0</td>\n",
       "      <td>0</td>\n",
       "      <td>71</td>\n",
       "      <td>1186</td>\n",
       "      <td>581</td>\n",
       "      <td>412</td>\n",
       "      <td>141</td>\n",
       "      <td>11</td>\n",
       "      <td>22</td>\n",
       "      <td>25</td>\n",
       "      <td>39</td>\n",
       "      <td>74</td>\n",
       "      <td>1054</td>\n",
       "      <td>0</td>\n",
       "    </tr>\n",
       "    <tr>\n",
       "      <th>1</th>\n",
       "      <td>1</td>\n",
       "      <td>1</td>\n",
       "      <td>882</td>\n",
       "      <td>270</td>\n",
       "      <td>585</td>\n",
       "      <td>377</td>\n",
       "      <td>105</td>\n",
       "      <td>75</td>\n",
       "      <td>21</td>\n",
       "      <td>23</td>\n",
       "      <td>39</td>\n",
       "      <td>959</td>\n",
       "      <td>1193</td>\n",
       "      <td>0</td>\n",
       "    </tr>\n",
       "    <tr>\n",
       "      <th>2</th>\n",
       "      <td>2</td>\n",
       "      <td>2</td>\n",
       "      <td>1287</td>\n",
       "      <td>246</td>\n",
       "      <td>223</td>\n",
       "      <td>88</td>\n",
       "      <td>112</td>\n",
       "      <td>9</td>\n",
       "      <td>23</td>\n",
       "      <td>25</td>\n",
       "      <td>39</td>\n",
       "      <td>1358</td>\n",
       "      <td>151</td>\n",
       "      <td>0</td>\n",
       "    </tr>\n",
       "    <tr>\n",
       "      <th>3</th>\n",
       "      <td>3</td>\n",
       "      <td>3</td>\n",
       "      <td>26</td>\n",
       "      <td>745</td>\n",
       "      <td>205</td>\n",
       "      <td>377</td>\n",
       "      <td>201</td>\n",
       "      <td>71</td>\n",
       "      <td>24</td>\n",
       "      <td>23</td>\n",
       "      <td>39</td>\n",
       "      <td>1434</td>\n",
       "      <td>1251</td>\n",
       "      <td>1</td>\n",
       "    </tr>\n",
       "    <tr>\n",
       "      <th>4</th>\n",
       "      <td>4</td>\n",
       "      <td>4</td>\n",
       "      <td>267</td>\n",
       "      <td>596</td>\n",
       "      <td>721</td>\n",
       "      <td>347</td>\n",
       "      <td>106</td>\n",
       "      <td>9</td>\n",
       "      <td>23</td>\n",
       "      <td>25</td>\n",
       "      <td>39</td>\n",
       "      <td>278</td>\n",
       "      <td>847</td>\n",
       "      <td>0</td>\n",
       "    </tr>\n",
       "  </tbody>\n",
       "</table>\n",
       "</div>"
      ],
      "text/plain": [
       "   index  Unnamed: 0  Name  Current_Company  Current_Job  Total_year  \\\n",
       "0      0           0    71             1186          581         412   \n",
       "1      1           1   882              270          585         377   \n",
       "2      2           2  1287              246          223          88   \n",
       "3      3           3    26              745          205         377   \n",
       "4      4           4   267              596          721         347   \n",
       "\n",
       "   job_location  Last_degree  Graduation_start_year  Graduation_end_year  \\\n",
       "0           141           11                     22                   25   \n",
       "1           105           75                     21                   23   \n",
       "2           112            9                     23                   25   \n",
       "3           201           71                     24                   23   \n",
       "4           106            9                     23                   25   \n",
       "\n",
       "   Last_University  ProfileIDS  skills  cluster_predicted  \n",
       "0               39          74    1054                  0  \n",
       "1               39         959    1193                  0  \n",
       "2               39        1358     151                  0  \n",
       "3               39        1434    1251                  1  \n",
       "4               39         278     847                  0  "
      ]
     },
     "execution_count": 694,
     "metadata": {},
     "output_type": "execute_result"
    }
   ],
   "source": [
    "combinedDf.head()\n"
   ]
  },
  {
   "cell_type": "code",
   "execution_count": 695,
   "id": "74859128",
   "metadata": {},
   "outputs": [],
   "source": [
    "#Cluster Identification¶\n"
   ]
  },
  {
   "cell_type": "code",
   "execution_count": 696,
   "id": "9cfa398f",
   "metadata": {},
   "outputs": [],
   "source": [
    "cluster_0 = combinedDf[combinedDf['cluster_predicted'] == 0]\n",
    "cluster_1 = combinedDf[combinedDf['cluster_predicted'] == 1]"
   ]
  },
  {
   "cell_type": "code",
   "execution_count": 697,
   "id": "c5d73e71",
   "metadata": {},
   "outputs": [
    {
     "name": "stdout",
     "output_type": "stream",
     "text": [
      "<class 'pandas.core.frame.DataFrame'>\n",
      "Int64Index: 1714 entries, 0 to 2132\n",
      "Data columns (total 14 columns):\n",
      " #   Column                 Non-Null Count  Dtype \n",
      "---  ------                 --------------  ----- \n",
      " 0   index                  1714 non-null   int64 \n",
      " 1   Unnamed: 0             1714 non-null   int64 \n",
      " 2   Name                   1714 non-null   int32 \n",
      " 3   Current_Company        1714 non-null   int32 \n",
      " 4   Current_Job            1714 non-null   int32 \n",
      " 5   Total_year             1714 non-null   int32 \n",
      " 6   job_location           1714 non-null   int32 \n",
      " 7   Last_degree            1714 non-null   int32 \n",
      " 8   Graduation_start_year  1714 non-null   int32 \n",
      " 9   Graduation_end_year    1714 non-null   int32 \n",
      " 10  Last_University        1714 non-null   int32 \n",
      " 11  ProfileIDS             1714 non-null   int32 \n",
      " 12  skills                 1714 non-null   int32 \n",
      " 13  cluster_predicted      1714 non-null   uint16\n",
      "dtypes: int32(11), int64(2), uint16(1)\n",
      "memory usage: 117.2 KB\n"
     ]
    }
   ],
   "source": [
    "cluster_0.info()\n"
   ]
  },
  {
   "cell_type": "code",
   "execution_count": 698,
   "id": "0f65a141",
   "metadata": {},
   "outputs": [
    {
     "name": "stdout",
     "output_type": "stream",
     "text": [
      "<class 'pandas.core.frame.DataFrame'>\n",
      "Int64Index: 419 entries, 3 to 2123\n",
      "Data columns (total 14 columns):\n",
      " #   Column                 Non-Null Count  Dtype \n",
      "---  ------                 --------------  ----- \n",
      " 0   index                  419 non-null    int64 \n",
      " 1   Unnamed: 0             419 non-null    int64 \n",
      " 2   Name                   419 non-null    int32 \n",
      " 3   Current_Company        419 non-null    int32 \n",
      " 4   Current_Job            419 non-null    int32 \n",
      " 5   Total_year             419 non-null    int32 \n",
      " 6   job_location           419 non-null    int32 \n",
      " 7   Last_degree            419 non-null    int32 \n",
      " 8   Graduation_start_year  419 non-null    int32 \n",
      " 9   Graduation_end_year    419 non-null    int32 \n",
      " 10  Last_University        419 non-null    int32 \n",
      " 11  ProfileIDS             419 non-null    int32 \n",
      " 12  skills                 419 non-null    int32 \n",
      " 13  cluster_predicted      419 non-null    uint16\n",
      "dtypes: int32(11), int64(2), uint16(1)\n",
      "memory usage: 28.6 KB\n"
     ]
    }
   ],
   "source": [
    "cluster_1.info()\n"
   ]
  },
  {
   "cell_type": "code",
   "execution_count": 699,
   "id": "99ab5683",
   "metadata": {},
   "outputs": [],
   "source": [
    "# # Job\n"
   ]
  },
  {
   "cell_type": "code",
   "execution_count": 703,
   "id": "5f82e50a",
   "metadata": {},
   "outputs": [
    {
     "data": {
      "image/png": "[encoded data removed]",
      "text/plain": [
       "<Figure size 1080x360 with 1 Axes>"
      ]
     },
     "metadata": {
      "needs_background": "light"
     },
     "output_type": "display_data"
    }
   ],
   "source": [
    "plt.subplots(figsize = (15,5))\n",
    "sns.countplot(x=combinedDf['Graduation_end_year'],order=combinedDf['Graduation_end_year'].value_counts().index,hue=combinedDf['cluster_predicted'])\n",
    "plt.show()"
   ]
  },
  {
   "cell_type": "code",
   "execution_count": 704,
   "id": "a8513ab5",
   "metadata": {},
   "outputs": [],
   "source": [
    "# Marital\n"
   ]
  },
  {
   "cell_type": "code",
   "execution_count": 12,
   "id": "28ccc39e",
   "metadata": {},
   "outputs": [
    {
     "ename": "NameError",
     "evalue": "name 'combinedDf' is not defined",
     "output_type": "error",
     "traceback": [
      "\u001b[1;31m---------------------------------------------------------------------------\u001b[0m",
      "\u001b[1;31mNameError\u001b[0m                                 Traceback (most recent call last)",
      "\u001b[1;32m<ipython-input-12-2338a7724d4f>\u001b[0m in \u001b[0;36m<module>\u001b[1;34m\u001b[0m\n\u001b[0;32m      1\u001b[0m \u001b[0mplt\u001b[0m\u001b[1;33m.\u001b[0m\u001b[0msubplots\u001b[0m\u001b[1;33m(\u001b[0m\u001b[0mfigsize\u001b[0m \u001b[1;33m=\u001b[0m \u001b[1;33m(\u001b[0m\u001b[1;36m5\u001b[0m\u001b[1;33m,\u001b[0m\u001b[1;36m5\u001b[0m\u001b[1;33m)\u001b[0m\u001b[1;33m)\u001b[0m\u001b[1;33m\u001b[0m\u001b[1;33m\u001b[0m\u001b[0m\n\u001b[1;32m----> 2\u001b[1;33m \u001b[0msns\u001b[0m\u001b[1;33m.\u001b[0m\u001b[0mcountplot\u001b[0m\u001b[1;33m(\u001b[0m\u001b[0mx\u001b[0m\u001b[1;33m=\u001b[0m\u001b[0mcombinedDf\u001b[0m\u001b[1;33m[\u001b[0m\u001b[1;34m'Graduation_end_year'\u001b[0m\u001b[1;33m]\u001b[0m\u001b[1;33m,\u001b[0m\u001b[0morder\u001b[0m\u001b[1;33m=\u001b[0m\u001b[0mcombinedDf\u001b[0m\u001b[1;33m[\u001b[0m\u001b[1;34m'Graduation_end_year'\u001b[0m\u001b[1;33m]\u001b[0m\u001b[1;33m.\u001b[0m\u001b[0mvalue_counts\u001b[0m\u001b[1;33m(\u001b[0m\u001b[1;33m)\u001b[0m\u001b[1;33m.\u001b[0m\u001b[0mindex\u001b[0m\u001b[1;33m,\u001b[0m\u001b[0mhue\u001b[0m\u001b[1;33m=\u001b[0m\u001b[0mcombinedDf\u001b[0m\u001b[1;33m[\u001b[0m\u001b[1;34m'cluster_predicted'\u001b[0m\u001b[1;33m]\u001b[0m\u001b[1;33m)\u001b[0m\u001b[1;33m\u001b[0m\u001b[1;33m\u001b[0m\u001b[0m\n\u001b[0m\u001b[0;32m      3\u001b[0m \u001b[0mplt\u001b[0m\u001b[1;33m.\u001b[0m\u001b[0mshow\u001b[0m\u001b[1;33m(\u001b[0m\u001b[1;33m)\u001b[0m\u001b[1;33m\u001b[0m\u001b[1;33m\u001b[0m\u001b[0m\n",
      "\u001b[1;31mNameError\u001b[0m: name 'combinedDf' is not defined"
     ]
    },
    {
     "data": {
      "image/png": "[encoded data removed]",
      "text/plain": [
       "<Figure size 360x360 with 1 Axes>"
      ]
     },
     "metadata": {
      "needs_background": "light"
     },
     "output_type": "display_data"
    }
   ],
   "source": [
    "plt.subplots(figsize = (5,5))\n",
    "sns.countplot(x=combinedDf['Graduation_end_year'],order=combinedDf['Graduation_end_year'].value_counts().index,hue=combinedDf['cluster_predicted'])\n",
    "plt.show()"
   ]
  },
  {
   "cell_type": "code",
   "execution_count": 706,
   "id": "e4586212",
   "metadata": {},
   "outputs": [],
   "source": [
    "# Education\n"
   ]
  },
  {
   "cell_type": "code",
   "execution_count": 707,
   "id": "db8bbef9",
   "metadata": {},
   "outputs": [
    {
     "data": {
      "image/png": "[encoded data removed]",
      "text/plain": [
       "<Figure size 1080x360 with 1 Axes>"
      ]
     },
     "metadata": {
      "needs_background": "light"
     },
     "output_type": "display_data"
    }
   ],
   "source": [
    "plt.subplots(figsize = (15,5))\n",
    "sns.countplot(x=combinedDf['Last_degree'],order=combinedDf['Last_degree'].value_counts().index,hue=combinedDf['cluster_predicted'])\n",
    "plt.show()\n"
   ]
  },
  {
   "cell_type": "code",
   "execution_count": 708,
   "id": "1479e406",
   "metadata": {},
   "outputs": [],
   "source": [
    "# Default\n"
   ]
  },
  {
   "cell_type": "code",
   "execution_count": 710,
   "id": "b8e7c86b",
   "metadata": {},
   "outputs": [],
   "source": [
    "# f, axs = plt.subplots(1,3,figsize = (15,5))\n",
    "# sns.countplot(x=combinedDf['default'],order=combinedDf['default'].value_counts().index,hue=combinedDf['cluster_predicted'],ax=axs[0])\n",
    "# sns.countplot(x=combinedDf['housing'],order=combinedDf['housing'].value_counts().index,hue=combinedDf['cluster_predicted'],ax=axs[1])\n",
    "# sns.countplot(x=combinedDf['loan'],order=combinedDf['loan'].value_counts().index,hue=combinedDf['cluster_predicted'],ax=axs[2])\n",
    "\n",
    "# plt.tight_layout()\n",
    "# plt.show()"
   ]
  },
  {
   "cell_type": "code",
   "execution_count": 711,
   "id": "daa163d0",
   "metadata": {},
   "outputs": [],
   "source": [
    "# f, axs = plt.subplots(1,2,figsize = (15,5))\n",
    "# sns.countplot(x=combinedDf['month'],order=combinedDf['month'].value_counts().index,hue=combinedDf['cluster_predicted'],ax=axs[0])\n",
    "# sns.countplot(x=combinedDf['day_of_week'],order=combinedDf['day_of_week'].value_counts().index,hue=combinedDf['cluster_predicted'],ax=axs[1])\n",
    "\n",
    "# plt.tight_layout()\n",
    "# plt.show()"
   ]
  },
  {
   "cell_type": "code",
   "execution_count": null,
   "id": "f7a22696",
   "metadata": {},
   "outputs": [],
   "source": [
    "# f, axs = plt.subplots(1,2,figsize = (15,5))\n",
    "# sns.countplot(x=combinedDf['poutcome'],order=combinedDf['poutcome'].value_counts().index,hue=combinedDf['cluster_predicted'],ax=axs[0])\n",
    "# sns.countplot(x=combinedDf['age_bin'],order=combinedDf['age_bin'].value_counts().index,hue=combinedDf['cluster_predicted'],ax=axs[1])\n",
    "\n",
    "# plt.tight_layout()\n",
    "# plt.show()"
   ]
  },
  {
   "cell_type": "code",
   "execution_count": null,
   "id": "e19a3a77",
   "metadata": {},
   "outputs": [],
   "source": []
  },
  {
   "cell_type": "code",
   "execution_count": null,
   "id": "cbe2e5a2",
   "metadata": {},
   "outputs": [],
   "source": []
  },
  {
   "cell_type": "code",
   "execution_count": null,
   "id": "62764337",
   "metadata": {},
   "outputs": [],
   "source": []
  },
  {
   "cell_type": "code",
   "execution_count": null,
   "id": "339c4a45",
   "metadata": {},
   "outputs": [],
   "source": []
  },
  {
   "cell_type": "code",
   "execution_count": null,
   "id": "d68a4b05",
   "metadata": {},
   "outputs": [],
   "source": []
  },
  {
   "cell_type": "code",
   "execution_count": null,
   "id": "398f3d47",
   "metadata": {},
   "outputs": [],
   "source": []
  },
  {
   "cell_type": "code",
   "execution_count": 712,
   "id": "b80fc10a",
   "metadata": {},
   "outputs": [
    {
     "name": "stdout",
     "output_type": "stream",
     "text": [
      "Init: initializing centroids\n",
      "Init: initializing clusters\n",
      "Starting iterations...\n",
      "Run 1, iteration: 1/100, moves: 19, cost: 800.0\n",
      "Run 1, iteration: 2/100, moves: 4, cost: 799.0\n",
      "Run 1, iteration: 3/100, moves: 0, cost: 799.0\n",
      "Init: initializing centroids\n",
      "Init: initializing clusters\n",
      "Starting iterations...\n",
      "Run 2, iteration: 1/100, moves: 21, cost: 800.0\n",
      "Run 2, iteration: 2/100, moves: 2, cost: 800.0\n",
      "Init: initializing centroids\n",
      "Init: initializing clusters\n",
      "Starting iterations...\n",
      "Run 3, iteration: 1/100, moves: 25, cost: 797.0\n",
      "Run 3, iteration: 2/100, moves: 2, cost: 797.0\n",
      "Init: initializing centroids\n",
      "Init: initializing clusters\n",
      "Starting iterations...\n",
      "Run 4, iteration: 1/100, moves: 19, cost: 794.0\n",
      "Init: initializing centroids\n",
      "Init: initializing clusters\n",
      "Starting iterations...\n",
      "Run 5, iteration: 1/100, moves: 19, cost: 800.0\n",
      "Run 5, iteration: 2/100, moves: 1, cost: 800.0\n",
      "Best run was number 4\n",
      "[[ 2  7 11  3  7  5  2 13  3  3]\n",
      " [ 7  9  3  4  5 11 11  5 13 10]\n",
      " [15  2 17 15  4  3 14  6 10 13]\n",
      " [ 3 19  9 14  1 13  0  2  4  2]]\n"
     ]
    }
   ],
   "source": [
    "import numpy as np\n",
    "from kmodes.kmodes import KModes\n",
    "\n",
    "# random categorical data\n",
    "data = np.random.choice(20, (100, 10))\n",
    "\n",
    "km = KModes(n_clusters=4, init='Huang', n_init=5, verbose=1)\n",
    "\n",
    "clusters = km.fit_predict(data)\n",
    "\n",
    "# Print the cluster centroids\n",
    "print(km.cluster_centroids_)"
   ]
  },
  {
   "cell_type": "code",
   "execution_count": null,
   "id": "64035805",
   "metadata": {},
   "outputs": [],
   "source": []
  }
 ],
 "metadata": {
  "kernelspec": {
   "display_name": "Python 3",
   "language": "python",
   "name": "python3"
  },
  "language_info": {
   "codemirror_mode": {
    "name": "ipython",
    "version": 3
   },
   "file_extension": ".py",
   "mimetype": "text/x-python",
   "name": "python",
   "nbconvert_exporter": "python",
   "pygments_lexer": "ipython3",
   "version": "3.8.8"
  }
 },
 "nbformat": 4,
 "nbformat_minor": 5
}
