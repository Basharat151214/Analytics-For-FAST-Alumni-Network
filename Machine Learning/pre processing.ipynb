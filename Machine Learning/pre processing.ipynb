{
 "cells": [
  {
   "cell_type": "code",
   "execution_count": 1,
   "id": "c546227b",
   "metadata": {},
   "outputs": [
    {
     "name": "stderr",
     "output_type": "stream",
     "text": [
      "C:\\ProgramData\\Anaconda3\\lib\\site-packages\\fuzzywuzzy\\fuzz.py:11: UserWarning: Using slow pure-python SequenceMatcher. Install python-Levenshtein to remove this warning\n",
      "  warnings.warn('Using slow pure-python SequenceMatcher. Install python-Levenshtein to remove this warning')\n"
     ]
    }
   ],
   "source": [
    "# import libraries\n",
    "import pandas as pd\n",
    "import numpy as np\n",
    "import seaborn as sns\n",
    "import matplotlib.pyplot as plt\n",
    "import matplotlib.patches as mpatches\n",
    "%matplotlib inline\n",
    "from mlxtend.frequent_patterns import apriori\n",
    "from mlxtend.frequent_patterns import association_rules\n",
    "import fuzzywuzzy\n",
    "from fuzzywuzzy import process\n",
    "import chardet\n",
    "import collections\n",
    "from collections import Counter"
   ]
  },
  {
   "cell_type": "code",
   "execution_count": 2,
   "id": "73da32ff",
   "metadata": {},
   "outputs": [
    {
     "data": {
      "text/plain": [
       "(2283, 11)"
      ]
     },
     "execution_count": 2,
     "metadata": {},
     "output_type": "execute_result"
    }
   ],
   "source": [
    "df = pd.read_csv('./final_Nov_09.csv')\n",
    "df.shape"
   ]
  },
  {
   "cell_type": "code",
   "execution_count": 3,
   "id": "26c24af5",
   "metadata": {},
   "outputs": [
    {
     "data": {
      "text/html": [
       "<div>\n",
       "<style scoped>\n",
       "    .dataframe tbody tr th:only-of-type {\n",
       "        vertical-align: middle;\n",
       "    }\n",
       "\n",
       "    .dataframe tbody tr th {\n",
       "        vertical-align: top;\n",
       "    }\n",
       "\n",
       "    .dataframe thead th {\n",
       "        text-align: right;\n",
       "    }\n",
       "</style>\n",
       "<table border=\"1\" class=\"dataframe\">\n",
       "  <thead>\n",
       "    <tr style=\"text-align: right;\">\n",
       "      <th></th>\n",
       "      <th>Name</th>\n",
       "      <th>Current_Company</th>\n",
       "      <th>Current_Job</th>\n",
       "      <th>Total_year</th>\n",
       "      <th>job_location</th>\n",
       "      <th>Last_degree</th>\n",
       "      <th>Graduation_start_year</th>\n",
       "      <th>Graduation_end_year</th>\n",
       "      <th>Last_University</th>\n",
       "      <th>ProfileIDS</th>\n",
       "      <th>skills</th>\n",
       "    </tr>\n",
       "  </thead>\n",
       "  <tbody>\n",
       "    <tr>\n",
       "      <th>0</th>\n",
       "      <td>Abrar Javed</td>\n",
       "      <td>Upwork</td>\n",
       "      <td>Professional Freelancer</td>\n",
       "      <td>Sep 2020 – Present</td>\n",
       "      <td>Pakistan</td>\n",
       "      <td>BS electrical engineering</td>\n",
       "      <td>2015</td>\n",
       "      <td>2020</td>\n",
       "      <td>National University of Computer and Emerging S...</td>\n",
       "      <td>/in/abrar-javed-49854b14b/</td>\n",
       "      <td>Management||Microsoft Excel||Customer Service|...</td>\n",
       "    </tr>\n",
       "    <tr>\n",
       "      <th>1</th>\n",
       "      <td>Mahrukh Fatima</td>\n",
       "      <td>DevBunch Private Limited</td>\n",
       "      <td>Project Coordinator</td>\n",
       "      <td>Oct 2021 – Present</td>\n",
       "      <td>Lahore, Pakistan</td>\n",
       "      <td>Bachelor of Business Administration (BBA)</td>\n",
       "      <td>2014</td>\n",
       "      <td>2018</td>\n",
       "      <td>National University of Computer and Emerging S...</td>\n",
       "      <td>/in/mahrukh-fatima-60b863106/</td>\n",
       "      <td>Microsoft Office||Customer Service||Microsoft ...</td>\n",
       "    </tr>\n",
       "    <tr>\n",
       "      <th>2</th>\n",
       "      <td>Neha Nadeem</td>\n",
       "      <td>Daraz</td>\n",
       "      <td>Data Analyst</td>\n",
       "      <td>Dec 2020 – Present</td>\n",
       "      <td>Los Angeles, California, United States</td>\n",
       "      <td>BS(CS)</td>\n",
       "      <td>2016</td>\n",
       "      <td>2020</td>\n",
       "      <td>National University of Computer and Emerging S...</td>\n",
       "      <td>/in/nehanadeem/</td>\n",
       "      <td>Business Intelligence (BI)||Data Analysis||Dat...</td>\n",
       "    </tr>\n",
       "    <tr>\n",
       "      <th>3</th>\n",
       "      <td>Abdul Rafeh</td>\n",
       "      <td>No Joke Marketing</td>\n",
       "      <td>Corporate Marketing Manager</td>\n",
       "      <td>Oct 2021 – Present</td>\n",
       "      <td>United States</td>\n",
       "      <td>Master's degree</td>\n",
       "      <td>2017</td>\n",
       "      <td>2018</td>\n",
       "      <td>National University of Computer and Emerging S...</td>\n",
       "      <td>/in/rafeh11/</td>\n",
       "      <td>Microsoft Office||Microsoft Excel||PowerPoint|...</td>\n",
       "    </tr>\n",
       "    <tr>\n",
       "      <th>4</th>\n",
       "      <td>Areeba Ayyaz</td>\n",
       "      <td>KeepTruckin</td>\n",
       "      <td>Software Engineer- Backend</td>\n",
       "      <td>Nov 2020 – Present</td>\n",
       "      <td>Lahore, Punjab, Pakistan</td>\n",
       "      <td>Bachelor of Science in Computer Science</td>\n",
       "      <td>2016</td>\n",
       "      <td>2020</td>\n",
       "      <td>National University of Computer and Emerging S...</td>\n",
       "      <td>/in/areeba-ayyaz-6948071a3/</td>\n",
       "      <td>Java||Ruby on Rails||Problem Solving||Android ...</td>\n",
       "    </tr>\n",
       "  </tbody>\n",
       "</table>\n",
       "</div>"
      ],
      "text/plain": [
       "             Name           Current_Company                  Current_Job  \\\n",
       "0     Abrar Javed                    Upwork      Professional Freelancer   \n",
       "1  Mahrukh Fatima  DevBunch Private Limited          Project Coordinator   \n",
       "2     Neha Nadeem                     Daraz                 Data Analyst   \n",
       "3     Abdul Rafeh         No Joke Marketing  Corporate Marketing Manager   \n",
       "4    Areeba Ayyaz               KeepTruckin   Software Engineer- Backend   \n",
       "\n",
       "           Total_year                            job_location  \\\n",
       "0  Sep 2020 – Present                                Pakistan   \n",
       "1  Oct 2021 – Present                        Lahore, Pakistan   \n",
       "2  Dec 2020 – Present  Los Angeles, California, United States   \n",
       "3  Oct 2021 – Present                           United States   \n",
       "4  Nov 2020 – Present                Lahore, Punjab, Pakistan   \n",
       "\n",
       "                                 Last_degree Graduation_start_year  \\\n",
       "0                  BS electrical engineering                  2015   \n",
       "1  Bachelor of Business Administration (BBA)                  2014   \n",
       "2                                     BS(CS)                  2016   \n",
       "3                            Master's degree                  2017   \n",
       "4    Bachelor of Science in Computer Science                  2016   \n",
       "\n",
       "  Graduation_end_year                                    Last_University  \\\n",
       "0                2020  National University of Computer and Emerging S...   \n",
       "1                2018  National University of Computer and Emerging S...   \n",
       "2                2020  National University of Computer and Emerging S...   \n",
       "3                2018  National University of Computer and Emerging S...   \n",
       "4                2020  National University of Computer and Emerging S...   \n",
       "\n",
       "                      ProfileIDS  \\\n",
       "0     /in/abrar-javed-49854b14b/   \n",
       "1  /in/mahrukh-fatima-60b863106/   \n",
       "2                /in/nehanadeem/   \n",
       "3                   /in/rafeh11/   \n",
       "4    /in/areeba-ayyaz-6948071a3/   \n",
       "\n",
       "                                              skills  \n",
       "0  Management||Microsoft Excel||Customer Service|...  \n",
       "1  Microsoft Office||Customer Service||Microsoft ...  \n",
       "2  Business Intelligence (BI)||Data Analysis||Dat...  \n",
       "3  Microsoft Office||Microsoft Excel||PowerPoint|...  \n",
       "4  Java||Ruby on Rails||Problem Solving||Android ...  "
      ]
     },
     "execution_count": 3,
     "metadata": {},
     "output_type": "execute_result"
    }
   ],
   "source": [
    "df.head()"
   ]
  },
  {
   "cell_type": "markdown",
   "id": "52cca449",
   "metadata": {},
   "source": [
    "# Handling Missing Values:"
   ]
  },
  {
   "cell_type": "code",
   "execution_count": 4,
   "id": "69c87b81",
   "metadata": {},
   "outputs": [
    {
     "data": {
      "text/plain": [
       "0      0.219010\n",
       "1      4.993430\n",
       "2     20.105125\n",
       "3      2.058695\n",
       "4      8.935611\n",
       "5      1.576873\n",
       "6      1.795883\n",
       "7      2.584319\n",
       "8      0.219010\n",
       "9      0.087604\n",
       "10     5.387648\n",
       "Name: pct_missing, dtype: float64"
      ]
     },
     "execution_count": 4,
     "metadata": {},
     "output_type": "execute_result"
    }
   ],
   "source": [
    "# % of values missing in each column\n",
    "values_list = list()\n",
    "cols_list = list()\n",
    "for col in df.columns:\n",
    "    pct_missing = np.mean(df[col].isnull())*100\n",
    "    cols_list.append(col)\n",
    "    values_list.append(pct_missing)\n",
    "pct_missing_df = pd.DataFrame()\n",
    "pct_missing_df['col'] = cols_list\n",
    "pct_missing_df['pct_missing'] = values_list\n",
    "pct_missing_df['pct_missing']"
   ]
  },
  {
   "cell_type": "code",
   "execution_count": 5,
   "id": "2e644ea5",
   "metadata": {},
   "outputs": [
    {
     "data": {
      "text/plain": [
       "0"
      ]
     },
     "execution_count": 5,
     "metadata": {},
     "output_type": "execute_result"
    }
   ],
   "source": [
    "#we will replace missing values with the mode values of that column.\n",
    "df_non_numeric = df.select_dtypes(exclude=[np.number]) \n",
    "non_numeric_cols = df_non_numeric.columns.values\n",
    "for col in non_numeric_cols:\n",
    "    missing = df[col].isnull()\n",
    "    num_missing = np.sum(missing)\n",
    "    if num_missing > 0:  # impute values only for columns that have missing values\n",
    "        mod = df[col].describe()['top'] # impute with the most frequently occuring value\n",
    "        df[col] = df[col].fillna(mod)\n",
    "\n",
    "#we will replace missing values with the median values of that column.\n",
    "df_numeric = df.select_dtypes(include=[np.number])\n",
    "numeric_cols = df_numeric.columns.values\n",
    "for col in numeric_cols:\n",
    "    missing = df[col].isnull()\n",
    "    num_missing = np.sum(missing)\n",
    "    if num_missing > 0:  # impute values only for columns that have missing values\n",
    "        med = df[col].median() #impute with the median\n",
    "        df[col] = df[col].fillna(med)\n",
    "df.isnull().sum().sum()"
   ]
  },
  {
   "cell_type": "markdown",
   "id": "8a4251a7",
   "metadata": {},
   "source": [
    "# Duplicate records"
   ]
  },
  {
   "cell_type": "code",
   "execution_count": 6,
   "id": "41563d8e",
   "metadata": {},
   "outputs": [
    {
     "data": {
      "text/plain": [
       "(2253, 11)"
      ]
     },
     "execution_count": 6,
     "metadata": {},
     "output_type": "execute_result"
    }
   ],
   "source": [
    "# dropping duplicate profile urls from  ProfileIDS Column\n",
    "profile_urls = list(df.columns)[-2]\n",
    "df.drop_duplicates(subset=profile_urls, inplace=True)\n",
    "df.shape"
   ]
  },
  {
   "cell_type": "code",
   "execution_count": 7,
   "id": "a1fdbd25",
   "metadata": {},
   "outputs": [],
   "source": [
    "df['Name'] = df['Name'].str.lower()\n",
    "df['Name'] = df['Name'].str.strip()\n",
    "df['Current_Company'] = df['Current_Company'].str.lower()\n",
    "df['Current_Company'] = df['Current_Company'].str.strip()\n",
    "df['Current_Job'] = df['Current_Job'].str.lower()\n",
    "df['Current_Job'] = df['Current_Job'].str.strip()\n",
    "df['job_location'] = df['job_location'].str.lower()\n",
    "df['job_location'] = df['job_location'].str.strip()\n",
    "df['Last_degree'] = df['Last_degree'].str.lower()\n",
    "df['Last_degree'] = df['Last_degree'].str.strip()\n",
    "df['Last_University'] = df['Last_University'].str.lower()\n",
    "df['Last_University'] = df['Last_University'].str.strip()\n",
    "df['Total_year'] = df['Total_year'].str.lower()\n",
    "df['Total_year'] = df['Total_year'].str.strip()\n",
    "df['Graduation_start_year'] = df['Graduation_start_year'].str.lower()\n",
    "df['Graduation_start_year'] = df['Graduation_start_year'].str.strip()\n",
    "df['Graduation_end_year'] = df['Graduation_end_year'].str.lower()\n",
    "df['Graduation_end_year'] = df['Graduation_end_year'].str.strip()\n",
    "df['skills'] = df['skills'].str.lower()\n",
    "df['skills'] = df['skills'].str.strip()\n"
   ]
  },
  {
   "cell_type": "code",
   "execution_count": null,
   "id": "4279fc35",
   "metadata": {},
   "outputs": [],
   "source": []
  },
  {
   "cell_type": "code",
   "execution_count": null,
   "id": "7444a213",
   "metadata": {},
   "outputs": [],
   "source": []
  },
  {
   "cell_type": "markdown",
   "id": "1c848e14",
   "metadata": {},
   "source": [
    "# Correcting Inconsistencies"
   ]
  },
  {
   "cell_type": "code",
   "execution_count": 8,
   "id": "59b3ac1a",
   "metadata": {},
   "outputs": [],
   "source": [
    "#There were many different words in the responses which referred to the same term, so we grouped them in a single word.\n",
    "#Typos and mis-spelling were corrected.\n",
    "#Finally, punctuation such as commas, apostrophes, quotes, question marks and others was removed."
   ]
  },
  {
   "cell_type": "code",
   "execution_count": 12,
   "id": "451bdc68",
   "metadata": {},
   "outputs": [],
   "source": [
    "\n",
    "# Function to identify degree\n",
    "def degree(x):\n",
    "    if x.find('bachelor') != -1 or x.find(\"bachelor's\") != -1 or x.find('b.s') != -1 or x.find('bs') != -1 or x.find('bs.') != -1 or x.find('bachelors') != -1 or x.find('undergraduate') != -1 or x.find('graduated')!= -1 or x.find('bse')!= -1 or x.find('bcs') != -1:\n",
    "        result = 'bachelor degree'\n",
    "        return result        \n",
    "    if x.find('master') != -1 or x.find(\"master's\") != -1 or x.find('m.s') != -1 or x.find('ms') != -1 or x.find('mphil') != -1 or x.find('mba') != -1 or x.find('micromasters') != -1 or x.find('msc') != -1 or x.find('mscs') !=-1 or x.find('msds')!=-1or x.find('master of engineering') != -1:\n",
    "        result = 'master degree'\n",
    "        return result        \n",
    "    if x.find('phd') != -1 or x.find('p.hd') != -1 or x.find('ph.d') != -1 or x.find('doctor') != -1:\n",
    "        result = 'phd degree'\n",
    "        return result       \n",
    "    else:\n",
    "        result = 'others degree'\n",
    "        return result\n",
    "\n",
    "df['degree'] = list(map(degree, df['Last_degree'].astype(str)))# Create degree column\n"
   ]
  },
  {
   "cell_type": "code",
   "execution_count": null,
   "id": "cd0ec853",
   "metadata": {},
   "outputs": [],
   "source": []
  },
  {
   "cell_type": "code",
   "execution_count": null,
   "id": "9b501c85",
   "metadata": {},
   "outputs": [],
   "source": []
  },
  {
   "cell_type": "code",
   "execution_count": 13,
   "id": "92873032",
   "metadata": {},
   "outputs": [],
   "source": [
    "df['skills'] = df['skills'].apply(lambda x: x.replace(\"||\", \",\"))\n",
    "\n",
    "df['Last_University'] = df['Last_University'].apply(lambda x: x.replace(\"national university of computer and emerging sciences\", \"fast nuces\"))\n",
    "df['Current_Company'] = df['Current_Company'].apply(lambda x: x.replace(\"national university of computer and emerging sciences\", \"fast nuces\"))\n",
    "\n",
    "\n",
    "df['Last_degree'] = df['Last_degree'].apply(lambda x: x.replace(\"bs\", \"bachelor\"))\n",
    "df['Last_degree'] = df['Last_degree'].apply(lambda x: x.replace(\"ms\", \"master\"))\n",
    "df['Last_degree'] = df['Last_degree'].apply(lambda x: x.replace(\"mphil\", \"master\"))\n",
    "df['Last_degree'] = df['Last_degree'].apply(lambda x: x.replace(\"cs\", \"computer science\"))\n",
    "df['Last_degree'] = df['Last_degree'].apply(lambda x: x.replace(\"conputer\", \"computer\"))\n",
    "df['Last_degree'] = df['Last_degree'].apply(lambda x: x.replace(\"(ee)\", \"electrical engineering\"))\n",
    "df['Last_degree'] = df['Last_degree'].apply(lambda x: x.replace(\"(te)\", \"electrical engineering\"))\n",
    "\n",
    "df['Last_degree'] = df['Last_degree'].apply(lambda x: x.replace(\"(af)\", \"business adminintration\"))\n",
    "\n",
    "df['Last_degree'] = df['Last_degree'].apply(lambda x: x.replace(\"bachelor's\", \"bachelor\"))\n",
    "df['Last_degree'] = df['Last_degree'].apply(lambda x: x.replace(\"bachelora's degree\", \"bachelor\"))\n",
    "\n",
    "df['Last_degree'] = df['Last_degree'].apply(lambda x: x.replace(\"bachelor’s\", \"bachelor\"))\n",
    "df['Last_degree'] = df['Last_degree'].apply(lambda x: x.replace(\"bachelors\", \"bachelor\"))\n",
    "df['Last_degree'] = df['Last_degree'].apply(lambda x: x.replace(\"b.s\", \"bachelor\"))\n",
    "df['Last_degree'] = df['Last_degree'].apply(lambda x: x.replace(\"bba\", \"bachelor of business adminintration\"))\n",
    "df['Last_degree'] = df['Last_degree'].apply(lambda x: x.replace(\"mastera's\", \"master\"))\n",
    "df['Last_degree'] = df['Last_degree'].apply(lambda x: x.replace(\"master's\", \"master\"))\n",
    "df['Last_degree'] = df['Last_degree'].apply(lambda x: x.replace(\"master’s degree\", \"master\"))\n",
    "\n",
    "df['Last_degree'] = df['Last_degree'].apply(lambda x: x.replace(\"masters\", \"master\"))\n",
    "df['Last_degree'] = df['Last_degree'].apply(lambda x: x.replace(\"phd\", \"doctor of philosophy\"))\n",
    "df['Last_degree'] = df['Last_degree'].apply(lambda x: x.replace(\"mba\", \"master of business adminintration\"))\n",
    "df['Last_degree'] = df['Last_degree'].apply(lambda x: x.replace(\"accounting and finance\", \"business adminintration\"))\n",
    "df['Last_degree'] = df['Last_degree'].apply(lambda x: x.replace(\"spm\", \"software project management\"))\n",
    "\n",
    "\n",
    "df.Last_degree = df.Last_degree.apply(lambda x: 'bachelor of computer science' if 'bachelor' in x and 'computer' in x else x)\n",
    "df.Last_degree = df.Last_degree.apply(lambda x: 'bachelor electrical engineering' if 'bachelor' in x and 'electrical' in x else x)\n",
    "df.Last_degree = df.Last_degree.apply(lambda x: 'bachelor electrical engineering' if 'bachelor' in x and 'telecommunication' in x else x) \n",
    "\n",
    "df.Last_degree = df.Last_degree.apply(lambda x: 'bachelor of business administration' if 'bachelor' in x and 'administration' in x else x)\n",
    "df.Last_degree = df.Last_degree.apply(lambda x: 'bachelor of business administration' if 'bachelor' in x and 'finance' in x else x)\n",
    "df.Last_degree = df.Last_degree.apply(lambda x: 'master of computer science' if 'master' in x and 'computer' in x else x)\n",
    "df.Last_degree = df.Last_degree.apply(lambda x: 'master of computer science' if 'master' in x and 'technology' in x else x)\n",
    "\n",
    "df.Last_degree = df.Last_degree.apply(lambda x: 'master of business administration' if 'master' in x and 'administration' in x else x)\n",
    "df.Last_degree = df.Last_degree.apply(lambda x: 'master of software project management' if 'master' in x and 'project' in x else x)\n",
    "df.Last_degree = df.Last_degree.apply(lambda x: 'doctor of philosophy' if 'postgradua' in x else x)\n",
    "df.Last_degree = df.Last_degree.apply(lambda x: 'doctor of philosophy' if 'doctor' in x else x)"
   ]
  },
  {
   "cell_type": "code",
   "execution_count": 14,
   "id": "cf49bc12",
   "metadata": {},
   "outputs": [
    {
     "name": "stderr",
     "output_type": "stream",
     "text": [
      "<ipython-input-14-b14e07ecae2c>:1: FutureWarning: The default value of regex will change from True to False in a future version.\n",
      "  df['Last_degree'] = df.Last_degree.str.replace(r'(^.*bachelor.*$)'and '(^.*computer.*$)', 'bachelor of computer science')\n",
      "<ipython-input-14-b14e07ecae2c>:2: FutureWarning: The default value of regex will change from True to False in a future version.\n",
      "  df['Last_degree'] = df.Last_degree.str.replace(r'(^.*bachelor.*$)'and '(^.*electrical.*$)','bachelor electrical engineering')\n",
      "<ipython-input-14-b14e07ecae2c>:4: FutureWarning: The default value of regex will change from True to False in a future version.\n",
      "  df['Last_degree'] = df.Last_degree.str.replace(r'(^.*bachelor.*$)'and '(^.*administration.*$)','bachelor of business administration')\n",
      "<ipython-input-14-b14e07ecae2c>:5: FutureWarning: The default value of regex will change from True to False in a future version.\n",
      "  df['Last_degree'] = df.Last_degree.str.replace(r'(^.*bachelor.*$)'and '(^.*finance.*$)','bachelor of business administration')\n",
      "<ipython-input-14-b14e07ecae2c>:7: FutureWarning: The default value of regex will change from True to False in a future version.\n",
      "  df['Last_degree'] = df.Last_degree.str.replace(r'(^.*master.*$)'and '(^.*administration.*$)', 'master of business administration')\n",
      "<ipython-input-14-b14e07ecae2c>:8: FutureWarning: The default value of regex will change from True to False in a future version.\n",
      "  df['Last_degree'] = df.Last_degree.str.replace(r'(^.*master.*$)'and'(^.*computer.*$)', 'master of computer science')\n",
      "<ipython-input-14-b14e07ecae2c>:9: FutureWarning: The default value of regex will change from True to False in a future version.\n",
      "  df['Last_degree'] = df.Last_degree.str.replace(r'(^.*master.*$)'and'(^.*technology.*$)', 'master of computer science')\n",
      "<ipython-input-14-b14e07ecae2c>:10: FutureWarning: The default value of regex will change from True to False in a future version.\n",
      "  df['Last_degree'] = df.Last_degree.str.replace(r'(^.*master.*$)'and'(^.*project.*$)', 'master of software project management')\n",
      "<ipython-input-14-b14e07ecae2c>:12: FutureWarning: The default value of regex will change from True to False in a future version.\n",
      "  df['Last_degree'] = df.Last_degree.str.replace(r'(^.*postgradua.*$)'or'(^.*philoso.*$)', 'doctor of philosophy')\n",
      "<ipython-input-14-b14e07ecae2c>:13: FutureWarning: The default value of regex will change from True to False in a future version.\n",
      "  df['Last_degree'] = df.Last_degree.str.replace(r'(^.*doctor.*$)', 'doctor of philosophy')\n",
      "<ipython-input-14-b14e07ecae2c>:15: FutureWarning: The default value of regex will change from True to False in a future version.\n",
      "  df['Last_degree'] = df.Last_degree.str.replace(r'(^.*bachelor.*$)'and '(^.*computer.*$)', 'bachelor of computer science')\n",
      "<ipython-input-14-b14e07ecae2c>:16: FutureWarning: The default value of regex will change from True to False in a future version.\n",
      "  df['Last_degree'] = df.Last_degree.str.replace(r'(^.*bachelor.*$)'and '(^.*engineering.*$)', 'bachelor of electrical engineering')\n",
      "<ipython-input-14-b14e07ecae2c>:17: FutureWarning: The default value of regex will change from True to False in a future version.\n",
      "  df['Last_degree'] = df.Last_degree.str.replace(r'(^.*bachelor of science.*$)'or \"(^.*bachelora's degree.*$)\", 'bachelor degree')\n",
      "<ipython-input-14-b14e07ecae2c>:19: FutureWarning: The default value of regex will change from True to False in a future version.\n",
      "  df['Last_degree'] = df.Last_degree.str.replace(r'(^.*master.*$)'and '(^.*administration.*$)', 'master of business administration')\n",
      "<ipython-input-14-b14e07ecae2c>:20: FutureWarning: The default value of regex will change from True to False in a future version.\n",
      "  df['Last_degree'] = df.Last_degree.str.replace(r'(^.*master.*$)'and '(^.*business.*$)'or '(^.*finance.*$)', 'master of business administration')\n",
      "<ipython-input-14-b14e07ecae2c>:21: FutureWarning: The default value of regex will change from True to False in a future version.\n",
      "  df['Last_degree'] = df.Last_degree.str.replace(r'(^.*master.*$)'and '(^.*information.*$)'or '(^.*technology.*$)'or '(^.*comput.*$)', 'master of computer science')\n",
      "<ipython-input-14-b14e07ecae2c>:22: FutureWarning: The default value of regex will change from True to False in a future version.\n",
      "  df['Last_degree'] = df.Last_degree.str.replace(r'(^.*masters of science.*$)'or '(^.*master in science.*$)', 'master degree')\n",
      "<ipython-input-14-b14e07ecae2c>:23: FutureWarning: The default value of regex will change from True to False in a future version.\n",
      "  df['Last_degree'] = df.Last_degree.str.replace(r'(^.*master.*$)'and '(^.*project .*$)', 'master of project managment')\n",
      "<ipython-input-14-b14e07ecae2c>:26: FutureWarning: The default value of regex will change from True to False in a future version.\n",
      "  df['Last_degree'] = df.Last_degree.str.replace(r'(^.*bachelor.*$)'and '(^.*computer.*$)', 'bachelor of computer science')\n",
      "<ipython-input-14-b14e07ecae2c>:27: FutureWarning: The default value of regex will change from True to False in a future version.\n",
      "  df['Last_degree'] = df.Last_degree.str.replace(r'(^.*bachelor.*$)'and '(^.*engineering.*$)', 'bachelor of electrical engineering')\n",
      "<ipython-input-14-b14e07ecae2c>:28: FutureWarning: The default value of regex will change from True to False in a future version.\n",
      "  df['Last_degree'] = df.Last_degree.str.replace(r'(^.*bachelor of science.*$)'or \"(^.*bachelora's degree.*$)\", 'bachelor degree')\n",
      "<ipython-input-14-b14e07ecae2c>:30: FutureWarning: The default value of regex will change from True to False in a future version.\n",
      "  df['Last_degree'] = df.Last_degree.str.replace(r'(^.*master.*$)'and '(^.*administration.*$)', 'master of business administration')\n",
      "<ipython-input-14-b14e07ecae2c>:31: FutureWarning: The default value of regex will change from True to False in a future version.\n",
      "  df['Last_degree'] = df.Last_degree.str.replace(r'(^.*master.*$)'and '(^.*business.*$)'or '(^.*finance.*$)', 'master of business administration')\n",
      "<ipython-input-14-b14e07ecae2c>:32: FutureWarning: The default value of regex will change from True to False in a future version.\n",
      "  df['Last_degree'] = df.Last_degree.str.replace(r'(^.*master.*$)'and '(^.*information.*$)'or '(^.*technology.*$)'or '(^.*comput.*$)', 'master of computer science')\n",
      "<ipython-input-14-b14e07ecae2c>:33: FutureWarning: The default value of regex will change from True to False in a future version.\n",
      "  df['Last_degree'] = df.Last_degree.str.replace(r'(^.*masters of science.*$)'or '(^.*master in science.*$)', 'master degree')\n",
      "<ipython-input-14-b14e07ecae2c>:34: FutureWarning: The default value of regex will change from True to False in a future version.\n",
      "  df['Last_degree'] = df.Last_degree.str.replace(r'(^.*master.*$)'and '(^.*project .*$)', 'master of project managment')\n",
      "<ipython-input-14-b14e07ecae2c>:36: FutureWarning: The default value of regex will change from True to False in a future version.\n",
      "  df['Last_degree'] = df.Last_degree.str.replace(r'(^.*master of science.*$)', 'master degree')\n"
     ]
    }
   ],
   "source": [
    "df['Last_degree'] = df.Last_degree.str.replace(r'(^.*bachelor.*$)'and '(^.*computer.*$)', 'bachelor of computer science')\n",
    "df['Last_degree'] = df.Last_degree.str.replace(r'(^.*bachelor.*$)'and '(^.*electrical.*$)','bachelor electrical engineering')\n",
    "\n",
    "df['Last_degree'] = df.Last_degree.str.replace(r'(^.*bachelor.*$)'and '(^.*administration.*$)','bachelor of business administration')\n",
    "df['Last_degree'] = df.Last_degree.str.replace(r'(^.*bachelor.*$)'and '(^.*finance.*$)','bachelor of business administration')\n",
    "\n",
    "df['Last_degree'] = df.Last_degree.str.replace(r'(^.*master.*$)'and '(^.*administration.*$)', 'master of business administration')\n",
    "df['Last_degree'] = df.Last_degree.str.replace(r'(^.*master.*$)'and'(^.*computer.*$)', 'master of computer science')\n",
    "df['Last_degree'] = df.Last_degree.str.replace(r'(^.*master.*$)'and'(^.*technology.*$)', 'master of computer science')\n",
    "df['Last_degree'] = df.Last_degree.str.replace(r'(^.*master.*$)'and'(^.*project.*$)', 'master of software project management')\n",
    "\n",
    "df['Last_degree'] = df.Last_degree.str.replace(r'(^.*postgradua.*$)'or'(^.*philoso.*$)', 'doctor of philosophy')\n",
    "df['Last_degree'] = df.Last_degree.str.replace(r'(^.*doctor.*$)', 'doctor of philosophy')\n",
    "\n",
    "df['Last_degree'] = df.Last_degree.str.replace(r'(^.*bachelor.*$)'and '(^.*computer.*$)', 'bachelor of computer science')\n",
    "df['Last_degree'] = df.Last_degree.str.replace(r'(^.*bachelor.*$)'and '(^.*engineering.*$)', 'bachelor of electrical engineering')\n",
    "df['Last_degree'] = df.Last_degree.str.replace(r'(^.*bachelor of science.*$)'or \"(^.*bachelora's degree.*$)\", 'bachelor degree')\n",
    "\n",
    "df['Last_degree'] = df.Last_degree.str.replace(r'(^.*master.*$)'and '(^.*administration.*$)', 'master of business administration')\n",
    "df['Last_degree'] = df.Last_degree.str.replace(r'(^.*master.*$)'and '(^.*business.*$)'or '(^.*finance.*$)', 'master of business administration')\n",
    "df['Last_degree'] = df.Last_degree.str.replace(r'(^.*master.*$)'and '(^.*information.*$)'or '(^.*technology.*$)'or '(^.*comput.*$)', 'master of computer science')\n",
    "df['Last_degree'] = df.Last_degree.str.replace(r'(^.*masters of science.*$)'or '(^.*master in science.*$)', 'master degree')\n",
    "df['Last_degree'] = df.Last_degree.str.replace(r'(^.*master.*$)'and '(^.*project .*$)', 'master of project managment')\n",
    "\n",
    "\n",
    "df['Last_degree'] = df.Last_degree.str.replace(r'(^.*bachelor.*$)'and '(^.*computer.*$)', 'bachelor of computer science')\n",
    "df['Last_degree'] = df.Last_degree.str.replace(r'(^.*bachelor.*$)'and '(^.*engineering.*$)', 'bachelor of electrical engineering')\n",
    "df['Last_degree'] = df.Last_degree.str.replace(r'(^.*bachelor of science.*$)'or \"(^.*bachelora's degree.*$)\", 'bachelor degree')\n",
    "\n",
    "df['Last_degree'] = df.Last_degree.str.replace(r'(^.*master.*$)'and '(^.*administration.*$)', 'master of business administration')\n",
    "df['Last_degree'] = df.Last_degree.str.replace(r'(^.*master.*$)'and '(^.*business.*$)'or '(^.*finance.*$)', 'master of business administration')\n",
    "df['Last_degree'] = df.Last_degree.str.replace(r'(^.*master.*$)'and '(^.*information.*$)'or '(^.*technology.*$)'or '(^.*comput.*$)', 'master of computer science')\n",
    "df['Last_degree'] = df.Last_degree.str.replace(r'(^.*masters of science.*$)'or '(^.*master in science.*$)', 'master degree')\n",
    "df['Last_degree'] = df.Last_degree.str.replace(r'(^.*master.*$)'and '(^.*project .*$)', 'master of project managment')\n",
    "\n",
    "df['Last_degree'] = df.Last_degree.str.replace(r'(^.*master of science.*$)', 'master degree')"
   ]
  },
  {
   "cell_type": "code",
   "execution_count": 17,
   "id": "6f17889c",
   "metadata": {},
   "outputs": [
    {
     "data": {
      "text/plain": [
       "127"
      ]
     },
     "execution_count": 17,
     "metadata": {},
     "output_type": "execute_result"
    }
   ],
   "source": [
    "degree_name=df['Last_degree'].unique()\n",
    "degree_name.sort()\n",
    "len(degree_name)\n",
    "#degree_name"
   ]
  },
  {
   "cell_type": "code",
   "execution_count": null,
   "id": "6bc73e2b",
   "metadata": {},
   "outputs": [],
   "source": []
  },
  {
   "cell_type": "code",
   "execution_count": null,
   "id": "a04511f3",
   "metadata": {},
   "outputs": [],
   "source": []
  },
  {
   "cell_type": "code",
   "execution_count": null,
   "id": "a50353e6",
   "metadata": {},
   "outputs": [],
   "source": []
  },
  {
   "cell_type": "code",
   "execution_count": null,
   "id": "3fb6356d",
   "metadata": {},
   "outputs": [],
   "source": []
  },
  {
   "cell_type": "code",
   "execution_count": null,
   "id": "48e5f852",
   "metadata": {},
   "outputs": [],
   "source": []
  },
  {
   "cell_type": "code",
   "execution_count": null,
   "id": "5f2ca8b1",
   "metadata": {},
   "outputs": [],
   "source": []
  },
  {
   "cell_type": "code",
   "execution_count": null,
   "id": "0d2191c7",
   "metadata": {},
   "outputs": [],
   "source": []
  },
  {
   "cell_type": "code",
   "execution_count": null,
   "id": "cd540882",
   "metadata": {},
   "outputs": [],
   "source": [
    "\n",
    "    "
   ]
  },
  {
   "cell_type": "code",
   "execution_count": 765,
   "id": "958f7d18",
   "metadata": {},
   "outputs": [],
   "source": []
  },
  {
   "cell_type": "code",
   "execution_count": null,
   "id": "8343d1d0",
   "metadata": {},
   "outputs": [],
   "source": [
    "\n"
   ]
  },
  {
   "cell_type": "code",
   "execution_count": 20,
   "id": "9c3c51c8",
   "metadata": {},
   "outputs": [
    {
     "data": {
      "text/html": [
       "<div>\n",
       "<style scoped>\n",
       "    .dataframe tbody tr th:only-of-type {\n",
       "        vertical-align: middle;\n",
       "    }\n",
       "\n",
       "    .dataframe tbody tr th {\n",
       "        vertical-align: top;\n",
       "    }\n",
       "\n",
       "    .dataframe thead th {\n",
       "        text-align: right;\n",
       "    }\n",
       "</style>\n",
       "<table border=\"1\" class=\"dataframe\">\n",
       "  <thead>\n",
       "    <tr style=\"text-align: right;\">\n",
       "      <th></th>\n",
       "      <th>Name</th>\n",
       "      <th>Current_Company</th>\n",
       "      <th>Current_Job</th>\n",
       "      <th>Total_year</th>\n",
       "      <th>job_location</th>\n",
       "      <th>Last_degree</th>\n",
       "      <th>Graduation_start_year</th>\n",
       "      <th>Graduation_end_year</th>\n",
       "      <th>Last_University</th>\n",
       "      <th>ProfileIDS</th>\n",
       "      <th>skills</th>\n",
       "      <th>degree</th>\n",
       "    </tr>\n",
       "  </thead>\n",
       "  <tbody>\n",
       "    <tr>\n",
       "      <th>0</th>\n",
       "      <td>abrar javed</td>\n",
       "      <td>upwork</td>\n",
       "      <td>professional freelancer</td>\n",
       "      <td>0.0</td>\n",
       "      <td>pakistan</td>\n",
       "      <td>bachelor of electrical engineering</td>\n",
       "      <td>2015</td>\n",
       "      <td>2020</td>\n",
       "      <td>fast nuces</td>\n",
       "      <td>/in/abrar-javed-49854b14b/</td>\n",
       "      <td>management,microsoft excel,customer service,st...</td>\n",
       "      <td>bachelor degree</td>\n",
       "    </tr>\n",
       "    <tr>\n",
       "      <th>1</th>\n",
       "      <td>mahrukh fatima</td>\n",
       "      <td>devbunch private limited</td>\n",
       "      <td>project coordinator</td>\n",
       "      <td>0.0</td>\n",
       "      <td>lahore, pakistan</td>\n",
       "      <td>master of business administration</td>\n",
       "      <td>2014</td>\n",
       "      <td>2018</td>\n",
       "      <td>fast nuces</td>\n",
       "      <td>/in/mahrukh-fatima-60b863106/</td>\n",
       "      <td>microsoft office,customer service,microsoft ex...</td>\n",
       "      <td>bachelor degree</td>\n",
       "    </tr>\n",
       "    <tr>\n",
       "      <th>2</th>\n",
       "      <td>neha nadeem</td>\n",
       "      <td>daraz</td>\n",
       "      <td>data analyst</td>\n",
       "      <td>0.0</td>\n",
       "      <td>los angeles, california, united states</td>\n",
       "      <td>bachelor of computer science</td>\n",
       "      <td>2016</td>\n",
       "      <td>2020</td>\n",
       "      <td>fast nuces</td>\n",
       "      <td>/in/nehanadeem/</td>\n",
       "      <td>business intelligence (bi),data analysis,data ...</td>\n",
       "      <td>bachelor degree</td>\n",
       "    </tr>\n",
       "    <tr>\n",
       "      <th>3</th>\n",
       "      <td>abdul rafeh</td>\n",
       "      <td>no joke marketing</td>\n",
       "      <td>corporate marketing manager</td>\n",
       "      <td>0.0</td>\n",
       "      <td>united states</td>\n",
       "      <td>master degree</td>\n",
       "      <td>2017</td>\n",
       "      <td>2018</td>\n",
       "      <td>fast nuces</td>\n",
       "      <td>/in/rafeh11/</td>\n",
       "      <td>microsoft office,microsoft excel,powerpoint,re...</td>\n",
       "      <td>master degree</td>\n",
       "    </tr>\n",
       "    <tr>\n",
       "      <th>4</th>\n",
       "      <td>areeba ayyaz</td>\n",
       "      <td>keeptruckin</td>\n",
       "      <td>software engineer- backend</td>\n",
       "      <td>0.0</td>\n",
       "      <td>lahore, punjab, pakistan</td>\n",
       "      <td>bachelor of computer science</td>\n",
       "      <td>2016</td>\n",
       "      <td>2020</td>\n",
       "      <td>fast nuces</td>\n",
       "      <td>/in/areeba-ayyaz-6948071a3/</td>\n",
       "      <td>java,ruby on rails,problem solving,android dev...</td>\n",
       "      <td>bachelor degree</td>\n",
       "    </tr>\n",
       "    <tr>\n",
       "      <th>...</th>\n",
       "      <td>...</td>\n",
       "      <td>...</td>\n",
       "      <td>...</td>\n",
       "      <td>...</td>\n",
       "      <td>...</td>\n",
       "      <td>...</td>\n",
       "      <td>...</td>\n",
       "      <td>...</td>\n",
       "      <td>...</td>\n",
       "      <td>...</td>\n",
       "      <td>...</td>\n",
       "      <td>...</td>\n",
       "    </tr>\n",
       "    <tr>\n",
       "      <th>2278</th>\n",
       "      <td>agha hamza waheed</td>\n",
       "      <td>carfirst</td>\n",
       "      <td>area manager purchase</td>\n",
       "      <td>NaN</td>\n",
       "      <td>lahore, pakistan</td>\n",
       "      <td>bachelor degree</td>\n",
       "      <td>2012</td>\n",
       "      <td>2017</td>\n",
       "      <td>fast nuces</td>\n",
       "      <td>/in/agha-hamza-waheed-bb2384b1/</td>\n",
       "      <td>microsoft office,team management,auditing,fina...</td>\n",
       "      <td>bachelor degree</td>\n",
       "    </tr>\n",
       "    <tr>\n",
       "      <th>2279</th>\n",
       "      <td>mian muhammad faizan elahi</td>\n",
       "      <td>tkxel</td>\n",
       "      <td>sales development representative</td>\n",
       "      <td>NaN</td>\n",
       "      <td>lahore, punjab, pakistan</td>\n",
       "      <td>master of business administration</td>\n",
       "      <td>2020</td>\n",
       "      <td>2022</td>\n",
       "      <td>lahore school of economics</td>\n",
       "      <td>/in/mian-muhammad-faizan-elahi/</td>\n",
       "      <td>business analytics,digital marketing,search en...</td>\n",
       "      <td>master degree</td>\n",
       "    </tr>\n",
       "    <tr>\n",
       "      <th>2280</th>\n",
       "      <td>ali sulehria</td>\n",
       "      <td>rdx sports</td>\n",
       "      <td>amazon content manager</td>\n",
       "      <td>NaN</td>\n",
       "      <td>pakistan</td>\n",
       "      <td>master of business administration</td>\n",
       "      <td>2019</td>\n",
       "      <td>2021</td>\n",
       "      <td>bahria university</td>\n",
       "      <td>/in/ali-sulehria-1661a026/</td>\n",
       "      <td>none</td>\n",
       "      <td>master degree</td>\n",
       "    </tr>\n",
       "    <tr>\n",
       "      <th>2281</th>\n",
       "      <td>hajra arshad</td>\n",
       "      <td>online</td>\n",
       "      <td>freelance writer</td>\n",
       "      <td>NaN</td>\n",
       "      <td>islamabad, islamabad, pakistan</td>\n",
       "      <td>master of business administration</td>\n",
       "      <td>2020</td>\n",
       "      <td>2022</td>\n",
       "      <td>institute of business administration</td>\n",
       "      <td>/in/hajra-arshad/</td>\n",
       "      <td>adobe photoshop,microsoft excel,microsoft word...</td>\n",
       "      <td>master degree</td>\n",
       "    </tr>\n",
       "    <tr>\n",
       "      <th>2282</th>\n",
       "      <td>alishah saeed</td>\n",
       "      <td>consultechsol</td>\n",
       "      <td>marketing manager</td>\n",
       "      <td>NaN</td>\n",
       "      <td>lahore, punjab, pakistan</td>\n",
       "      <td>bachelor</td>\n",
       "      <td>2015</td>\n",
       "      <td>2019</td>\n",
       "      <td>fast nuces</td>\n",
       "      <td>/in/alishah-saeed-0b503a20b/</td>\n",
       "      <td>sales &amp; marketing,media strategy,solutions mar...</td>\n",
       "      <td>bachelor degree</td>\n",
       "    </tr>\n",
       "  </tbody>\n",
       "</table>\n",
       "<p>2253 rows × 12 columns</p>\n",
       "</div>"
      ],
      "text/plain": [
       "                            Name           Current_Company  \\\n",
       "0                    abrar javed                    upwork   \n",
       "1                 mahrukh fatima  devbunch private limited   \n",
       "2                    neha nadeem                     daraz   \n",
       "3                    abdul rafeh         no joke marketing   \n",
       "4                   areeba ayyaz               keeptruckin   \n",
       "...                          ...                       ...   \n",
       "2278           agha hamza waheed                  carfirst   \n",
       "2279  mian muhammad faizan elahi                     tkxel   \n",
       "2280                ali sulehria                rdx sports   \n",
       "2281                hajra arshad                    online   \n",
       "2282               alishah saeed             consultechsol   \n",
       "\n",
       "                           Current_Job  Total_year  \\\n",
       "0              professional freelancer         0.0   \n",
       "1                  project coordinator         0.0   \n",
       "2                         data analyst         0.0   \n",
       "3          corporate marketing manager         0.0   \n",
       "4           software engineer- backend         0.0   \n",
       "...                                ...         ...   \n",
       "2278             area manager purchase         NaN   \n",
       "2279  sales development representative         NaN   \n",
       "2280            amazon content manager         NaN   \n",
       "2281                  freelance writer         NaN   \n",
       "2282                 marketing manager         NaN   \n",
       "\n",
       "                                job_location  \\\n",
       "0                                   pakistan   \n",
       "1                           lahore, pakistan   \n",
       "2     los angeles, california, united states   \n",
       "3                              united states   \n",
       "4                   lahore, punjab, pakistan   \n",
       "...                                      ...   \n",
       "2278                        lahore, pakistan   \n",
       "2279                lahore, punjab, pakistan   \n",
       "2280                                pakistan   \n",
       "2281          islamabad, islamabad, pakistan   \n",
       "2282                lahore, punjab, pakistan   \n",
       "\n",
       "                             Last_degree Graduation_start_year  \\\n",
       "0     bachelor of electrical engineering                  2015   \n",
       "1      master of business administration                  2014   \n",
       "2           bachelor of computer science                  2016   \n",
       "3                          master degree                  2017   \n",
       "4           bachelor of computer science                  2016   \n",
       "...                                  ...                   ...   \n",
       "2278                     bachelor degree                  2012   \n",
       "2279   master of business administration                  2020   \n",
       "2280   master of business administration                  2019   \n",
       "2281   master of business administration                  2020   \n",
       "2282                            bachelor                  2015   \n",
       "\n",
       "     Graduation_end_year                       Last_University  \\\n",
       "0                   2020                            fast nuces   \n",
       "1                   2018                            fast nuces   \n",
       "2                   2020                            fast nuces   \n",
       "3                   2018                            fast nuces   \n",
       "4                   2020                            fast nuces   \n",
       "...                  ...                                   ...   \n",
       "2278                2017                            fast nuces   \n",
       "2279                2022            lahore school of economics   \n",
       "2280                2021                     bahria university   \n",
       "2281                2022  institute of business administration   \n",
       "2282                2019                            fast nuces   \n",
       "\n",
       "                           ProfileIDS  \\\n",
       "0          /in/abrar-javed-49854b14b/   \n",
       "1       /in/mahrukh-fatima-60b863106/   \n",
       "2                     /in/nehanadeem/   \n",
       "3                        /in/rafeh11/   \n",
       "4         /in/areeba-ayyaz-6948071a3/   \n",
       "...                               ...   \n",
       "2278  /in/agha-hamza-waheed-bb2384b1/   \n",
       "2279  /in/mian-muhammad-faizan-elahi/   \n",
       "2280       /in/ali-sulehria-1661a026/   \n",
       "2281                /in/hajra-arshad/   \n",
       "2282     /in/alishah-saeed-0b503a20b/   \n",
       "\n",
       "                                                 skills           degree  \n",
       "0     management,microsoft excel,customer service,st...  bachelor degree  \n",
       "1     microsoft office,customer service,microsoft ex...  bachelor degree  \n",
       "2     business intelligence (bi),data analysis,data ...  bachelor degree  \n",
       "3     microsoft office,microsoft excel,powerpoint,re...    master degree  \n",
       "4     java,ruby on rails,problem solving,android dev...  bachelor degree  \n",
       "...                                                 ...              ...  \n",
       "2278  microsoft office,team management,auditing,fina...  bachelor degree  \n",
       "2279  business analytics,digital marketing,search en...    master degree  \n",
       "2280                                               none    master degree  \n",
       "2281  adobe photoshop,microsoft excel,microsoft word...    master degree  \n",
       "2282  sales & marketing,media strategy,solutions mar...  bachelor degree  \n",
       "\n",
       "[2253 rows x 12 columns]"
      ]
     },
     "execution_count": 20,
     "metadata": {},
     "output_type": "execute_result"
    }
   ],
   "source": [
    "#df['skills'] = df['skills'].apply(lambda x: x.replace(\"||\", \",\"))\n",
    "#import pandas as pd\n",
    "#df = pd.read_csv('final_Nov_09.csv' , header=0 )\n",
    "ary=[]\n",
    "ary=df.Total_year.to_list()\n",
    "#print(df)\n",
    "new_ary=[]\n",
    "months=['jan','feb','mar','apr','may','jun','jul','aug','sep','oct','nov','dec']\n",
    "\n",
    "n=0\n",
    "f=0\n",
    "for i in ary:\n",
    "    #print (i)\n",
    "    \n",
    "    n=n+1\n",
    "    strs=i\n",
    "    if isinstance(strs, float):  # handling no value\n",
    "        strs=0\n",
    "        #print (0)\n",
    "        new_ary.append(0)\n",
    "        f=f+1\n",
    "        continue\n",
    "        \n",
    "    if len(strs)<10:          #handling less value or error\n",
    "        #print (0)\n",
    "        new_ary.append(0)\n",
    "        f=f+1\n",
    "        continue\n",
    "    strs=strs.lower()\n",
    "    i2=strs.split()\n",
    "    #print ('iiiiii2',i2)\n",
    "    m=0\n",
    "    z=f\n",
    "   \n",
    "    for x in months:     #\n",
    "        yy=2020\n",
    "        a=11\n",
    "        m=m+1\n",
    "        if i2[0]==x:\n",
    "            y=int(i2[1])\n",
    "            j=0\n",
    "            if i2[3]!=\"present\":\n",
    "                for xx in months:\n",
    "                    j=j+1\n",
    "                    if i2[3]==x:\n",
    "                        a=j\n",
    "                        yy=int(i2[4])\n",
    "                        continue\n",
    "            y=yy-y    \n",
    "            if m<=a:\n",
    "                y=y+1\n",
    "            if y==0:\n",
    "                y=1\n",
    "            #print (y)    \n",
    "            new_ary.append(y)\n",
    "            \n",
    "            f=f+1\n",
    "            continue\n",
    "  \n",
    "    if (z==f):\n",
    "            y=1\n",
    "            #print (1)\n",
    "            new_ary.append(1)\n",
    "            continue\n",
    "#print (new_ary)                \n",
    "#print (len(new_ary))\n",
    "\n",
    "df1 = pd.DataFrame(new_ary,columns=['Total_year'])\n",
    "df['Total_year'] = df1['Total_year']\n",
    "print (df)"
   ]
  },
  {
   "cell_type": "code",
   "execution_count": null,
   "id": "6d07356c",
   "metadata": {},
   "outputs": [],
   "source": []
  },
  {
   "cell_type": "code",
   "execution_count": null,
   "id": "17025217",
   "metadata": {},
   "outputs": [],
   "source": []
  },
  {
   "cell_type": "code",
   "execution_count": 21,
   "id": "2f661fbd",
   "metadata": {},
   "outputs": [
    {
     "name": "stderr",
     "output_type": "stream",
     "text": [
      "<ipython-input-21-7abec0ef4560>:1: FutureWarning: The default value of regex will change from True to False in a future version.\n",
      "  df['job_location'] = df.job_location.str.replace(r'(^.*lahore.*$)', 'lahore pakistan')\n",
      "<ipython-input-21-7abec0ef4560>:2: FutureWarning: The default value of regex will change from True to False in a future version.\n",
      "  df['job_location'] = df.job_location.str.replace(r'(^.*faisalabad.*$)', 'faisalabad Pakistan')\n",
      "<ipython-input-21-7abec0ef4560>:3: FutureWarning: The default value of regex will change from True to False in a future version.\n",
      "  df['job_location'] = df.job_location.str.replace(r'(^.*multan.*$)', 'multan Pakistan')\n",
      "<ipython-input-21-7abec0ef4560>:4: FutureWarning: The default value of regex will change from True to False in a future version.\n",
      "  df['job_location'] = df.job_location.str.replace(r'(^.*sialkot.*$)', 'sialkot Pakistan')\n",
      "<ipython-input-21-7abec0ef4560>:5: FutureWarning: The default value of regex will change from True to False in a future version.\n",
      "  df['job_location'] = df.job_location.str.replace(r'(^.*gilgit.*$)', 'gilgit Pakistan')\n",
      "<ipython-input-21-7abec0ef4560>:6: FutureWarning: The default value of regex will change from True to False in a future version.\n",
      "  df['job_location'] = df.job_location.str.replace(r'(^.*kar.*$)', 'karachi pakistan')\n",
      "<ipython-input-21-7abec0ef4560>:7: FutureWarning: The default value of regex will change from True to False in a future version.\n",
      "  df['job_location'] = df.job_location.str.replace(r'(^.*islam.*$)', 'islamabad pakistan')\n",
      "<ipython-input-21-7abec0ef4560>:8: FutureWarning: The default value of regex will change from True to False in a future version.\n",
      "  df['job_location'] = df.job_location.str.replace(r'(^.*rawalpindi.*$)', 'islamabad pakistan')\n",
      "<ipython-input-21-7abec0ef4560>:9: FutureWarning: The default value of regex will change from True to False in a future version.\n",
      "  df['job_location'] = df.job_location.str.replace(r'(^.*quetta.*$)', 'quetta pakistan')\n",
      "<ipython-input-21-7abec0ef4560>:10: FutureWarning: The default value of regex will change from True to False in a future version.\n",
      "  df['job_location'] = df.job_location.str.replace(r'(^.*united states.*$)', 'united states')\n",
      "<ipython-input-21-7abec0ef4560>:11: FutureWarning: The default value of regex will change from True to False in a future version.\n",
      "  df['job_location'] = df.job_location.str.replace(r'(^.*canada.*$)', 'canada')\n",
      "<ipython-input-21-7abec0ef4560>:12: FutureWarning: The default value of regex will change from True to False in a future version.\n",
      "  df['job_location'] = df.job_location.str.replace(r'(^.*peshawar.*$)'or'(^.*khyber pakhtunkhwa.*$)' , 'peshawar')\n",
      "<ipython-input-21-7abec0ef4560>:13: FutureWarning: The default value of regex will change from True to False in a future version.\n",
      "  df['job_location'] = df.job_location.str.replace(r'(^.*khyber pakhtunkhwa.*$)' , 'peshawar')\n"
     ]
    }
   ],
   "source": [
    "df['job_location'] = df.job_location.str.replace(r'(^.*lahore.*$)', 'lahore pakistan')\n",
    "df['job_location'] = df.job_location.str.replace(r'(^.*faisalabad.*$)', 'faisalabad Pakistan')\n",
    "df['job_location'] = df.job_location.str.replace(r'(^.*multan.*$)', 'multan Pakistan')\n",
    "df['job_location'] = df.job_location.str.replace(r'(^.*sialkot.*$)', 'sialkot Pakistan')\n",
    "df['job_location'] = df.job_location.str.replace(r'(^.*gilgit.*$)', 'gilgit Pakistan')\n",
    "df['job_location'] = df.job_location.str.replace(r'(^.*kar.*$)', 'karachi pakistan')\n",
    "df['job_location'] = df.job_location.str.replace(r'(^.*islam.*$)', 'islamabad pakistan')\n",
    "df['job_location'] = df.job_location.str.replace(r'(^.*rawalpindi.*$)', 'islamabad pakistan')\n",
    "df['job_location'] = df.job_location.str.replace(r'(^.*quetta.*$)', 'quetta pakistan')\n",
    "df['job_location'] = df.job_location.str.replace(r'(^.*united states.*$)', 'united states')\n",
    "df['job_location'] = df.job_location.str.replace(r'(^.*canada.*$)', 'canada')\n",
    "df['job_location'] = df.job_location.str.replace(r'(^.*peshawar.*$)'or'(^.*khyber pakhtunkhwa.*$)' , 'peshawar') \n",
    "df['job_location'] = df.job_location.str.replace(r'(^.*khyber pakhtunkhwa.*$)' , 'peshawar')\n",
    "df.Last_degree = df.Last_degree.apply(lambda x: 'pakistan' if 'pakistan' in x and  'peshawar' != x and  'lahore' != x and  'faisalabad' != x and  'karachi' != x and  'rawalpindi' != x and  'quetta' != x and  'islam' != x and  'sialkot' != x and  'multan' != x and  'karachi' != x and  'rawalpindi' != x and  'quetta' != x else x)\n"
   ]
  },
  {
   "cell_type": "code",
   "execution_count": 22,
   "id": "11866f31",
   "metadata": {},
   "outputs": [
    {
     "data": {
      "text/plain": [
       "lahore pakistan                                  36.839769\n",
       "karachi pakistan                                 22.725255\n",
       "pakistan                                         10.075455\n",
       "islamabad pakistan                                6.480249\n",
       "islamabad, pakistan                               5.237461\n",
       "                                                   ...    \n",
       "mea & apac                                        0.044385\n",
       "https://web.facebook.com/gosquashassociation/     0.044385\n",
       "finland                                           0.044385\n",
       "sheikhupura                                       0.044385\n",
       "none                                              0.044385\n",
       "Name: job_location, Length: 138, dtype: float64"
      ]
     },
     "execution_count": 22,
     "metadata": {},
     "output_type": "execute_result"
    }
   ],
   "source": [
    "df['job_location'].value_counts(normalize=True) * 100"
   ]
  },
  {
   "cell_type": "code",
   "execution_count": 23,
   "id": "677c96f0",
   "metadata": {},
   "outputs": [
    {
     "data": {
      "text/plain": [
       "<matplotlib.legend.Legend at 0x1cb96efd580>"
      ]
     },
     "execution_count": 23,
     "metadata": {},
     "output_type": "execute_result"
    },
    {
     "data": {
      "image/png": "[encoded data removed]",
      "text/plain": [
       "<Figure size 432x288 with 1 Axes>"
      ]
     },
     "metadata": {},
     "output_type": "display_data"
    }
   ],
   "source": [
    "pie = df['job_location'].value_counts().nlargest(5).plot(kind=\"pie\", autopct='%1.1f%%', labels=None)\n",
    "pie.set_title(\"Job location of Alumni\", fontsize=18)\n",
    "\n",
    "lahore = mpatches.Patch(color='blue', label='Lahore')\n",
    "karachi = mpatches.Patch(color='orange', label='Karachi')\n",
    "islamabad  = mpatches.Patch(color='green', label='Islamabad')\n",
    "pakistan = mpatches.Patch(color='red', label='Pakistan')\n",
    "unitedstates = mpatches.Patch(color='purple', label='United states')\n",
    "\n",
    "plt.legend(handles=[lahore,karachi,islamabad,pakistan,unitedstates], loc='center left', bbox_to_anchor=(1, 0.5))"
   ]
  },
  {
   "cell_type": "code",
   "execution_count": 24,
   "id": "9604d133",
   "metadata": {},
   "outputs": [
    {
     "data": {
      "text/plain": [
       "Text(0, 0.5, '# of Alumni')"
      ]
     },
     "execution_count": 24,
     "metadata": {},
     "output_type": "execute_result"
    },
    {
     "data": {
      "image/png": "[encoded data removed]",
      "text/plain": [
       "<Figure size 1008x432 with 1 Axes>"
      ]
     },
     "metadata": {
      "needs_background": "light"
     },
     "output_type": "display_data"
    }
   ],
   "source": [
    "bar1 = df['job_location'].value_counts().nlargest(8).plot(kind=\"bar\",figsize=(14,6),color=['black', 'red', 'green', 'blue', 'cyan'])\n",
    "bar1.set_title(\"Top 5 job location of Alumni\", fontsize=18)\n",
    "bar1.set_xlabel(\"job locaton\", fontsize=18);\n",
    "bar1.set_ylabel(\"# of Alumni\", fontsize=18)\n"
   ]
  },
  {
   "cell_type": "code",
   "execution_count": 787,
   "id": "8dbfca9d",
   "metadata": {
    "scrolled": false
   },
   "outputs": [
    {
     "data": {
      "text/plain": [
       "138"
      ]
     },
     "execution_count": 787,
     "metadata": {},
     "output_type": "execute_result"
    }
   ],
   "source": [
    "loc=df['job_location'].unique()\n",
    "loc.sort()\n",
    "len(loc)\n",
    "#loc"
   ]
  },
  {
   "cell_type": "code",
   "execution_count": null,
   "id": "b9d112f9",
   "metadata": {},
   "outputs": [],
   "source": [
    "\n"
   ]
  },
  {
   "cell_type": "code",
   "execution_count": null,
   "id": "0d648bea",
   "metadata": {},
   "outputs": [],
   "source": []
  },
  {
   "cell_type": "code",
   "execution_count": null,
   "id": "45b0446c",
   "metadata": {},
   "outputs": [],
   "source": []
  },
  {
   "cell_type": "code",
   "execution_count": 789,
   "id": "e3077707",
   "metadata": {},
   "outputs": [
    {
     "name": "stdout",
     "output_type": "stream",
     "text": [
      "{'encoding': 'UTF-8-SIG', 'confidence': 1.0, 'language': ''}\n"
     ]
    }
   ],
   "source": [
    "# look at the first ten thousand bytes to guess the character encoding\n",
    "with open(\"./final_Nov_09.csv\", 'rb') as rawdata:\n",
    "    result = chardet.detect(rawdata.read(100))\n",
    "\n",
    "# check what the character encoding might be\n",
    "print(result)"
   ]
  },
  {
   "cell_type": "code",
   "execution_count": 790,
   "id": "54c5e9da",
   "metadata": {},
   "outputs": [
    {
     "data": {
      "text/plain": [
       "(2281, 11)"
      ]
     },
     "execution_count": 790,
     "metadata": {},
     "output_type": "execute_result"
    }
   ],
   "source": [
    "df = pd.read_csv('./final_Nov_09 (3).csv')\n",
    "df.shape"
   ]
  },
  {
   "cell_type": "code",
   "execution_count": 26,
   "id": "44de20a2",
   "metadata": {},
   "outputs": [
    {
     "data": {
      "text/plain": [
       "872"
      ]
     },
     "execution_count": 26,
     "metadata": {},
     "output_type": "execute_result"
    }
   ],
   "source": [
    "# get all the unique values in the 'City' column\n",
    "Current_Job = df['Current_Job'].unique()\n",
    "\n",
    "# sort them alphabetically and then take a closer look\n",
    "\n",
    "len(Current_Job)"
   ]
  },
  {
   "cell_type": "code",
   "execution_count": 27,
   "id": "886414d7",
   "metadata": {},
   "outputs": [],
   "source": [
    "jobs = ['Software engineer', 'Software Developer',\n",
    "'freelancer',\n",
    "'Full-stack developer',\n",
    "'Front end developer','Back end developer','Blockchain Engineer','Cloud Architect','Java developer','DevOps engineer',\n",
    "'UX designer',\n",
    "'Web Developer',\n",
    "'Security Analyst',\n",
    "'Project Manager',\n",
    "'Data scientist',\n",
    "'data analyst','Data Engineer',\n",
    "'Business analyst',\n",
    "'Robotics Engineer',\n",
    "'Cloud computing engineer',\n",
    "'Software quality assurance',\n",
    "'machine learning engineer',\n",
    "'AI Engineer',\n",
    "'Mobile App Developer', \n",
    "'Game Developer',\n",
    "'Computer Programmer',\n",
    "'Database Administrator',\n",
    "'Computer Network Architect',\n",
    "'Network Administrator',\n",
    "'Information Researcher',\n",
    "]"
   ]
  },
  {
   "cell_type": "code",
   "execution_count": 28,
   "id": "e8665b2c",
   "metadata": {},
   "outputs": [],
   "source": [
    "def find_min_ratio(matches):\n",
    "    list_of_jobs = []\n",
    "    for i in matches:\n",
    "        if i[1] > 70 and i[1] < 100:\n",
    "            list_of_jobs.append(i[1])\n",
    "    if len(list_of_jobs) == 0 or len(list_of_jobs) == 1:\n",
    "        return 0\n",
    "    else: \n",
    "        list_of_jobs = Counter(list_of_jobs)\n",
    "        common_elements = list_of_jobs.most_common(5)\n",
    "        last_tuple = min(common_elements,key=lambda item:(-item[1], item[0]))\n",
    "        min_ratio = last_tuple[0]\n",
    "        return min_ratio"
   ]
  },
  {
   "cell_type": "code",
   "execution_count": 29,
   "id": "d4eb755a",
   "metadata": {},
   "outputs": [],
   "source": [
    "def replace_matches_in_column(matches, string_to_match, df, column, min_ratio = 70):\n",
    "    strings = df[column].unique()\n",
    "    close_matches = [matches[0] for matches in matches if matches[1] >= min_ratio]\n",
    "    rows_with_matches = df[column].isin(close_matches)\n",
    "\n",
    "    df.loc[rows_with_matches, column] = string_to_match"
   ]
  },
  {
   "cell_type": "code",
   "execution_count": 30,
   "id": "1f410dee",
   "metadata": {},
   "outputs": [],
   "source": [
    "def replace_matches_in_column(matches, string_to_match, df, column, min_ratio = 70):\n",
    "    strings = df[column].unique()\n",
    "    close_matches = [matches[0] for matches in matches if matches[1] >= min_ratio]\n",
    "    rows_with_matches = df[column].isin(close_matches)\n",
    "\n",
    "    df.loc[rows_with_matches, column] = string_to_match"
   ]
  },
  {
   "cell_type": "code",
   "execution_count": 33,
   "id": "ae19350a",
   "metadata": {},
   "outputs": [
    {
     "data": {
      "text/plain": [
       "138"
      ]
     },
     "execution_count": 33,
     "metadata": {},
     "output_type": "execute_result"
    }
   ],
   "source": [
    "loc=df['job_location'].unique()\n",
    "len(loc)\n"
   ]
  },
  {
   "cell_type": "code",
   "execution_count": 799,
   "id": "bfd27dd4",
   "metadata": {},
   "outputs": [],
   "source": [
    "df.to_csv('./final_Nov.csv')\n"
   ]
  },
  {
   "cell_type": "markdown",
   "id": "a78fb169",
   "metadata": {},
   "source": [
    "# Data Cleaning Challenge: Inconsistent Data Entry"
   ]
  },
  {
   "cell_type": "markdown",
   "id": "3c879f20",
   "metadata": {},
   "source": [
    "# Use fuzzy matching to correct inconsistent data entry"
   ]
  },
  {
   "cell_type": "code",
   "execution_count": null,
   "id": "e3659ec2",
   "metadata": {},
   "outputs": [],
   "source": []
  },
  {
   "cell_type": "code",
   "execution_count": null,
   "id": "e573efbe",
   "metadata": {},
   "outputs": [],
   "source": []
  }
 ],
 "metadata": {
  "kernelspec": {
   "display_name": "Python 3",
   "language": "python",
   "name": "python3"
  },
  "language_info": {
   "codemirror_mode": {
    "name": "ipython",
    "version": 3
   },
   "file_extension": ".py",
   "mimetype": "text/x-python",
   "name": "python",
   "nbconvert_exporter": "python",
   "pygments_lexer": "ipython3",
   "version": "3.8.8"
  }
 },
 "nbformat": 4,
 "nbformat_minor": 5
}
