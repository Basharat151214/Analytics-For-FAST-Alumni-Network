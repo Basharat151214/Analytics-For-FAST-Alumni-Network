{
 "cells": [
  {
   "cell_type": "code",
   "execution_count": 16,
   "id": "d6f301bf",
   "metadata": {},
   "outputs": [],
   "source": [
    "# import libraries\n",
    "import pandas as pd\n",
    "import numpy as np\n",
    "import seaborn as sns\n",
    "import matplotlib.pyplot as plt\n",
    "%matplotlib inline\n",
    "from collections import Counter\n",
    "pd.set_option('display.max_rows', 30)"
   ]
  },
  {
   "cell_type": "code",
   "execution_count": 17,
   "id": "ba423793",
   "metadata": {},
   "outputs": [
    {
     "name": "stderr",
     "output_type": "stream",
     "text": [
      "b'Skipping line 2387: expected 11 fields, saw 37\\n'\n"
     ]
    },
    {
     "data": {
      "text/plain": [
       "(4703, 11)"
      ]
     },
     "execution_count": 17,
     "metadata": {},
     "output_type": "execute_result"
    }
   ],
   "source": [
    "df = pd.read_csv('./Full_data_after_cleaning.csv', error_bad_lines=False)\n",
    "df.shape"
   ]
  },
  {
   "cell_type": "code",
   "execution_count": 18,
   "id": "8fddaed7",
   "metadata": {},
   "outputs": [],
   "source": [
    "# select numerical columns\n",
    "df_numeric = df.select_dtypes(include=[np.number])\n",
    "numeric_cols = df_numeric.columns.values\n",
    "# select non-numeric columns\n",
    "df_non_numeric = df.select_dtypes(exclude=[np.number])\n",
    "non_numeric_cols = df_non_numeric.columns.values"
   ]
  },
  {
   "cell_type": "code",
   "execution_count": 19,
   "id": "b3a3b43a",
   "metadata": {},
   "outputs": [],
   "source": [
    "# % of values missing in each column\n",
    "values_list = list()\n",
    "cols_list = list()\n",
    "for col in df.columns:\n",
    "    pct_missing = np.mean(df[col].isnull())*100\n",
    "    cols_list.append(col)\n",
    "    values_list.append(pct_missing)\n",
    "pct_missing_df = pd.DataFrame()\n",
    "pct_missing_df['col'] = cols_list\n",
    "pct_missing_df['pct_missing'] = values_list"
   ]
  },
  {
   "cell_type": "code",
   "execution_count": 20,
   "id": "5a235275",
   "metadata": {},
   "outputs": [],
   "source": [
    "#we will replace missing values with the mode values of that column.\n",
    "df_non_numeric = df.select_dtypes(exclude=[np.number]) \n",
    "non_numeric_cols = df_non_numeric.columns.values\n",
    "for col in non_numeric_cols:\n",
    "    missing = df[col].isnull()\n",
    "    num_missing = np.sum(missing)\n",
    "    if num_missing > 0:  # impute values only for columns that have missing values\n",
    "        mod = df[col].describe()['top'] # impute with the most frequently occuring value\n",
    "        df[col] = df[col].fillna(mod)"
   ]
  },
  {
   "cell_type": "code",
   "execution_count": 21,
   "id": "ead9770a",
   "metadata": {},
   "outputs": [
    {
     "data": {
      "text/html": [
       "<div>\n",
       "<style scoped>\n",
       "    .dataframe tbody tr th:only-of-type {\n",
       "        vertical-align: middle;\n",
       "    }\n",
       "\n",
       "    .dataframe tbody tr th {\n",
       "        vertical-align: top;\n",
       "    }\n",
       "\n",
       "    .dataframe thead th {\n",
       "        text-align: right;\n",
       "    }\n",
       "</style>\n",
       "<table border=\"1\" class=\"dataframe\">\n",
       "  <thead>\n",
       "    <tr style=\"text-align: right;\">\n",
       "      <th></th>\n",
       "      <th>Name</th>\n",
       "      <th>Current_Company</th>\n",
       "      <th>Current_Job</th>\n",
       "      <th>Experience</th>\n",
       "      <th>job_location</th>\n",
       "      <th>Last_degree</th>\n",
       "      <th>Graduation_start_year</th>\n",
       "      <th>Graduation_end_year</th>\n",
       "      <th>Last_University</th>\n",
       "      <th>ProfileIDS</th>\n",
       "      <th>skills</th>\n",
       "    </tr>\n",
       "  </thead>\n",
       "  <tbody>\n",
       "    <tr>\n",
       "      <th>0</th>\n",
       "      <td>abrar javed</td>\n",
       "      <td>upwork</td>\n",
       "      <td>professional freelancer</td>\n",
       "      <td>1</td>\n",
       "      <td>pakistan</td>\n",
       "      <td>bs electrical engineering</td>\n",
       "      <td>2015</td>\n",
       "      <td>2020</td>\n",
       "      <td>fast nuces</td>\n",
       "      <td>/in/abrar-javed-49854b14b/</td>\n",
       "      <td>management,microsoft excel,customer service,st...</td>\n",
       "    </tr>\n",
       "    <tr>\n",
       "      <th>1</th>\n",
       "      <td>mahrukh fatima</td>\n",
       "      <td>devbunch private limited</td>\n",
       "      <td>project coordinator</td>\n",
       "      <td>1</td>\n",
       "      <td>lahore pakistan</td>\n",
       "      <td>bachelor of business administration (bba)</td>\n",
       "      <td>2014</td>\n",
       "      <td>2018</td>\n",
       "      <td>fast nuces</td>\n",
       "      <td>/in/mahrukh-fatima-60b863106/</td>\n",
       "      <td>microsoft office,customer service,microsoft ex...</td>\n",
       "    </tr>\n",
       "    <tr>\n",
       "      <th>2</th>\n",
       "      <td>neha nadeem</td>\n",
       "      <td>daraz</td>\n",
       "      <td>data analyst</td>\n",
       "      <td>1</td>\n",
       "      <td>united states</td>\n",
       "      <td>bachelor of science in computer science</td>\n",
       "      <td>2016</td>\n",
       "      <td>2020</td>\n",
       "      <td>fast nuces</td>\n",
       "      <td>/in/nehanadeem/</td>\n",
       "      <td>business intelligence (bi),data analysis,data ...</td>\n",
       "    </tr>\n",
       "    <tr>\n",
       "      <th>3</th>\n",
       "      <td>abdul rafeh</td>\n",
       "      <td>no joke marketing</td>\n",
       "      <td>corporate marketing manager</td>\n",
       "      <td>1</td>\n",
       "      <td>united states</td>\n",
       "      <td>master's degree</td>\n",
       "      <td>2017</td>\n",
       "      <td>2018</td>\n",
       "      <td>fast nuces</td>\n",
       "      <td>/in/rafeh11/</td>\n",
       "      <td>microsoft office,microsoft excel,powerpoint,re...</td>\n",
       "    </tr>\n",
       "    <tr>\n",
       "      <th>4</th>\n",
       "      <td>areeba ayyaz</td>\n",
       "      <td>keeptruckin</td>\n",
       "      <td>software engineer- backend</td>\n",
       "      <td>1</td>\n",
       "      <td>lahore pakistan</td>\n",
       "      <td>bachelor of science in computer science</td>\n",
       "      <td>2016</td>\n",
       "      <td>2020</td>\n",
       "      <td>fast nuces</td>\n",
       "      <td>/in/areeba-ayyaz-6948071a3/</td>\n",
       "      <td>java,ruby on rails,problem solving,android dev...</td>\n",
       "    </tr>\n",
       "    <tr>\n",
       "      <th>...</th>\n",
       "      <td>...</td>\n",
       "      <td>...</td>\n",
       "      <td>...</td>\n",
       "      <td>...</td>\n",
       "      <td>...</td>\n",
       "      <td>...</td>\n",
       "      <td>...</td>\n",
       "      <td>...</td>\n",
       "      <td>...</td>\n",
       "      <td>...</td>\n",
       "      <td>...</td>\n",
       "    </tr>\n",
       "    <tr>\n",
       "      <th>4698</th>\n",
       "      <td>nust uni</td>\n",
       "      <td>fast nuces</td>\n",
       "      <td>software engineer</td>\n",
       "      <td>1</td>\n",
       "      <td>lahore pakistan</td>\n",
       "      <td>bachelor's degree</td>\n",
       "      <td>2016</td>\n",
       "      <td>2016</td>\n",
       "      <td>fast nuces</td>\n",
       "      <td>/in/nust-uni-181a20162/</td>\n",
       "      <td>c,java,html,programming,software development,o...</td>\n",
       "    </tr>\n",
       "    <tr>\n",
       "      <th>4699</th>\n",
       "      <td>shayan ahmad</td>\n",
       "      <td>playtech</td>\n",
       "      <td>senior java developer</td>\n",
       "      <td>1</td>\n",
       "      <td>london, england, united kingdom</td>\n",
       "      <td>bachelor of science (bs)</td>\n",
       "      <td>2012</td>\n",
       "      <td>2016</td>\n",
       "      <td>fast nuces</td>\n",
       "      <td>/in/yansha/</td>\n",
       "      <td>c++,c,embedded c,object-oriented programming (...</td>\n",
       "    </tr>\n",
       "    <tr>\n",
       "      <th>4700</th>\n",
       "      <td>hamza sheikh</td>\n",
       "      <td>eers global technologies inc.</td>\n",
       "      <td>advanced embedded developer</td>\n",
       "      <td>2</td>\n",
       "      <td>canada</td>\n",
       "      <td>master of engineering - meng</td>\n",
       "      <td>2018</td>\n",
       "      <td>2019</td>\n",
       "      <td>queen's university - faculty of engineering an...</td>\n",
       "      <td>/in/hamzasheikh876/</td>\n",
       "      <td>communication,design,front end development,ana...</td>\n",
       "    </tr>\n",
       "    <tr>\n",
       "      <th>4701</th>\n",
       "      <td>fizza surahio</td>\n",
       "      <td>wavetec</td>\n",
       "      <td>software quality assurance intern</td>\n",
       "      <td>1</td>\n",
       "      <td>karachi pakistan</td>\n",
       "      <td>bachelor's degree</td>\n",
       "      <td>2018</td>\n",
       "      <td>2021</td>\n",
       "      <td>fast nuces</td>\n",
       "      <td>/in/fizza-surahio-3143511b3/</td>\n",
       "      <td>python,data science,machine learning,research,...</td>\n",
       "    </tr>\n",
       "    <tr>\n",
       "      <th>4702</th>\n",
       "      <td>saba muhammad ali</td>\n",
       "      <td>bell</td>\n",
       "      <td>data scientist</td>\n",
       "      <td>1</td>\n",
       "      <td>canada</td>\n",
       "      <td>master of science - ms</td>\n",
       "      <td>2016</td>\n",
       "      <td>2018</td>\n",
       "      <td>institute of business administration</td>\n",
       "      <td>/in/sabamuhammadali/</td>\n",
       "      <td>none</td>\n",
       "    </tr>\n",
       "  </tbody>\n",
       "</table>\n",
       "<p>4703 rows × 11 columns</p>\n",
       "</div>"
      ],
      "text/plain": [
       "                   Name                Current_Company  \\\n",
       "0           abrar javed                         upwork   \n",
       "1        mahrukh fatima       devbunch private limited   \n",
       "2           neha nadeem                          daraz   \n",
       "3           abdul rafeh              no joke marketing   \n",
       "4          areeba ayyaz                    keeptruckin   \n",
       "...                 ...                            ...   \n",
       "4698           nust uni                     fast nuces   \n",
       "4699       shayan ahmad                       playtech   \n",
       "4700       hamza sheikh  eers global technologies inc.   \n",
       "4701      fizza surahio                        wavetec   \n",
       "4702  saba muhammad ali                           bell   \n",
       "\n",
       "                            Current_Job Experience  \\\n",
       "0               professional freelancer          1   \n",
       "1                   project coordinator          1   \n",
       "2                          data analyst          1   \n",
       "3           corporate marketing manager          1   \n",
       "4            software engineer- backend          1   \n",
       "...                                 ...        ...   \n",
       "4698                  software engineer          1   \n",
       "4699              senior java developer          1   \n",
       "4700        advanced embedded developer          2   \n",
       "4701  software quality assurance intern          1   \n",
       "4702                     data scientist          1   \n",
       "\n",
       "                         job_location  \\\n",
       "0                            pakistan   \n",
       "1                     lahore pakistan   \n",
       "2                       united states   \n",
       "3                       united states   \n",
       "4                     lahore pakistan   \n",
       "...                               ...   \n",
       "4698                  lahore pakistan   \n",
       "4699  london, england, united kingdom   \n",
       "4700                           canada   \n",
       "4701                 karachi pakistan   \n",
       "4702                           canada   \n",
       "\n",
       "                                    Last_degree  Graduation_start_year  \\\n",
       "0                     bs electrical engineering                   2015   \n",
       "1     bachelor of business administration (bba)                   2014   \n",
       "2       bachelor of science in computer science                   2016   \n",
       "3                               master's degree                   2017   \n",
       "4       bachelor of science in computer science                   2016   \n",
       "...                                         ...                    ...   \n",
       "4698                          bachelor's degree                   2016   \n",
       "4699                   bachelor of science (bs)                   2012   \n",
       "4700               master of engineering - meng                   2018   \n",
       "4701                          bachelor's degree                   2018   \n",
       "4702                     master of science - ms                   2016   \n",
       "\n",
       "     Graduation_end_year                                    Last_University  \\\n",
       "0                   2020                                         fast nuces   \n",
       "1                   2018                                         fast nuces   \n",
       "2                   2020                                         fast nuces   \n",
       "3                   2018                                         fast nuces   \n",
       "4                   2020                                         fast nuces   \n",
       "...                  ...                                                ...   \n",
       "4698                2016                                         fast nuces   \n",
       "4699                2016                                         fast nuces   \n",
       "4700                2019  queen's university - faculty of engineering an...   \n",
       "4701                2021                                         fast nuces   \n",
       "4702                2018               institute of business administration   \n",
       "\n",
       "                         ProfileIDS  \\\n",
       "0        /in/abrar-javed-49854b14b/   \n",
       "1     /in/mahrukh-fatima-60b863106/   \n",
       "2                   /in/nehanadeem/   \n",
       "3                      /in/rafeh11/   \n",
       "4       /in/areeba-ayyaz-6948071a3/   \n",
       "...                             ...   \n",
       "4698        /in/nust-uni-181a20162/   \n",
       "4699                    /in/yansha/   \n",
       "4700            /in/hamzasheikh876/   \n",
       "4701   /in/fizza-surahio-3143511b3/   \n",
       "4702           /in/sabamuhammadali/   \n",
       "\n",
       "                                                 skills  \n",
       "0     management,microsoft excel,customer service,st...  \n",
       "1     microsoft office,customer service,microsoft ex...  \n",
       "2     business intelligence (bi),data analysis,data ...  \n",
       "3     microsoft office,microsoft excel,powerpoint,re...  \n",
       "4     java,ruby on rails,problem solving,android dev...  \n",
       "...                                                 ...  \n",
       "4698  c,java,html,programming,software development,o...  \n",
       "4699  c++,c,embedded c,object-oriented programming (...  \n",
       "4700  communication,design,front end development,ana...  \n",
       "4701  python,data science,machine learning,research,...  \n",
       "4702                                               none  \n",
       "\n",
       "[4703 rows x 11 columns]"
      ]
     },
     "execution_count": 21,
     "metadata": {},
     "output_type": "execute_result"
    }
   ],
   "source": [
    "df"
   ]
  },
  {
   "cell_type": "code",
   "execution_count": 25,
   "id": "3f5c2b0f",
   "metadata": {},
   "outputs": [
    {
     "data": {
      "text/html": [
       "<div>\n",
       "<style scoped>\n",
       "    .dataframe tbody tr th:only-of-type {\n",
       "        vertical-align: middle;\n",
       "    }\n",
       "\n",
       "    .dataframe tbody tr th {\n",
       "        vertical-align: top;\n",
       "    }\n",
       "\n",
       "    .dataframe thead th {\n",
       "        text-align: right;\n",
       "    }\n",
       "</style>\n",
       "<table border=\"1\" class=\"dataframe\">\n",
       "  <thead>\n",
       "    <tr style=\"text-align: right;\">\n",
       "      <th></th>\n",
       "      <th>Name</th>\n",
       "      <th>Current_Company</th>\n",
       "      <th>Current_Job</th>\n",
       "      <th>Experience</th>\n",
       "      <th>job_location</th>\n",
       "      <th>Last_degree</th>\n",
       "      <th>Graduation_start_year</th>\n",
       "      <th>Graduation_end_year</th>\n",
       "      <th>Last_University</th>\n",
       "      <th>ProfileIDS</th>\n",
       "      <th>skills</th>\n",
       "    </tr>\n",
       "  </thead>\n",
       "  <tbody>\n",
       "    <tr>\n",
       "      <th>0</th>\n",
       "      <td>abrar javed</td>\n",
       "      <td>upwork</td>\n",
       "      <td>professional freelancer</td>\n",
       "      <td>1</td>\n",
       "      <td>pakistan</td>\n",
       "      <td>bs electrical engineering</td>\n",
       "      <td>2015</td>\n",
       "      <td>2020</td>\n",
       "      <td>fast nuces</td>\n",
       "      <td>/in/abrar-javed-49854b14b/</td>\n",
       "      <td>management,microsoft excel,customer service,st...</td>\n",
       "    </tr>\n",
       "    <tr>\n",
       "      <th>1</th>\n",
       "      <td>mahrukh fatima</td>\n",
       "      <td>devbunch private limited</td>\n",
       "      <td>project coordinator</td>\n",
       "      <td>1</td>\n",
       "      <td>lahore pakistan</td>\n",
       "      <td>bachelor of business administration (bba)</td>\n",
       "      <td>2014</td>\n",
       "      <td>2018</td>\n",
       "      <td>fast nuces</td>\n",
       "      <td>/in/mahrukh-fatima-60b863106/</td>\n",
       "      <td>microsoft office,customer service,microsoft ex...</td>\n",
       "    </tr>\n",
       "    <tr>\n",
       "      <th>2</th>\n",
       "      <td>neha nadeem</td>\n",
       "      <td>daraz</td>\n",
       "      <td>data analyst</td>\n",
       "      <td>1</td>\n",
       "      <td>united states</td>\n",
       "      <td>bachelor of science in computer science</td>\n",
       "      <td>2016</td>\n",
       "      <td>2020</td>\n",
       "      <td>fast nuces</td>\n",
       "      <td>/in/nehanadeem/</td>\n",
       "      <td>business intelligence (bi),data analysis,data ...</td>\n",
       "    </tr>\n",
       "    <tr>\n",
       "      <th>3</th>\n",
       "      <td>abdul rafeh</td>\n",
       "      <td>no joke marketing</td>\n",
       "      <td>corporate marketing manager</td>\n",
       "      <td>1</td>\n",
       "      <td>united states</td>\n",
       "      <td>master's degree</td>\n",
       "      <td>2017</td>\n",
       "      <td>2018</td>\n",
       "      <td>fast nuces</td>\n",
       "      <td>/in/rafeh11/</td>\n",
       "      <td>microsoft office,microsoft excel,powerpoint,re...</td>\n",
       "    </tr>\n",
       "    <tr>\n",
       "      <th>4</th>\n",
       "      <td>areeba ayyaz</td>\n",
       "      <td>keeptruckin</td>\n",
       "      <td>software engineer- backend</td>\n",
       "      <td>1</td>\n",
       "      <td>lahore pakistan</td>\n",
       "      <td>bachelor of science in computer science</td>\n",
       "      <td>2016</td>\n",
       "      <td>2020</td>\n",
       "      <td>fast nuces</td>\n",
       "      <td>/in/areeba-ayyaz-6948071a3/</td>\n",
       "      <td>java,ruby on rails,problem solving,android dev...</td>\n",
       "    </tr>\n",
       "  </tbody>\n",
       "</table>\n",
       "</div>"
      ],
      "text/plain": [
       "             Name           Current_Company                  Current_Job  \\\n",
       "0     abrar javed                    upwork      professional freelancer   \n",
       "1  mahrukh fatima  devbunch private limited          project coordinator   \n",
       "2     neha nadeem                     daraz                 data analyst   \n",
       "3     abdul rafeh         no joke marketing  corporate marketing manager   \n",
       "4    areeba ayyaz               keeptruckin   software engineer- backend   \n",
       "\n",
       "  Experience     job_location                                Last_degree  \\\n",
       "0          1         pakistan                  bs electrical engineering   \n",
       "1          1  lahore pakistan  bachelor of business administration (bba)   \n",
       "2          1    united states    bachelor of science in computer science   \n",
       "3          1    united states                            master's degree   \n",
       "4          1  lahore pakistan    bachelor of science in computer science   \n",
       "\n",
       "   Graduation_start_year Graduation_end_year Last_University  \\\n",
       "0                   2015                2020      fast nuces   \n",
       "1                   2014                2018      fast nuces   \n",
       "2                   2016                2020      fast nuces   \n",
       "3                   2017                2018      fast nuces   \n",
       "4                   2016                2020      fast nuces   \n",
       "\n",
       "                      ProfileIDS  \\\n",
       "0     /in/abrar-javed-49854b14b/   \n",
       "1  /in/mahrukh-fatima-60b863106/   \n",
       "2                /in/nehanadeem/   \n",
       "3                   /in/rafeh11/   \n",
       "4    /in/areeba-ayyaz-6948071a3/   \n",
       "\n",
       "                                              skills  \n",
       "0  management,microsoft excel,customer service,st...  \n",
       "1  microsoft office,customer service,microsoft ex...  \n",
       "2  business intelligence (bi),data analysis,data ...  \n",
       "3  microsoft office,microsoft excel,powerpoint,re...  \n",
       "4  java,ruby on rails,problem solving,android dev...  "
      ]
     },
     "execution_count": 25,
     "metadata": {},
     "output_type": "execute_result"
    }
   ],
   "source": [
    "# dropping duplicates by considering all columns other than ProfileIDS\n",
    "cols_other_than_ProfileIDS = list(df.columns)[-2:]\n",
    "df.drop_duplicates(subset=cols_other_than_ProfileIDS, inplace=True)\n",
    "df.head()"
   ]
  },
  {
   "cell_type": "code",
   "execution_count": 23,
   "id": "9b624490",
   "metadata": {},
   "outputs": [
    {
     "data": {
      "text/plain": [
       "(4703, 11)"
      ]
     },
     "execution_count": 23,
     "metadata": {},
     "output_type": "execute_result"
    }
   ],
   "source": [
    "df.shape"
   ]
  },
  {
   "cell_type": "code",
   "execution_count": 28,
   "id": "9ef2a6b0",
   "metadata": {},
   "outputs": [],
   "source": [
    "df['Name'] = df['Name'].str.lower()\n",
    "df['Current_Company'] = df['Current_Company'].str.lower()\n",
    "df['Current_Job'] = df['Current_Job'].str.lower()\n",
    "df['job_location'] = df['job_location'].str.lower()\n",
    "df['Last_degree'] = df['Last_degree'].str.lower()\n",
    "df['Last_University'] = df['Last_University'].str.lower()\n",
    "df['skills'] = df['skills'].str.lower()\n"
   ]
  },
  {
   "cell_type": "code",
   "execution_count": 29,
   "id": "42feaaf4",
   "metadata": {},
   "outputs": [
    {
     "data": {
      "text/plain": [
       "1951"
      ]
     },
     "execution_count": 29,
     "metadata": {},
     "output_type": "execute_result"
    }
   ],
   "source": [
    "x=df[\"Current_Job\"].unique()\n",
    "len(x)\n",
    "\n"
   ]
  },
  {
   "cell_type": "code",
   "execution_count": 30,
   "id": "fd363dd6",
   "metadata": {},
   "outputs": [
    {
     "name": "stderr",
     "output_type": "stream",
     "text": [
      "C:\\Users\\basha\\.conda\\envs\\myenv\\lib\\site-packages\\fuzzywuzzy\\fuzz.py:11: UserWarning: Using slow pure-python SequenceMatcher. Install python-Levenshtein to remove this warning\n",
      "  warnings.warn('Using slow pure-python SequenceMatcher. Install python-Levenshtein to remove this warning')\n"
     ]
    }
   ],
   "source": [
    "# helpful modules\n",
    "#!pip install fuzzywuzzy\n",
    "import fuzzywuzzy\n",
    "from fuzzywuzzy import process\n",
    "import chardet\n",
    "\n",
    "# set seed for reproducibility\n",
    "#np.random.seed(0)"
   ]
  },
  {
   "cell_type": "code",
   "execution_count": 31,
   "id": "f90e6016",
   "metadata": {},
   "outputs": [
    {
     "name": "stdout",
     "output_type": "stream",
     "text": [
      "{'encoding': 'ascii', 'confidence': 1.0, 'language': ''}\n"
     ]
    }
   ],
   "source": [
    "# look at the first ten thousand bytes to guess the character encoding\n",
    "with open(\"./Full_data_after_cleaning.csv\", 'rb') as rawdata:\n",
    "    result = chardet.detect(rawdata.read(100))\n",
    "\n",
    "# check what the character encoding might be\n",
    "print(result)"
   ]
  },
  {
   "cell_type": "code",
   "execution_count": 33,
   "id": "d0126b6b",
   "metadata": {},
   "outputs": [
    {
     "name": "stderr",
     "output_type": "stream",
     "text": [
      "C:\\Users\\basha\\.conda\\envs\\myenv\\lib\\site-packages\\IPython\\core\\interactiveshell.py:3444: FutureWarning: The error_bad_lines argument has been deprecated and will be removed in a future version.\n",
      "\n",
      "\n",
      "  exec(code_obj, self.user_global_ns, self.user_ns)\n",
      "b'Skipping line 2387: expected 11 fields, saw 37\\n'\n"
     ]
    },
    {
     "data": {
      "text/plain": [
       "(4703, 11)"
      ]
     },
     "execution_count": 33,
     "metadata": {},
     "output_type": "execute_result"
    }
   ],
   "source": [
    "df = pd.read_csv('./Full_data_after_cleaning.csv', error_bad_lines=False)\n",
    "df.shape"
   ]
  },
  {
   "cell_type": "code",
   "execution_count": 34,
   "id": "0af45880",
   "metadata": {},
   "outputs": [
    {
     "data": {
      "text/plain": [
       "1951"
      ]
     },
     "execution_count": 34,
     "metadata": {},
     "output_type": "execute_result"
    }
   ],
   "source": [
    "# get all the unique values in the 'City' column\n",
    "Current_Job = df['Current_Job'].unique()\n",
    "\n",
    "# sort them alphabetically and then take a closer look\n",
    "\n",
    "len(Current_Job)"
   ]
  },
  {
   "cell_type": "code",
   "execution_count": 35,
   "id": "46f08dcb",
   "metadata": {},
   "outputs": [],
   "source": [
    "jobs = ['Software engineer', 'Software Developer',\n",
    "'freelancer',\n",
    "'Full-stack developer',\n",
    "'Front end developer','Back end developer','Blockchain Engineer','Cloud Architect','Java developer','DevOps engineer',\n",
    "'UX designer',\n",
    "'Web Developer',\n",
    "'Security Analyst',\n",
    "'Project Manager',\n",
    "'Data scientist',\n",
    "'data analyst','Data Engineer',\n",
    "'Business analyst',\n",
    "'Robotics Engineer',\n",
    "'Cloud computing engineer',\n",
    "'Software quality assurance',\n",
    "'machine learning engineer',\n",
    "'AI Engineer',\n",
    "'Mobile App Developer', \n",
    "'Game Developer',\n",
    "'Computer Programmer',\n",
    "'Database Administrator',\n",
    "'Computer Network Architect',\n",
    "'Network Administrator',\n",
    "'Information Researcher',\n",
    "]"
   ]
  },
  {
   "cell_type": "code",
   "execution_count": null,
   "id": "00a7c0e8",
   "metadata": {},
   "outputs": [],
   "source": []
  },
  {
   "cell_type": "code",
   "execution_count": 36,
   "id": "5cc87351",
   "metadata": {},
   "outputs": [],
   "source": [
    "\n",
    "def find_min_ratio(matches):\n",
    "    list_of_jobs = []\n",
    "    for i in matches:\n",
    "        if i[1] > 70 and i[1] < 100:\n",
    "            list_of_jobs.append(i[1])\n",
    "    if len(list_of_jobs) == 0 or len(list_of_jobs) == 1:\n",
    "        return 0\n",
    "    else: \n",
    "        list_of_jobs = Counter(list_of_jobs)\n",
    "        common_elements = list_of_jobs.most_common(5)\n",
    "        last_tuple = min(common_elements,key=lambda item:(-item[1], item[0]))\n",
    "        min_ratio = last_tuple[0]\n",
    "        return min_ratio\n",
    "        "
   ]
  },
  {
   "cell_type": "code",
   "execution_count": 37,
   "id": "f4c86c12",
   "metadata": {},
   "outputs": [],
   "source": [
    "def replace_matches_in_column(matches, string_to_match, df, column, min_ratio = 70):\n",
    "    strings = df[column].unique()\n",
    "    close_matches = [matches[0] for matches in matches if matches[1] >= min_ratio]\n",
    "    rows_with_matches = df[column].isin(close_matches)\n",
    "\n",
    "    df.loc[rows_with_matches, column] = string_to_match\n",
    "    \n"
   ]
  },
  {
   "cell_type": "code",
   "execution_count": 38,
   "id": "19f3ef0e",
   "metadata": {},
   "outputs": [],
   "source": [
    "for i in jobs:\n",
    "    #print(i)\n",
    "    matches = fuzzywuzzy.process.extract(i , Current_Job, limit=40, scorer=fuzzywuzzy.fuzz.token_sort_ratio)\n",
    "    min_ratio = find_min_ratio(matches) \n",
    "    if(min_ratio == 0):\n",
    "        continue\n",
    "    else:\n",
    "        replace_matches_in_column(matches, i, df, 'Current_Job', min_ratio)\n"
   ]
  },
  {
   "cell_type": "code",
   "execution_count": null,
   "id": "2732de49",
   "metadata": {},
   "outputs": [],
   "source": []
  },
  {
   "cell_type": "code",
   "execution_count": null,
   "id": "1ad731a5",
   "metadata": {},
   "outputs": [],
   "source": []
  },
  {
   "cell_type": "code",
   "execution_count": null,
   "id": "d9dfbc0d",
   "metadata": {},
   "outputs": [],
   "source": []
  },
  {
   "cell_type": "code",
   "execution_count": null,
   "id": "bfb58684",
   "metadata": {},
   "outputs": [],
   "source": []
  },
  {
   "cell_type": "code",
   "execution_count": null,
   "id": "45e66281",
   "metadata": {},
   "outputs": [],
   "source": []
  },
  {
   "cell_type": "code",
   "execution_count": null,
   "id": "9e033c6b",
   "metadata": {},
   "outputs": [],
   "source": []
  },
  {
   "cell_type": "code",
   "execution_count": 39,
   "id": "f9a5a7af",
   "metadata": {},
   "outputs": [
    {
     "data": {
      "text/plain": [
       "1696"
      ]
     },
     "execution_count": 39,
     "metadata": {},
     "output_type": "execute_result"
    }
   ],
   "source": [
    "# get all the unique values in the 'City' column\n",
    "Current_Job = df['Current_Job'].unique()\n",
    "\n",
    "# sort them alphabetically and then take a closer look\n",
    "\n",
    "len(Current_Job)"
   ]
  },
  {
   "cell_type": "code",
   "execution_count": 41,
   "id": "84fd6643",
   "metadata": {},
   "outputs": [],
   "source": [
    "df.to_csv('./Full_data_after_cleaning.csv')\n"
   ]
  },
  {
   "cell_type": "code",
   "execution_count": null,
   "id": "c7840a88",
   "metadata": {},
   "outputs": [],
   "source": []
  }
 ],
 "metadata": {
  "kernelspec": {
   "display_name": "Python 3 (ipykernel)",
   "language": "python",
   "name": "python3"
  },
  "language_info": {
   "codemirror_mode": {
    "name": "ipython",
    "version": 3
   },
   "file_extension": ".py",
   "mimetype": "text/x-python",
   "name": "python",
   "nbconvert_exporter": "python",
   "pygments_lexer": "ipython3",
   "version": "3.9.7"
  }
 },
 "nbformat": 4,
 "nbformat_minor": 5
}
