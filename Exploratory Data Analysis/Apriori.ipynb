{
 "cells": [
  {
   "cell_type": "code",
   "execution_count": 2,
   "id": "ea065647",
   "metadata": {},
   "outputs": [],
   "source": [
    "#!pip install mlxtend\n",
    "#!pip install apyori\n",
    "\n",
    "import numpy as np\n",
    "import matplotlib.pyplot as plt\n",
    "import pandas as pd\n",
    "from mlxtend.frequent_patterns import apriori\n",
    "from mlxtend.frequent_patterns import association_rules\n",
    "from apyori import apriori"
   ]
  },
  {
   "cell_type": "code",
   "execution_count": 3,
   "id": "9dc9a6ff",
   "metadata": {},
   "outputs": [],
   "source": [
    "store_data = pd.read_csv(\"./final_Nov.csv\")\n",
    "store_data.drop(store_data.columns[[0,1,4,7,8,10]], axis=1, inplace=True)\n",
    "#store_data"
   ]
  },
  {
   "cell_type": "code",
   "execution_count": 4,
   "id": "b750a2b5",
   "metadata": {},
   "outputs": [],
   "source": []
  },
  {
   "cell_type": "code",
   "execution_count": 5,
   "id": "15bfdee3",
   "metadata": {},
   "outputs": [],
   "source": [
    "records =[]\n",
    "for i in range(0,2133):\n",
    "    records.append([str(store_data.values[i,j]) for j in range(0, 6)])\n",
    "    \n",
    "association_rules = apriori(records, min_support=0.0045, min_confidence=0.2, \n",
    "                            min_lift=3, min_length=2) #0.45% min_support\n",
    "association_results = list(association_rules)\n",
    "#association_results"
   ]
  },
  {
   "cell_type": "code",
   "execution_count": 6,
   "id": "3c7534ec",
   "metadata": {},
   "outputs": [
    {
     "name": "stdout",
     "output_type": "stream",
     "text": [
      "9\n"
     ]
    }
   ],
   "source": [
    "print(len(association_results))"
   ]
  },
  {
   "cell_type": "code",
   "execution_count": 7,
   "id": "68c917be",
   "metadata": {},
   "outputs": [
    {
     "name": "stdout",
     "output_type": "stream",
     "text": [
      "RelationRecord(items=frozenset({'Lahore, Punjab, Pakistan', 'Arbisoft'}), support=0.005157055789967183, ordered_statistics=[OrderedStatistic(items_base=frozenset({'Arbisoft'}), items_add=frozenset({'Lahore, Punjab, Pakistan'}), confidence=0.5499999999999999, lift=4.266)])\n"
     ]
    }
   ],
   "source": [
    "print(association_results[0])  "
   ]
  },
  {
   "cell_type": "code",
   "execution_count": 8,
   "id": "088702be",
   "metadata": {},
   "outputs": [
    {
     "name": "stdout",
     "output_type": "stream",
     "text": [
      "Rule: Lahore, Punjab, Pakistan -> Arbisoft\n",
      "Support: 0.005157055789967183\n",
      "Confidence: 0.5499999999999999\n",
      "=====================================\n",
      "Rule: Arbisoft -> Software Engineer\n",
      "Support: 0.006563525550867323\n",
      "Confidence: 0.7\n",
      "=====================================\n",
      "Rule: Folio3 Software -> Karachi, Sindh, Pakistan\n",
      "Support: 0.0046882325363338025\n",
      "Confidence: 0.5882352941176472\n",
      "=====================================\n",
      "Rule: Folio3 Software -> Software Engineer\n",
      "Support: 0.005625879043600563\n",
      "Confidence: 0.7058823529411765\n",
      "=====================================\n",
      "Rule: Lahore, Punjab, Pakistan -> Arbisoft\n",
      "Support: 0.0046882325363338025\n",
      "Confidence: 0.5\n",
      "=====================================\n",
      "Rule: Arbisoft -> Software Engineer\n",
      "Support: 0.006094702297233943\n",
      "Confidence: 0.6499999999999999\n",
      "=====================================\n",
      "Rule: Lahore, Punjab, Pakistan -> Bachelor of Science - BS\n",
      "Support: 0.006094702297233943\n",
      "Confidence: 0.36111111111111116\n",
      "=====================================\n",
      "Rule: Folio3 Software -> Software Engineer\n",
      "Support: 0.005157055789967183\n",
      "Confidence: 0.6470588235294118\n",
      "=====================================\n",
      "Rule: Lahore, Punjab, Pakistan -> Bachelor of Science - BS\n",
      "Support: 0.006094702297233943\n",
      "Confidence: 0.36111111111111116\n",
      "=====================================\n"
     ]
    }
   ],
   "source": [
    "for item in association_results:                                          # to display the rule, the support, the confidence, and lift for each rule in a more clear way:\n",
    "\n",
    "    # first index of the inner list\n",
    "    # Contains base item and add item\n",
    "    pair = item[0] \n",
    "    items = [x for x in pair]\n",
    "    print(\"Rule: \" + items[0] + \" -> \" + items[1])\n",
    "\n",
    "    #second index of the inner list\n",
    "    print(\"Support: \" + str(item[1]))\n",
    "\n",
    "    #third index of the list located at 0th\n",
    "    #of the third index of the inner list\n",
    "\n",
    "    print(\"Confidence: \" + str(item[2][0][2]))\n",
    "    #print(\"Lift: \" + str(item[2][0][3]))\n",
    "    print(\"=====================================\")"
   ]
  },
  {
   "cell_type": "code",
   "execution_count": null,
   "id": "8014efc9",
   "metadata": {},
   "outputs": [],
   "source": []
  },
  {
   "cell_type": "code",
   "execution_count": null,
   "id": "8d2f3e0a",
   "metadata": {},
   "outputs": [],
   "source": []
  }
 ],
 "metadata": {
  "kernelspec": {
   "display_name": "Python 3 (ipykernel)",
   "language": "python",
   "name": "python3"
  },
  "language_info": {
   "codemirror_mode": {
    "name": "ipython",
    "version": 3
   },
   "file_extension": ".py",
   "mimetype": "text/x-python",
   "name": "python",
   "nbconvert_exporter": "python",
   "pygments_lexer": "ipython3",
   "version": "3.9.7"
  }
 },
 "nbformat": 4,
 "nbformat_minor": 5
}
