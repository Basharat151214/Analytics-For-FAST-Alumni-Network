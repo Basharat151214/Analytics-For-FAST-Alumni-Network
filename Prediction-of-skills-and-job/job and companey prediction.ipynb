{
 "cells": [
  {
   "cell_type": "code",
   "execution_count": 16,
   "id": "69236984",
   "metadata": {},
   "outputs": [],
   "source": [
    "#!pip install keras\n",
    "#!pip install pandas\n",
    "#!pip install seaborn\n",
    "\n",
    "#!pip install tensorflow\n",
    "#!pip install --ignore-installed --upgrade tensorflow\n",
    "import pandas as pd\n",
    "import numpy as np\n",
    "import seaborn as sns\n",
    "import matplotlib.pyplot as plt\n",
    "import re"
   ]
  },
  {
   "cell_type": "code",
   "execution_count": 6,
   "id": "3f5d8ca0",
   "metadata": {},
   "outputs": [],
   "source": [
    "df = pd.read_csv('./export_dataframe.csv')\n",
    "#df"
   ]
  },
  {
   "cell_type": "code",
   "execution_count": 7,
   "id": "ed34e1e7",
   "metadata": {},
   "outputs": [],
   "source": [
    "df=df[['Current_Job', 'Current_Company','skills']]\n",
    "#df"
   ]
  },
  {
   "cell_type": "code",
   "execution_count": null,
   "id": "5168bcfd",
   "metadata": {},
   "outputs": [],
   "source": []
  },
  {
   "cell_type": "code",
   "execution_count": 10,
   "id": "d7660c08",
   "metadata": {},
   "outputs": [
    {
     "name": "stderr",
     "output_type": "stream",
     "text": [
      "[nltk_data] Downloading package stopwords to\n",
      "[nltk_data]     C:\\Users\\basha\\AppData\\Roaming\\nltk_data...\n",
      "[nltk_data]   Package stopwords is already up-to-date!\n"
     ]
    },
    {
     "data": {
      "text/plain": [
       "True"
      ]
     },
     "execution_count": 10,
     "metadata": {},
     "output_type": "execute_result"
    }
   ],
   "source": [
    "#!pip install nltk\n",
    "import nltk\n",
    "nltk.download('stopwords')"
   ]
  },
  {
   "cell_type": "code",
   "execution_count": 11,
   "id": "0f59dd95",
   "metadata": {},
   "outputs": [],
   "source": [
    "from nltk.corpus import stopwords\n",
    "stop = stopwords.words('english')\n",
    "\n",
    "df['skills'] = df['skills'].apply(lambda x: ' '.join([word for word in x.split() if word not in (stop)]))"
   ]
  },
  {
   "cell_type": "code",
   "execution_count": 12,
   "id": "311f0bfa",
   "metadata": {},
   "outputs": [],
   "source": [
    "from nltk.stem import PorterStemmer\n",
    "stemmer = PorterStemmer()\n",
    "df['skills'] = df['skills'].apply(lambda x: ' '.join([stemmer.stem(word) for word in x.split()]))"
   ]
  },
  {
   "cell_type": "code",
   "execution_count": 13,
   "id": "9b5b6d04",
   "metadata": {},
   "outputs": [],
   "source": [
    "corpus = list(df['skills'])"
   ]
  },
  {
   "cell_type": "code",
   "execution_count": 17,
   "id": "09b4260d",
   "metadata": {},
   "outputs": [],
   "source": [
    "import tensorflow\n",
    "from tensorflow import keras\n",
    "from keras.preprocessing.text import one_hot\n",
    "\n",
    "# Declaring vocabulary size as 5000\n",
    "voc_size = 5000\n",
    "one_hot_repr = [one_hot(words,voc_size) for words in corpus]"
   ]
  },
  {
   "cell_type": "code",
   "execution_count": null,
   "id": "5787ef1f",
   "metadata": {},
   "outputs": [],
   "source": []
  },
  {
   "cell_type": "code",
   "execution_count": 18,
   "id": "49f9c286",
   "metadata": {},
   "outputs": [],
   "source": [
    "from keras.preprocessing.sequence import pad_sequences \n",
    "sent_length = 70\n",
    "embedded_docs = pad_sequences(one_hot_repr,padding='pre',maxlen=sent_length)"
   ]
  },
  {
   "cell_type": "code",
   "execution_count": 20,
   "id": "f206a926",
   "metadata": {},
   "outputs": [
    {
     "data": {
      "text/html": [
       "<div>\n",
       "<style scoped>\n",
       "    .dataframe tbody tr th:only-of-type {\n",
       "        vertical-align: middle;\n",
       "    }\n",
       "\n",
       "    .dataframe tbody tr th {\n",
       "        vertical-align: top;\n",
       "    }\n",
       "\n",
       "    .dataframe thead th {\n",
       "        text-align: right;\n",
       "    }\n",
       "</style>\n",
       "<table border=\"1\" class=\"dataframe\">\n",
       "  <thead>\n",
       "    <tr style=\"text-align: right;\">\n",
       "      <th></th>\n",
       "      <th>Current_Job</th>\n",
       "      <th>Current_Company</th>\n",
       "      <th>skills</th>\n",
       "      <th>Title_Encoded</th>\n",
       "    </tr>\n",
       "  </thead>\n",
       "  <tbody>\n",
       "    <tr>\n",
       "      <th>0</th>\n",
       "      <td>freelancer</td>\n",
       "      <td>upwork</td>\n",
       "      <td>management,microsoft excel,custom service,stra...</td>\n",
       "      <td>0</td>\n",
       "    </tr>\n",
       "    <tr>\n",
       "      <th>1</th>\n",
       "      <td>project coordinator</td>\n",
       "      <td>devbunch private limited</td>\n",
       "      <td>microsoft office,custom service,microsoft exce...</td>\n",
       "      <td>1</td>\n",
       "    </tr>\n",
       "    <tr>\n",
       "      <th>2</th>\n",
       "      <td>data analyst</td>\n",
       "      <td>daraz</td>\n",
       "      <td>busi intellig (bi),data analysis,data mining,s...</td>\n",
       "      <td>2</td>\n",
       "    </tr>\n",
       "    <tr>\n",
       "      <th>3</th>\n",
       "      <td>corporate marketing manager</td>\n",
       "      <td>no joke marketing</td>\n",
       "      <td>microsoft office,microsoft excel,powerpoint,re...</td>\n",
       "      <td>3</td>\n",
       "    </tr>\n",
       "    <tr>\n",
       "      <th>4</th>\n",
       "      <td>software engineer</td>\n",
       "      <td>keeptruckin</td>\n",
       "      <td>java,rubi rails,problem solving,android develo...</td>\n",
       "      <td>4</td>\n",
       "    </tr>\n",
       "  </tbody>\n",
       "</table>\n",
       "</div>"
      ],
      "text/plain": [
       "                   Current_Job           Current_Company  \\\n",
       "0                   freelancer                    upwork   \n",
       "1          project coordinator  devbunch private limited   \n",
       "2                 data analyst                     daraz   \n",
       "3  corporate marketing manager         no joke marketing   \n",
       "4            software engineer               keeptruckin   \n",
       "\n",
       "                                              skills  Title_Encoded  \n",
       "0  management,microsoft excel,custom service,stra...              0  \n",
       "1  microsoft office,custom service,microsoft exce...              1  \n",
       "2  busi intellig (bi),data analysis,data mining,s...              2  \n",
       "3  microsoft office,microsoft excel,powerpoint,re...              3  \n",
       "4  java,rubi rails,problem solving,android develo...              4  "
      ]
     },
     "execution_count": 20,
     "metadata": {},
     "output_type": "execute_result"
    }
   ],
   "source": [
    "import numpy as np\n",
    "data = np.arange(0, 2133)\n",
    "data = pd.Series(data)\n",
    "df['Title_Encoded']=data\n",
    "df.head()"
   ]
  },
  {
   "cell_type": "code",
   "execution_count": null,
   "id": "8e351cb0",
   "metadata": {},
   "outputs": [],
   "source": []
  },
  {
   "cell_type": "code",
   "execution_count": 21,
   "id": "6003168b",
   "metadata": {},
   "outputs": [],
   "source": [
    "y = df['Title_Encoded']\n",
    "X_final=np.array(embedded_docs)\n",
    "y_final=np.array(y)"
   ]
  },
  {
   "cell_type": "code",
   "execution_count": 23,
   "id": "dcaf591e",
   "metadata": {},
   "outputs": [],
   "source": [
    "from sklearn.model_selection import train_test_split\n",
    "X_train, X_test, y_train, y_test = train_test_split(X_final, y_final, test_size=0.33, random_state=30)"
   ]
  },
  {
   "cell_type": "code",
   "execution_count": 24,
   "id": "46dc3be9",
   "metadata": {},
   "outputs": [],
   "source": [
    "X_train = X_final\n",
    "y_train = y_final"
   ]
  },
  {
   "cell_type": "code",
   "execution_count": null,
   "id": "0c2ca5ac",
   "metadata": {},
   "outputs": [],
   "source": []
  },
  {
   "cell_type": "code",
   "execution_count": 27,
   "id": "3f59380f",
   "metadata": {},
   "outputs": [
    {
     "name": "stdout",
     "output_type": "stream",
     "text": [
      "Model: \"sequential_1\"\n",
      "_________________________________________________________________\n",
      " Layer (type)                Output Shape              Param #   \n",
      "=================================================================\n",
      " embedding_1 (Embedding)     (None, 70, 70)            350000    \n",
      "                                                                 \n",
      " lstm_1 (LSTM)               (None, 100)               68400     \n",
      "                                                                 \n",
      " dense_2 (Dense)             (None, 64)                6464      \n",
      "                                                                 \n",
      " dense_3 (Dense)             (None, 2133)              138645    \n",
      "                                                                 \n",
      "=================================================================\n",
      "Total params: 563,509\n",
      "Trainable params: 563,509\n",
      "Non-trainable params: 0\n",
      "_________________________________________________________________\n",
      "None\n"
     ]
    }
   ],
   "source": [
    "from tensorflow.keras.layers import Embedding\n",
    "from tensorflow.keras.layers import Dense\n",
    "from tensorflow.keras.layers import LSTM\n",
    "from tensorflow.keras.layers import Dropout\n",
    "from keras.models import Sequential\n",
    "from keras import layers\n",
    "from keras import regularizers\n",
    "embedding_vector_features=70\n",
    "model=Sequential()\n",
    "\n",
    "model.add(Embedding(voc_size,embedding_vector_features,input_length=sent_length))\n",
    "model.add(LSTM(100))\n",
    "model.add(layers.Dense(64, activation='relu'))\n",
    "model.add(Dense(2133,activation='softmax'))\n",
    "model.compile(loss='categorical_crossentropy',optimizer='rmsprop',metrics=['accuracy'])\n",
    "\n",
    "\n",
    "print(model.summary())"
   ]
  },
  {
   "cell_type": "code",
   "execution_count": 29,
   "id": "fcf254a5",
   "metadata": {},
   "outputs": [],
   "source": [
    "from tensorflow.keras.utils import to_categorical\n",
    "from sklearn.preprocessing import LabelEncoder\n",
    "y_train_oh = to_categorical(y_train,num_classes=2133)\n",
    "y_test_oh = to_categorical(y_test,num_classes=2133)"
   ]
  },
  {
   "cell_type": "code",
   "execution_count": 30,
   "id": "f376620e",
   "metadata": {},
   "outputs": [
    {
     "name": "stdout",
     "output_type": "stream",
     "text": [
      "Epoch 1/40\n",
      "67/67 [==============================] - 8s 76ms/step - loss: 7.6774 - accuracy: 0.0000e+00 - val_loss: 7.6658 - val_accuracy: 0.0014\n",
      "Epoch 2/40\n",
      "67/67 [==============================] - 5s 69ms/step - loss: 7.6719 - accuracy: 0.0000e+00 - val_loss: 7.6507 - val_accuracy: 0.0043\n",
      "Epoch 3/40\n",
      "67/67 [==============================] - 5s 68ms/step - loss: 7.6396 - accuracy: 0.0000e+00 - val_loss: 7.5865 - val_accuracy: 0.0099\n",
      "Epoch 4/40\n",
      "67/67 [==============================] - 6s 82ms/step - loss: 7.4517 - accuracy: 4.6882e-04 - val_loss: 7.2479 - val_accuracy: 0.0085\n",
      "Epoch 5/40\n",
      "67/67 [==============================] - 6s 87ms/step - loss: 7.0923 - accuracy: 4.6882e-04 - val_loss: 6.7525 - val_accuracy: 0.0071\n",
      "Epoch 6/40\n",
      "67/67 [==============================] - 6s 84ms/step - loss: 6.6236 - accuracy: 9.3765e-04 - val_loss: 6.1896 - val_accuracy: 0.0227\n",
      "Epoch 7/40\n",
      "67/67 [==============================] - 5s 79ms/step - loss: 6.0893 - accuracy: 0.0056 - val_loss: 5.5466 - val_accuracy: 0.0554\n",
      "Epoch 8/40\n",
      "67/67 [==============================] - 5s 75ms/step - loss: 5.5163 - accuracy: 0.0164 - val_loss: 4.8780 - val_accuracy: 0.1392\n",
      "Epoch 9/40\n",
      "67/67 [==============================] - 5s 78ms/step - loss: 4.9394 - accuracy: 0.0450 - val_loss: 4.2095 - val_accuracy: 0.2287\n",
      "Epoch 10/40\n",
      "67/67 [==============================] - 6s 85ms/step - loss: 4.3665 - accuracy: 0.0769 - val_loss: 4.0812 - val_accuracy: 0.1619\n",
      "Epoch 11/40\n",
      "67/67 [==============================] - 6s 83ms/step - loss: 3.8443 - accuracy: 0.1388 - val_loss: 3.2305 - val_accuracy: 0.4105\n",
      "Epoch 12/40\n",
      "67/67 [==============================] - 5s 76ms/step - loss: 3.3603 - accuracy: 0.2232 - val_loss: 2.6265 - val_accuracy: 0.5824\n",
      "Epoch 13/40\n",
      "67/67 [==============================] - 5s 70ms/step - loss: 2.9228 - accuracy: 0.3127 - val_loss: 2.1412 - val_accuracy: 0.6705\n",
      "Epoch 14/40\n",
      "67/67 [==============================] - 6s 88ms/step - loss: 2.5128 - accuracy: 0.3957 - val_loss: 1.7510 - val_accuracy: 0.7898\n",
      "Epoch 15/40\n",
      "67/67 [==============================] - 6s 83ms/step - loss: 2.1529 - accuracy: 0.4904 - val_loss: 1.4449 - val_accuracy: 0.8409\n",
      "Epoch 16/40\n",
      "67/67 [==============================] - 5s 76ms/step - loss: 1.8341 - accuracy: 0.5617 - val_loss: 1.2987 - val_accuracy: 0.8168s - loss: 1.5 - ETA: 1s - - ETA: 0s - loss: 1.8314 - accuracy: 0.\n",
      "Epoch 17/40\n",
      "67/67 [==============================] - 6s 83ms/step - loss: 1.5709 - accuracy: 0.6320 - val_loss: 0.9743 - val_accuracy: 0.9034\n",
      "Epoch 18/40\n",
      "67/67 [==============================] - 6s 87ms/step - loss: 1.3488 - accuracy: 0.6934 - val_loss: 0.8214 - val_accuracy: 0.9233\n",
      "Epoch 19/40\n",
      "67/67 [==============================] - 5s 80ms/step - loss: 1.1670 - accuracy: 0.7309 - val_loss: 0.6500 - val_accuracy: 0.9460ss: 1.085\n",
      "Epoch 20/40\n",
      "67/67 [==============================] - 5s 73ms/step - loss: 0.9823 - accuracy: 0.7918 - val_loss: 0.6933 - val_accuracy: 0.9119\n",
      "Epoch 21/40\n",
      "67/67 [==============================] - 5s 75ms/step - loss: 0.8651 - accuracy: 0.8115 - val_loss: 0.4421 - val_accuracy: 0.9702\n",
      "Epoch 22/40\n",
      "67/67 [==============================] - 5s 72ms/step - loss: 0.7389 - accuracy: 0.8373 - val_loss: 0.4269 - val_accuracy: 0.9645\n",
      "Epoch 23/40\n",
      "67/67 [==============================] - 5s 71ms/step - loss: 0.6612 - accuracy: 0.8575 - val_loss: 0.3457 - val_accuracy: 0.9744\n",
      "Epoch 24/40\n",
      "67/67 [==============================] - 5s 73ms/step - loss: 0.5746 - accuracy: 0.8734 - val_loss: 0.2640 - val_accuracy: 0.9858\n",
      "Epoch 25/40\n",
      "67/67 [==============================] - 5s 71ms/step - loss: 0.4991 - accuracy: 0.8955 - val_loss: 0.2694 - val_accuracy: 0.9872\n",
      "Epoch 26/40\n",
      "67/67 [==============================] - 5s 71ms/step - loss: 0.4522 - accuracy: 0.9105 - val_loss: 0.2109 - val_accuracy: 0.9901\n",
      "Epoch 27/40\n",
      "67/67 [==============================] - 5s 69ms/step - loss: 0.3960 - accuracy: 0.9203 - val_loss: 0.1721 - val_accuracy: 0.9915\n",
      "Epoch 28/40\n",
      "67/67 [==============================] - 5s 71ms/step - loss: 0.3543 - accuracy: 0.9259 - val_loss: 0.1583 - val_accuracy: 0.9915\n",
      "Epoch 29/40\n",
      "67/67 [==============================] - 5s 69ms/step - loss: 0.3038 - accuracy: 0.9456 - val_loss: 0.1474 - val_accuracy: 0.9915\n",
      "Epoch 30/40\n",
      "67/67 [==============================] - 5s 70ms/step - loss: 0.2735 - accuracy: 0.9451 - val_loss: 0.1152 - val_accuracy: 0.9943\n",
      "Epoch 31/40\n",
      "67/67 [==============================] - 5s 70ms/step - loss: 0.2499 - accuracy: 0.9503 - val_loss: 0.1038 - val_accuracy: 0.9929\n",
      "Epoch 32/40\n",
      "67/67 [==============================] - 5s 71ms/step - loss: 0.2274 - accuracy: 0.9583 - val_loss: 0.0970 - val_accuracy: 0.9943\n",
      "Epoch 33/40\n",
      "67/67 [==============================] - 5s 72ms/step - loss: 0.2024 - accuracy: 0.9639 - val_loss: 0.0823 - val_accuracy: 0.9986\n",
      "Epoch 34/40\n",
      "67/67 [==============================] - 5s 75ms/step - loss: 0.1826 - accuracy: 0.9648 - val_loss: 0.0769 - val_accuracy: 0.9972\n",
      "Epoch 35/40\n",
      "67/67 [==============================] - 5s 75ms/step - loss: 0.1590 - accuracy: 0.9747 - val_loss: 0.0885 - val_accuracy: 0.9901\n",
      "Epoch 36/40\n",
      "67/67 [==============================] - 5s 78ms/step - loss: 0.1496 - accuracy: 0.9756 - val_loss: 0.0605 - val_accuracy: 1.0000\n",
      "Epoch 37/40\n",
      "67/67 [==============================] - 5s 75ms/step - loss: 0.1309 - accuracy: 0.9780 - val_loss: 0.0587 - val_accuracy: 0.9986\n",
      "Epoch 38/40\n",
      "67/67 [==============================] - 5s 78ms/step - loss: 0.1278 - accuracy: 0.9817 - val_loss: 0.0466 - val_accuracy: 0.9972\n",
      "Epoch 39/40\n",
      "67/67 [==============================] - 5s 78ms/step - loss: 0.1057 - accuracy: 0.9798 - val_loss: 0.0407 - val_accuracy: 1.0000\n",
      "Epoch 40/40\n",
      "67/67 [==============================] - 5s 76ms/step - loss: 0.1025 - accuracy: 0.9831 - val_loss: 0.0389 - val_accuracy: 0.9986\n"
     ]
    },
    {
     "data": {
      "text/plain": [
       "<keras.callbacks.History at 0x1c9a8cddc10>"
      ]
     },
     "execution_count": 30,
     "metadata": {},
     "output_type": "execute_result"
    }
   ],
   "source": [
    "### Finally Training\n",
    "model.fit(X_train,y_train_oh,validation_data=(X_test,y_test_oh),epochs=40,batch_size=32)"
   ]
  },
  {
   "cell_type": "code",
   "execution_count": 31,
   "id": "432856aa",
   "metadata": {},
   "outputs": [],
   "source": [
    "def pred_result(data,model):\n",
    "\n",
    "    # Perform cleaning of input data before prediction\n",
    "    # Remove Stop Word\n",
    "    \n",
    "    data = data.apply(lambda x: ' '.join([word for word in x.split() if word not in (stop)]))\n",
    "\n",
    "    # Lemmatization\n",
    "    data = data.apply(lambda x: ' '.join([stemmer.stem(word) for word in x.split()]))\n",
    "    data_list = list(data)\n",
    "    voc_size = 5000\n",
    "    one_hot_repr = [one_hot(words,voc_size) for words in data_list]\n",
    "    sent_length = 70\n",
    "    embedded_docs = pad_sequences(one_hot_repr,padding='pre',maxlen=sent_length)    \n",
    "    X_pred=np.array(embedded_docs)\n",
    "    model.fit(X_train,y_train_oh,epochs=40,batch_size=32, verbose=0)\n",
    "    results = model.predict(X_pred)\n",
    "    return results"
   ]
  },
  {
   "cell_type": "code",
   "execution_count": 32,
   "id": "83c1fbfd",
   "metadata": {},
   "outputs": [],
   "source": [
    "result = pred_result(df['skills'],model)\n"
   ]
  },
  {
   "cell_type": "code",
   "execution_count": 33,
   "id": "1d6631ee",
   "metadata": {},
   "outputs": [],
   "source": [
    "pred_Job_title = []\n",
    "pred_Company = []\n",
    "for i in range(len(result)):\n",
    "    pred_Job_title.append(df.iloc[i,0])\n",
    "    pred_Company.append(df.iloc[i,1])"
   ]
  },
  {
   "cell_type": "code",
   "execution_count": 34,
   "id": "c4089a75",
   "metadata": {},
   "outputs": [
    {
     "data": {
      "text/html": [
       "<div>\n",
       "<style scoped>\n",
       "    .dataframe tbody tr th:only-of-type {\n",
       "        vertical-align: middle;\n",
       "    }\n",
       "\n",
       "    .dataframe tbody tr th {\n",
       "        vertical-align: top;\n",
       "    }\n",
       "\n",
       "    .dataframe thead th {\n",
       "        text-align: right;\n",
       "    }\n",
       "</style>\n",
       "<table border=\"1\" class=\"dataframe\">\n",
       "  <thead>\n",
       "    <tr style=\"text-align: right;\">\n",
       "      <th></th>\n",
       "      <th>Skills</th>\n",
       "      <th>Predicted_Title</th>\n",
       "      <th>Predicted_Company</th>\n",
       "    </tr>\n",
       "  </thead>\n",
       "  <tbody>\n",
       "    <tr>\n",
       "      <th>0</th>\n",
       "      <td>management,microsoft excel,custom service,stra...</td>\n",
       "      <td>freelancer</td>\n",
       "      <td>upwork</td>\n",
       "    </tr>\n",
       "    <tr>\n",
       "      <th>1</th>\n",
       "      <td>microsoft office,custom service,microsoft exce...</td>\n",
       "      <td>project coordinator</td>\n",
       "      <td>devbunch private limited</td>\n",
       "    </tr>\n",
       "    <tr>\n",
       "      <th>2</th>\n",
       "      <td>busi intellig (bi),data analysis,data mining,s...</td>\n",
       "      <td>data analyst</td>\n",
       "      <td>daraz</td>\n",
       "    </tr>\n",
       "    <tr>\n",
       "      <th>3</th>\n",
       "      <td>microsoft office,microsoft excel,powerpoint,re...</td>\n",
       "      <td>corporate marketing manager</td>\n",
       "      <td>no joke marketing</td>\n",
       "    </tr>\n",
       "    <tr>\n",
       "      <th>4</th>\n",
       "      <td>java,rubi rails,problem solving,android develo...</td>\n",
       "      <td>software engineer</td>\n",
       "      <td>keeptruckin</td>\n",
       "    </tr>\n",
       "  </tbody>\n",
       "</table>\n",
       "</div>"
      ],
      "text/plain": [
       "                                              Skills  \\\n",
       "0  management,microsoft excel,custom service,stra...   \n",
       "1  microsoft office,custom service,microsoft exce...   \n",
       "2  busi intellig (bi),data analysis,data mining,s...   \n",
       "3  microsoft office,microsoft excel,powerpoint,re...   \n",
       "4  java,rubi rails,problem solving,android develo...   \n",
       "\n",
       "               Predicted_Title         Predicted_Company  \n",
       "0                   freelancer                    upwork  \n",
       "1          project coordinator  devbunch private limited  \n",
       "2                 data analyst                     daraz  \n",
       "3  corporate marketing manager         no joke marketing  \n",
       "4            software engineer               keeptruckin  "
      ]
     },
     "execution_count": 34,
     "metadata": {},
     "output_type": "execute_result"
    }
   ],
   "source": [
    "predicted_Title = pd.Series(pred_Job_title)\n",
    "predicted_Company = pd.Series(pred_Company)\n",
    "\n",
    "data = {'Skills':  list(df['skills']),\n",
    "        'Predicted_Title': predicted_Title,\n",
    "        'Predicted_Company': predicted_Company \n",
    "        }\n",
    "\n",
    "df_predicted = pd.DataFrame (data, columns = ['Skills','Predicted_Title','Predicted_Company'])\n",
    "\n",
    "\n",
    "\n",
    "df_predicted.head()"
   ]
  },
  {
   "cell_type": "code",
   "execution_count": null,
   "id": "5caa9dbd",
   "metadata": {},
   "outputs": [],
   "source": []
  },
  {
   "cell_type": "code",
   "execution_count": 36,
   "id": "267ff543",
   "metadata": {},
   "outputs": [],
   "source": [
    "df_predicted.to_csv('./Prediction_of_skills_and_job.csv')"
   ]
  },
  {
   "cell_type": "code",
   "execution_count": null,
   "id": "71c122e2",
   "metadata": {},
   "outputs": [],
   "source": []
  }
 ],
 "metadata": {
  "kernelspec": {
   "display_name": "Python 3 (ipykernel)",
   "language": "python",
   "name": "python3"
  },
  "language_info": {
   "codemirror_mode": {
    "name": "ipython",
    "version": 3
   },
   "file_extension": ".py",
   "mimetype": "text/x-python",
   "name": "python",
   "nbconvert_exporter": "python",
   "pygments_lexer": "ipython3",
   "version": "3.9.7"
  }
 },
 "nbformat": 4,
 "nbformat_minor": 5
}
